{
 "cells": [
  {
   "cell_type": "code",
   "execution_count": 1,
   "id": "5827900a-6328-4178-ac86-291d2b8e2f24",
   "metadata": {},
   "outputs": [
    {
     "name": "stdout",
     "output_type": "stream",
     "text": [
      "['/share/stocks_to_numpy_file.ipynb', '/share/all_stocks.npy', '/share/input.txt', '/share/us-stock-dataset', '/share/Transformers1', '/share/short_stocks.npy']\n",
      "True\n"
     ]
    }
   ],
   "source": [
    "import glob\n",
    "print(glob.glob(\"/share/*\"))\n",
    "\n",
    "import numpy as np\n",
    "import torch\n",
    "import faiss\n",
    "from torch_cluster import knn_graph\n",
    "from timeseries.timeseries_transformer import TimeseriesDataloader\n",
    "from t3_karpathy.commons.commons import z_scale, diff, extract_sliding_windows, standardize\n",
    "from torch_cluster import knn\n",
    "print(torch.cuda.is_available())\n",
    "directory_path = '/share/us-stock-dataset/Data/Stocks'\n"
   ]
  },
  {
   "cell_type": "code",
   "execution_count": 2,
   "id": "fe2f7a19-86d1-4d73-a18b-e81c50bc22e5",
   "metadata": {},
   "outputs": [
    {
     "data": {
      "text/plain": [
       "torch.Size([6805, 5283])"
      ]
     },
     "execution_count": 2,
     "metadata": {},
     "output_type": "execute_result"
    }
   ],
   "source": [
    "data_loader_data=torch.tensor(np.load('/share/all_stocks.npy')).transpose(0, 1).cpu()\n",
    "data_loader_data.shape"
   ]
  },
  {
   "cell_type": "code",
   "execution_count": 3,
   "id": "c08e6f05-65c5-4f46-900b-8186988228ee",
   "metadata": {},
   "outputs": [
    {
     "data": {
      "text/plain": [
       "torch.Size([6805, 1])"
      ]
     },
     "execution_count": 3,
     "metadata": {},
     "output_type": "execute_result"
    }
   ],
   "source": [
    "torch.mean(data_loader_data, dim=1, keepdim=True).shape"
   ]
  },
  {
   "cell_type": "code",
   "execution_count": 4,
   "id": "cbad0c39-1bd8-4352-8bcd-ff9ef19654d2",
   "metadata": {},
   "outputs": [],
   "source": [
    "\n",
    "def standardize(data, dim=-1):\n",
    "    mean = torch.mean(data, dim=dim, keepdim=True)\n",
    "    std = torch.std(data, dim=dim, keepdim=True)\n",
    "    data_standardized = (data - mean) / (std + 1e-7)\n",
    "    return data_standardized"
   ]
  },
  {
   "cell_type": "code",
   "execution_count": 5,
   "id": "cb546f66-4233-4ccf-962f-a4d0808b9e23",
   "metadata": {},
   "outputs": [],
   "source": [
    "#diff_data = diff(data_loader_data, 1)\n",
    "#data = z_scale(diff_data, 1)\n",
    "data = standardize(data_loader_data, -1)"
   ]
  },
  {
   "cell_type": "code",
   "execution_count": 6,
   "id": "9dd64f4c-e94d-4677-bb55-553e56dfa2a4",
   "metadata": {},
   "outputs": [
    {
     "data": {
      "text/plain": [
       "tensor(1.)"
      ]
     },
     "execution_count": 6,
     "metadata": {},
     "output_type": "execute_result"
    }
   ],
   "source": [
    "torch.std(data[2])"
   ]
  },
  {
   "cell_type": "code",
   "execution_count": 7,
   "id": "f2d92649-d0dc-411c-a9bb-15f9fafbc8b9",
   "metadata": {},
   "outputs": [
    {
     "name": "stdout",
     "output_type": "stream",
     "text": [
      "torch.Size([6805, 5283, 1])\n"
     ]
    }
   ],
   "source": [
    "window_size = 1\n",
    "\n",
    "windowed=extract_sliding_windows(data, window_size)\n",
    "\n",
    "print(windowed.shape)\n"
   ]
  },
  {
   "cell_type": "code",
   "execution_count": 8,
   "id": "903c852d-88da-4fd9-a313-bb91bd7fd8b3",
   "metadata": {},
   "outputs": [
    {
     "name": "stdout",
     "output_type": "stream",
     "text": [
      "torch.Size([35950815, 1])\n"
     ]
    }
   ],
   "source": [
    "flat_windowed = windowed.reshape(windowed.shape[0]* windowed.shape[1], -1)\n",
    "print(flat_windowed.shape)"
   ]
  },
  {
   "cell_type": "code",
   "execution_count": null,
   "id": "cebf888c-f979-4654-a07c-38c8e0fba0a8",
   "metadata": {},
   "outputs": [],
   "source": [
    "def kmeans_sliding_windows(flat_windows, num_clusters=1024):\n",
    "  \n",
    "    windows_np = flat_windows.cpu().numpy()\n",
    "    \n",
    "    kmeans_model = faiss.Kmeans(flat_windows.size(1), num_clusters, niter=20, verbose=True, max_points_per_centroid=10000000)\n",
    "    \n",
    "    kmeans_model.train(windows_np)\n",
    "    \n",
    "    error = kmeans_model.obj[-1]  # Get the last objective value    \n",
    "\n",
    "    n = flat_windows.shape[0]  # Number of data points\n",
    "    mse = error / n\n",
    "    rmse = mse ** 0.5\n",
    "\n",
    "    _, cluster_assignment = kmeans_model.index.search(windows_np, 1)\n",
    "    \n",
    "    return torch.from_numpy(cluster_assignment.reshape(-1)), torch.from_numpy(kmeans_model.centroids), rmse\n",
    "\n",
    "cluster_assignment, centroids, error = kmeans_sliding_windows(flat_windowed)\n",
    "\n",
    "print(centroids.shape)\n",
    "\n",
    "print(\"Clustering error:\", error)\n"
   ]
  },
  {
   "cell_type": "code",
   "execution_count": null,
   "id": "127d800f-fe8f-4911-8dce-2ff1b1f7b5b3",
   "metadata": {},
   "outputs": [],
   "source": [
    "def calculate_cluster_errors(flat_windows, cluster_assignment, centroids):   \n",
    "    assigned_centroids = centroids[cluster_assignment.squeeze().long()]\n",
    "    squared_errors = ((flat_windows - assigned_centroids) ** 2).sum(dim=1)\n",
    "    mse = squared_errors.mean()\n",
    "    rmse = mse ** 0.5\n",
    "    return rmse\n",
    "\n",
    "# Using the function\n",
    "errors = calculate_cluster_errors(flat_windowed, cluster_assignment, centroids)\n",
    "print(\"Average error per data point:\", errors)\n"
   ]
  },
  {
   "cell_type": "code",
   "execution_count": null,
   "id": "ff950c4d-2516-4963-aae8-25cdb747ae2d",
   "metadata": {},
   "outputs": [],
   "source": [
    "centroids.shape"
   ]
  },
  {
   "cell_type": "code",
   "execution_count": null,
   "id": "066338f2-4805-48da-9471-5d75210e81c5",
   "metadata": {},
   "outputs": [],
   "source": []
  }
 ],
 "metadata": {
  "kernelspec": {
   "display_name": "Python 3 (ipykernel)",
   "language": "python",
   "name": "python3"
  },
  "language_info": {
   "codemirror_mode": {
    "name": "ipython",
    "version": 3
   },
   "file_extension": ".py",
   "mimetype": "text/x-python",
   "name": "python",
   "nbconvert_exporter": "python",
   "pygments_lexer": "ipython3",
   "version": "3.10.12"
  }
 },
 "nbformat": 4,
 "nbformat_minor": 5
}
