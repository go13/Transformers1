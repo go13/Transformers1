{
 "cells": [
  {
   "cell_type": "code",
   "execution_count": 1,
   "id": "5827900a-6328-4178-ac86-291d2b8e2f24",
   "metadata": {},
   "outputs": [
    {
     "name": "stdout",
     "output_type": "stream",
     "text": [
      "['/share/us-stock-dataset', '/share/Transformers1']\n",
      "True\n"
     ]
    }
   ],
   "source": [
    "import glob\n",
    "print(glob.glob(\"/share/*\"))\n",
    "\n",
    "import torch\n",
    "import faiss\n",
    "from torch_cluster import knn_graph\n",
    "from timeseries.timeseries_transformer import TimeseriesDataloader\n",
    "from torch_cluster import knn\n",
    "print(torch.cuda.is_available())\n",
    "directory_path = '/share/us-stock-dataset/Data/Stocks'\n"
   ]
  },
  {
   "cell_type": "code",
   "execution_count": 2,
   "id": "fe2f7a19-86d1-4d73-a18b-e81c50bc22e5",
   "metadata": {},
   "outputs": [],
   "source": [
    "\n",
    "stocks_to_load = [\n",
    "    \"AAPL\", \"TSLA\",\n",
    "    \"A\", \"GOOG\", \"AMZN\", \"PYPL\", \"NVDA\", \"AMD\",\n",
    "    \"NFLX\", \"MSFT\", \"INTC\", \"CSCO\", \"ADBE\", \"CRM\", \"QCOM\", \"TXN\", \"AVGO\",\n",
    "    \"INTU\", \"ORCL\", \"COST\", \"SBUX\", \"AMGN\", \"CHTR\", \"GILD\", \"CMCSA\", \"BKNG\",\n",
    "    \"MDLZ\", \"FISV\", \"BIIB\", \"MU\", \"MCD\", \"AMAT\", \"ADP\", \"ILMN\", \"ATVI\", \"ISRG\",\n",
    "    \"ADSK\", \"LRCX\", \"BIDU\", \"JD\", \"REGN\", \"WBA\", \"VRTX\", \"KHC\", \"WMT\", \"ZM\", \"MELI\",\n",
    "    \"TMUS\", \"CTSH\", \"XLNX\", \"PCAR\", \"ALGN\", \"WDAY\", \"SIRI\", \"CTXS\", \"ADI\", \"EXC\", \"LULU\",\n",
    "    \"MAR\", \"KLAC\", \"PAYX\", \"EA\", \"ILMN\", \"ALXN\", \"MNST\", \"BMRN\", \"EBAY\", \"CTAS\", \"VRSK\",\n",
    "    \"IDXX\", \"CDNS\", \"NXPI\", \"ASML\", \"INCY\", \"KLAC\", \"MCHP\", \"SNPS\", \"SWKS\", \"VRSN\",\n",
    "    \"WDC\", \"WYNN\", \"XLNX\", \"ZBRA\", \"ZTS\", \"AEP\", \"AIG\", \"ALL\", \"AXP\", \"BA\", \"BAC\",\n",
    "    \"BK\", \"BLK\", \"C\", \"CAT\", \"CL\", \"COF\", \"COP\", \"COST\", \"CSCO\", \"CVS\", \"CVX\",\n",
    "    \"DD\", \"DHR\", \"DIS\", \"DOW\", \"DUK\", \"EMR\", \"EXC\", \"F\", \"FDX\", \"GD\", \"GE\", \"GILD\",\n",
    "    \"GM\", \"GOOG\", \"GOOGL\", \"GS\", \"HD\", \"HON\", \"IBM\", \"INTC\", \"JNJ\", \"JPM\", \"KHC\", \"KMI\",\n",
    "    \"KO\", \"LLY\", \"LMT\", \"LOW\", \"MA\", \"MCD\", \"MDLZ\", \"MDT\", \"MET\", \"MMM\",\n",
    "    'BLND', 'BLNG', 'BLNKW', 'BLNGU', 'BLNGW', 'BLNK', 'BLPH', 'BLRX',\n",
    "    'BLTE', 'BLU', 'BLUA', 'BLUE', 'BLW', 'BLX', 'BLZE', 'BMA', 'BMAC', 'BMAQ', 'BMAQR', 'BMAQU'\n",
    "]\n"
   ]
  },
  {
   "cell_type": "code",
   "execution_count": 3,
   "id": "3e675dee-013d-4c0c-bca5-636b96e6b599",
   "metadata": {},
   "outputs": [
    {
     "name": "stdout",
     "output_type": "stream",
     "text": [
      "Reading and merging CSV files: ['AAPL', 'TSLA', 'A', 'GOOG', 'AMZN', 'PYPL', 'NVDA', 'AMD', 'NFLX', 'MSFT', 'INTC', 'CSCO', 'ADBE', 'CRM', 'QCOM', 'TXN', 'AVGO', 'INTU', 'ORCL', 'COST', 'SBUX', 'AMGN', 'CHTR', 'GILD', 'CMCSA', 'BKNG', 'MDLZ', 'FISV', 'BIIB', 'MU', 'MCD', 'AMAT', 'ADP', 'ILMN', 'ATVI', 'ISRG', 'ADSK', 'LRCX', 'BIDU', 'JD', 'REGN', 'WBA', 'VRTX', 'KHC', 'WMT', 'ZM', 'MELI', 'TMUS', 'CTSH', 'XLNX', 'PCAR', 'ALGN', 'WDAY', 'SIRI', 'CTXS', 'ADI', 'EXC', 'LULU', 'MAR', 'KLAC', 'PAYX', 'EA', 'ILMN', 'ALXN', 'MNST', 'BMRN', 'EBAY', 'CTAS', 'VRSK', 'IDXX', 'CDNS', 'NXPI', 'ASML', 'INCY', 'KLAC', 'MCHP', 'SNPS', 'SWKS', 'VRSN', 'WDC', 'WYNN', 'XLNX', 'ZBRA', 'ZTS', 'AEP', 'AIG', 'ALL', 'AXP', 'BA', 'BAC', 'BK', 'BLK', 'C', 'CAT', 'CL', 'COF', 'COP', 'COST', 'CSCO', 'CVS', 'CVX', 'DD', 'DHR', 'DIS', 'DOW', 'DUK', 'EMR', 'EXC', 'F', 'FDX', 'GD', 'GE', 'GILD', 'GM', 'GOOG', 'GOOGL', 'GS', 'HD', 'HON', 'IBM', 'INTC', 'JNJ', 'JPM', 'KHC', 'KMI', 'KO', 'LLY', 'LMT', 'LOW', 'MA', 'MCD', 'MDLZ', 'MDT', 'MET', 'MMM', 'BLND', 'BLNG', 'BLNKW', 'BLNGU', 'BLNGW', 'BLNK', 'BLPH', 'BLRX', 'BLTE', 'BLU', 'BLUA', 'BLUE', 'BLW', 'BLX', 'BLZE', 'BMA', 'BMAC', 'BMAQ', 'BMAQR', 'BMAQU']\n",
      "File /share/us-stock-dataset/Data/Stocks/XLNX.csv not found\n",
      "File /share/us-stock-dataset/Data/Stocks/CTXS.csv not found\n",
      "File /share/us-stock-dataset/Data/Stocks/ALXN.csv not found\n",
      "File /share/us-stock-dataset/Data/Stocks/XLNX.csv not found\n",
      "File /share/us-stock-dataset/Data/Stocks/BLNKW.csv not found\n",
      "File /share/us-stock-dataset/Data/Stocks/BLNGU.csv not found\n",
      "File /share/us-stock-dataset/Data/Stocks/BLNGW.csv not found\n",
      "File /share/us-stock-dataset/Data/Stocks/BMAQ.csv not found\n",
      "File /share/us-stock-dataset/Data/Stocks/BMAQR.csv not found\n",
      "File /share/us-stock-dataset/Data/Stocks/BMAQU.csv not found\n",
      "Found files:  145\n"
     ]
    }
   ],
   "source": [
    "dataloader = TimeseriesDataloader(directory_path, stocks_to_load, add_diff=False)"
   ]
  },
  {
   "cell_type": "code",
   "execution_count": 4,
   "id": "a1d73344-4be7-48b2-9680-54259b4845c2",
   "metadata": {},
   "outputs": [
    {
     "data": {
      "text/plain": [
       "torch.Size([145, 5283])"
      ]
     },
     "execution_count": 4,
     "metadata": {},
     "output_type": "execute_result"
    }
   ],
   "source": [
    "data=dataloader.get_data().transpose(0, 1).cuda()\n",
    "data.shape"
   ]
  },
  {
   "cell_type": "code",
   "execution_count": 5,
   "id": "cb546f66-4233-4ccf-962f-a4d0808b9e23",
   "metadata": {},
   "outputs": [],
   "source": [
    "training_data = torch.diff(data, dim=1)\n"
   ]
  },
  {
   "cell_type": "code",
   "execution_count": 6,
   "id": "9dd64f4c-e94d-4677-bb55-553e56dfa2a4",
   "metadata": {},
   "outputs": [
    {
     "data": {
      "text/plain": [
       "tensor([ 0.6423,  1.2063,  1.0221,  0.5260,  0.8853,  1.1809,  0.8456,  0.7936,\n",
       "         3.9333,  1.2111,  0.6086,  0.5720,  3.0230,  1.7608,  1.0608,  1.0412,\n",
       "         2.4010,  2.1629,  0.5761,  1.6778,  0.5861,  1.7014,  3.4684,  0.7478,\n",
       "         0.3246, 18.9487,  0.3683,  0.7767,  4.9890,  1.0479,  1.1935,  0.7096,\n",
       "         1.0936,  3.4479,  0.6357,  1.6608,  1.8272,  2.8840,  2.7063,  0.5475,\n",
       "         5.7229,  0.6554,  2.5938,  0.3892,  0.8354,  3.6235,  8.5105,  0.8644,\n",
       "         0.6684,  0.4234,  3.7318,  1.9303,  0.5174,  1.1847,  0.3325,  2.2037,\n",
       "         1.1649,  1.6634,  0.6020,  1.2465,  3.4479,  0.2984,  1.5064,  0.4124,\n",
       "         1.9888,  1.0031,  2.3050,  0.7003,  1.2684,  2.4298,  1.8306,  1.6634,\n",
       "         0.5031,  1.2254,  1.4197,  2.5348,  0.9783,  2.2057,  2.2940,  0.8363,\n",
       "         0.5422, 10.1997,  0.7714,  1.1157,  3.0676,  0.4603,  0.5984,  4.2522,\n",
       "         3.6781,  1.2954,  0.5075,  1.2315,  0.6725,  1.6778,  0.5720,  0.6773,\n",
       "         0.9821,  0.8255,  0.9766,  1.1223,  0.3189,  0.6019,  0.6568,  0.3325,\n",
       "         0.1697,  2.0010,  1.2988,  2.0349,  0.7478,  0.3810,  0.5260,  0.5271,\n",
       "         2.6957,  1.5233,  1.1620,  1.2795,  0.6086,  0.8455,  0.9857,  0.3892,\n",
       "         0.2025,  0.3324,  1.0837,  2.3850,  0.9934,  2.1816,  1.1935,  0.3683,\n",
       "         0.7892,  0.6039,  1.3022,  0.0000,  0.0000, 51.5537,  1.6456,  1.0414,\n",
       "         0.0000, 25.6284,  0.0000,  1.4349,  0.0656,  0.2164,  0.0000,  1.0893,\n",
       "         0.0000], device='cuda:0')"
      ]
     },
     "execution_count": 6,
     "metadata": {},
     "output_type": "execute_result"
    }
   ],
   "source": [
    "training_data.std(dim=1)"
   ]
  },
  {
   "cell_type": "code",
   "execution_count": 7,
   "id": "87424453-f368-4439-9c70-0bb5441f3301",
   "metadata": {},
   "outputs": [],
   "source": [
    "def min_max_scaling(tensor):\n",
    "    return (tensor - tensor.min()) / (tensor.max() - tensor.min())\n"
   ]
  },
  {
   "cell_type": "code",
   "execution_count": 8,
   "id": "3ff39c6c-4215-461c-82f0-354e0424be87",
   "metadata": {},
   "outputs": [
    {
     "name": "stdout",
     "output_type": "stream",
     "text": [
      "torch.Size([145, 5282])\n"
     ]
    }
   ],
   "source": [
    "#training_data = min_max_scaling(training_data)\n",
    "print(training_data.shape)"
   ]
  },
  {
   "cell_type": "code",
   "execution_count": 23,
   "id": "d85a0bb4-4fa8-43c5-a682-698136c5c3eb",
   "metadata": {},
   "outputs": [
    {
     "data": {
      "text/plain": [
       "tensor([-0.0716, -0.0683, -0.0133,  ..., -0.3160, -0.0651, -0.3903],\n",
       "       device='cuda:0')"
      ]
     },
     "execution_count": 23,
     "metadata": {},
     "output_type": "execute_result"
    }
   ],
   "source": [
    "training_data[training_data<0]"
   ]
  },
  {
   "cell_type": "code",
   "execution_count": 9,
   "id": "f2d92649-d0dc-411c-a9bb-15f9fafbc8b9",
   "metadata": {},
   "outputs": [
    {
     "name": "stdout",
     "output_type": "stream",
     "text": [
      "torch.Size([145, 5282, 1])\n"
     ]
    }
   ],
   "source": [
    "window_size = 1\n",
    "\n",
    "def extract_sliding_windows(tensor, window_size):        \n",
    "    windows = tensor.unfold(1, window_size, 1)\n",
    "    return windows\n",
    "\n",
    "sliding_windows=extract_sliding_windows(training_data, window_size)\n",
    "\n",
    "print(sliding_windows.shape)\n"
   ]
  },
  {
   "cell_type": "code",
   "execution_count": 10,
   "id": "903c852d-88da-4fd9-a313-bb91bd7fd8b3",
   "metadata": {},
   "outputs": [
    {
     "name": "stdout",
     "output_type": "stream",
     "text": [
      "torch.Size([765890, 1])\n"
     ]
    }
   ],
   "source": [
    "flat_sliding_windows = sliding_windows.reshape(-1, sliding_windows.size(2))\n",
    "print(flat_sliding_windows.shape)\n"
   ]
  },
  {
   "cell_type": "code",
   "execution_count": 11,
   "id": "18a39bd6-2df0-4398-9fc5-c419dccdc1bd",
   "metadata": {},
   "outputs": [
    {
     "data": {
      "text/plain": [
       "tensor([5.4043], device='cuda:0')"
      ]
     },
     "execution_count": 11,
     "metadata": {},
     "output_type": "execute_result"
    }
   ],
   "source": [
    "flat_sliding_windows.std(dim=0)"
   ]
  },
  {
   "cell_type": "code",
   "execution_count": 12,
   "id": "cebf888c-f979-4654-a07c-38c8e0fba0a8",
   "metadata": {},
   "outputs": [
    {
     "name": "stdout",
     "output_type": "stream",
     "text": [
      "Sampling a subset of 256000 / 765890 for training\n",
      "Clustering 256000 points in 1D to 1000 clusters, redo 1 times, 200 iterations\n",
      "  Preprocessing in 0.02 s\n",
      "  Iteration 199 (177.72 s, search 176.86 s): objective=150031 imbalance=26.473 nsplit=0        \n",
      "torch.Size([1000, 1])\n",
      "Clustering error: 0.4425958143173282\n"
     ]
    }
   ],
   "source": [
    "def kmeans_sliding_windows(flat_windows, num_clusters=1000):\n",
    "  \n",
    "    windows_np = flat_windows.cpu().numpy()\n",
    "    \n",
    "    kmeans_model = faiss.Kmeans(flat_windows.size(1), num_clusters, niter=20, verbose=True)\n",
    "    \n",
    "    kmeans_model.train(windows_np)\n",
    "    \n",
    "    error = kmeans_model.obj[-1]  # Get the last objective value    \n",
    "\n",
    "    n = flat_windows.shape[0]  # Number of data points\n",
    "    mse = error / n\n",
    "    rmse = mse ** 0.5\n",
    "\n",
    "    _, cluster_assignment = kmeans_model.index.search(windows_np, 1)\n",
    "    \n",
    "    return torch.from_numpy(cluster_assignment.reshape(-1)), torch.from_numpy(kmeans_model.centroids), rmse\n",
    "\n",
    "cluster_assignment, centroids, error = kmeans_sliding_windows(flat_sliding_windows)\n",
    "\n",
    "print(centroids.shape)\n",
    "\n",
    "print(\"Clustering error:\", error)\n"
   ]
  },
  {
   "cell_type": "code",
   "execution_count": 15,
   "id": "127d800f-fe8f-4911-8dce-2ff1b1f7b5b3",
   "metadata": {},
   "outputs": [
    {
     "name": "stdout",
     "output_type": "stream",
     "text": [
      "Average error per data point: tensor(2.4675, device='cuda:0')\n"
     ]
    }
   ],
   "source": [
    "def calculate_cluster_errors(flat_windows, cluster_assignment, centroids):   \n",
    "    assigned_centroids = centroids[cluster_assignment.squeeze().long()].cuda()\n",
    "    squared_errors = ((flat_windows - assigned_centroids) ** 2).sum(dim=1)\n",
    "    mse = squared_errors.mean()\n",
    "    rmse = mse ** 0.5\n",
    "    return rmse\n",
    "\n",
    "# Using the function\n",
    "errors = calculate_cluster_errors(flat_sliding_windows, cluster_assignment, centroids)\n",
    "print(\"Average error per data point:\", errors)\n"
   ]
  },
  {
   "cell_type": "code",
   "execution_count": 14,
   "id": "ff950c4d-2516-4963-aae8-25cdb747ae2d",
   "metadata": {},
   "outputs": [
    {
     "data": {
      "text/plain": [
       "torch.Size([1000, 1])"
      ]
     },
     "execution_count": 14,
     "metadata": {},
     "output_type": "execute_result"
    }
   ],
   "source": [
    "centroids.shape"
   ]
  },
  {
   "cell_type": "code",
   "execution_count": null,
   "id": "066338f2-4805-48da-9471-5d75210e81c5",
   "metadata": {},
   "outputs": [],
   "source": []
  }
 ],
 "metadata": {
  "kernelspec": {
   "display_name": "Python 3 (ipykernel)",
   "language": "python",
   "name": "python3"
  },
  "language_info": {
   "codemirror_mode": {
    "name": "ipython",
    "version": 3
   },
   "file_extension": ".py",
   "mimetype": "text/x-python",
   "name": "python",
   "nbconvert_exporter": "python",
   "pygments_lexer": "ipython3",
   "version": "3.10.12"
  }
 },
 "nbformat": 4,
 "nbformat_minor": 5
}
