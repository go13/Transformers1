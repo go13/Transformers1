{
 "cells": [
  {
   "cell_type": "code",
   "execution_count": 1,
   "id": "c8e49af4-96cf-48ab-8f92-092b1e157bcc",
   "metadata": {},
   "outputs": [
    {
     "name": "stdout",
     "output_type": "stream",
     "text": [
      "Nvidia GPU is detected\n"
     ]
    }
   ],
   "source": [
    "import torch\n",
    "\n",
    "if torch.cuda.is_available():\n",
    "    print('Nvidia GPU is detected')\n",
    "else:\n",
    "    print('Nvidia GPU is not detected')"
   ]
  },
  {
   "cell_type": "code",
   "execution_count": null,
   "id": "cc4f1ba1-bbd6-4334-83dc-3e40c7fead84",
   "metadata": {},
   "outputs": [],
   "source": []
  }
 ],
 "metadata": {
  "kernelspec": {
   "display_name": "Python 3 (ipykernel)",
   "language": "python",
   "name": "python3"
  },
  "language_info": {
   "codemirror_mode": {
    "name": "ipython",
    "version": 3
   },
   "file_extension": ".py",
   "mimetype": "text/x-python",
   "name": "python",
   "nbconvert_exporter": "python",
   "pygments_lexer": "ipython3",
   "version": "3.10.12"
  }
 },
 "nbformat": 4,
 "nbformat_minor": 5
}
