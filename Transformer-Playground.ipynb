{
 "cells": [
  {
   "cell_type": "code",
   "execution_count": 1,
   "metadata": {
    "pycharm": {
     "name": "#%%\n"
    }
   },
   "outputs": [
    {
     "name": "stderr",
     "output_type": "stream",
     "text": [
      "INFO - 01/07/23 18:50:34 - 0:00:00 - ============ Initialized logger ============\n",
      "INFO - 01/07/23 18:50:34 - 0:00:00 - accumulate_gradients: 1\n",
      "                                     amp: -1\n",
      "                                     attention_dropout: 0.1\n",
      "                                     batch_size: 32\n",
      "                                     beam_early_stopping: True\n",
      "                                     beam_eval: False\n",
      "                                     beam_length_penalty: 1\n",
      "                                     beam_size: 1\n",
      "                                     bottleneck_dim: 64\n",
      "                                     clip_grad_norm: 5\n",
      "                                     command: python F:\\Programs\\anaconda3\\envs\\ai\\lib\\site-packages\\ipykernel_launcher.py '-f' 'C:\\Users\\Dmytro\\AppData\\Roaming\\jupyter\\runtime\\kernel-78e1afa4-519d-48c5-849b-7cf2f43b2a90.json' --exp_id \"dmytro_job\"\n",
      "                                     cpu: False\n",
      "                                     debug: False\n",
      "                                     debug_slurm: False\n",
      "                                     dropout: 0.1\n",
      "                                     dump_path: ./dumped/\n",
      "                                     emb_dim: 64\n",
      "                                     env_base_seed: 0\n",
      "                                     env_name: sai\n",
      "                                     epoch_size: 10000\n",
      "                                     eval_only: False\n",
      "                                     eval_verbose: 0\n",
      "                                     eval_verbose_print: False\n",
      "                                     exp_id: dmytro_job\n",
      "                                     exp_name: first_train\n",
      "                                     fp16: False\n",
      "                                     global_rank: 0\n",
      "                                     input_seq_length: 47\n",
      "                                     is_master: True\n",
      "                                     is_slurm_job: False\n",
      "                                     local_rank: 0\n",
      "                                     master_port: -1\n",
      "                                     max_epoch: 100000\n",
      "                                     max_len: 512\n",
      "                                     multi_gpu: False\n",
      "                                     multi_node: False\n",
      "                                     n_dec_layers: 4\n",
      "                                     n_enc_layers: 16\n",
      "                                     n_gpu_per_node: 1\n",
      "                                     n_heads: 4\n",
      "                                     n_nodes: 1\n",
      "                                     nn_output: 1\n",
      "                                     node_id: 0\n",
      "                                     num_workers: 4\n",
      "                                     optimizer: adam,lr=0.0001\n",
      "                                     reload_checkpoint: \n",
      "                                     reload_model: \n",
      "                                     reload_size: -1\n",
      "                                     same_nb_ops_per_batch: False\n",
      "                                     save_periodic: 0\n",
      "                                     share_inout_emb: False\n",
      "                                     sinusoidal_embeddings: True\n",
      "                                     stopping_criterion: \n",
      "                                     tasks: add_dataset\n",
      "                                     validation_metrics: \n",
      "                                     world_size: 1\n",
      "INFO - 01/07/23 18:50:34 - 0:00:00 - The experiment will be stored in ./dumped/\n",
      "                                     \n",
      "INFO - 01/07/23 18:50:34 - 0:00:00 - Running command: python F:\\Programs\\anaconda3\\envs\\ai\\lib\\site-packages\\ipykernel_launcher.py '-f' 'C:\\Users\\Dmytro\\AppData\\Roaming\\jupyter\\runtime\\kernel-78e1afa4-519d-48c5-849b-7cf2f43b2a90.json'\n",
      "\n",
      "INFO - 01/07/23 18:50:34 - 0:00:00 - words: {'<s>': 0, '</s>': 1, 'A': 2, 'B': 3, 'C': 4, 'D': 5, 'E': 6, 'F': 7, 'G': 8, 'H': 9, 'I': 10, 'J': 11, 'K': 12, 'L': 13, 'M': 14, 'N': 15, 'O': 16, 'P': 17, 'Q': 18, 'R': 19, 'S': 20, 'T': 21, 'U': 22, 'V': 23, 'W': 24, 'X': 25, 'Y': 26, 'Z': 27, '0': 28, '1': 29, '2': 30, '3': 31, '4': 32, '5': 33, '6': 34, '7': 35, '8': 36, '9': 37}\n",
      "INFO - 01/07/23 18:50:34 - 0:00:00 - Training tasks: add_dataset\n",
      "INFO - 01/07/23 18:50:34 - 0:00:00 - Number of parameters (transformer): 1598630\n"
     ]
    },
    {
     "name": "stdout",
     "output_type": "stream",
     "text": [
      "SAIEnvironment created\n",
      "Namespace(dump_path='./dumped/', exp_name='first_train', save_periodic=0, exp_id='dmytro_job', fp16=False, amp=-1, emb_dim=64, bottleneck_dim=64, nn_output=1, input_seq_length=47, n_enc_layers=16, n_dec_layers=4, n_heads=4, dropout=0.1, attention_dropout=0.1, share_inout_emb=False, sinusoidal_embeddings=True, env_base_seed=0, max_len=512, batch_size=32, optimizer='adam,lr=0.0001', clip_grad_norm=5, epoch_size=10000, max_epoch=100000, stopping_criterion='', validation_metrics='', accumulate_gradients=1, num_workers=4, same_nb_ops_per_batch=False, reload_size=-1, env_name='sai', tasks='add_dataset', beam_eval=False, beam_size=1, beam_length_penalty=1, beam_early_stopping=True, reload_model='', reload_checkpoint='', eval_only=False, eval_verbose=0, eval_verbose_print=False, debug_slurm=False, debug=False, cpu=False, local_rank=-1, master_port=-1)\n",
      "SLURM job: False\n",
      "0 - Number of nodes: 1\n",
      "0 - Node ID        : 0\n",
      "0 - Local rank     : 0\n",
      "0 - Global rank    : 0\n",
      "0 - World size     : 1\n",
      "0 - GPUs per node  : 1\n",
      "0 - Master         : True\n",
      "0 - Multi-node     : False\n",
      "0 - Multi-GPU      : False\n",
      "0 - Hostname       : DESKTOP-GPBACS8\n"
     ]
    },
    {
     "name": "stderr",
     "output_type": "stream",
     "text": [
      "INFO - 01/07/23 18:50:34 - 0:00:00 - Found 370 parameters in model.\n",
      "INFO - 01/07/23 18:50:35 - 0:00:01 - Optimizers: model\n",
      "INFO - 01/07/23 18:50:35 - 0:00:02 - Number of parameters (transformer): 1598630\n",
      "INFO - 01/07/23 18:50:35 - 0:00:02 - Found 370 parameters in model.\n",
      "INFO - 01/07/23 18:50:36 - 0:00:03 - Optimizers: model\n"
     ]
    }
   ],
   "source": [
    "import math\n",
    "import random\n",
    "import string\n",
    "import sys\n",
    "import time\n",
    "import numpy as np\n",
    "import torch\n",
    "\n",
    "import matplotlib.pyplot as plt\n",
    "import src\n",
    "from envs import build_env\n",
    "#from src.evaluator import Evaluator\n",
    "from src.slurm import init_signal_handler, init_distributed_mode\n",
    "from t2.realtime_trainer import RealtimeTrainer\n",
    "from src.utils import initialize_exp, str_diff\n",
    "from t2.utils import get_parser, join_sai, to_sai_str\n",
    "\n",
    "from t2.transformer import build_transformer\n",
    "argv = [\n",
    "        '--exp_name', 'first_train', \n",
    "        '--tasks', 'add_dataset', \n",
    "        '--n_enc_layers', '16', \n",
    "        '--n_heads', '4', \n",
    "        '--sinusoidal_embeddings', 'true', \n",
    "        '--num_workers', '4', \n",
    "        '--eval_onl', '0', \n",
    "        '--save_periodic', '0', \n",
    "        '--epoch_size', '10000', \n",
    "        '--batch_size', '32', \n",
    "        '--dropout', '0.1', \n",
    "        '--attention_dropout', '0.1', \n",
    "        '--emb_dim', '64', \n",
    "        '--bottleneck_dim', '64', \n",
    "        '--nn_output', '1', \n",
    "        '--input_seq_length', '47', \n",
    "        '--share_inout_emb', 'false'\n",
    "]\n",
    "\n",
    "parser = get_parser()\n",
    "\n",
    "params = parser.parse_args(argv)\n",
    "print(params)\n",
    "\n",
    "bs = params.batch_size\n",
    "#dim = params.emb_dim\n",
    "\n",
    "init_distributed_mode(params)\n",
    "logger = initialize_exp(params)\n",
    "\n",
    "# CPU / CUDA\n",
    "if params.cpu:\n",
    "    assert not params.multi_gpu\n",
    "else:\n",
    "    assert torch.cuda.is_available()\n",
    "    \n",
    "src.utils.CUDA = not params.cpu\n",
    "\n",
    "env = build_env(params)\n",
    "\n",
    "# modules = build_transformer(env, params, 'cuda')\n",
    "# trainer = RealtimeTrainer(modules, env, params)\n",
    "\n",
    "trainers=[]\n",
    "number_of_models=2\n",
    "for i in range(number_of_models):\n",
    "    params.my_device='cuda:' + str(i)\n",
    "    trainer = RealtimeTrainer(build_transformer(env, params), env, params)\n",
    "    trainers += [trainer]\n",
    "\n"
   ]
  },
  {
   "cell_type": "code",
   "execution_count": 2,
   "metadata": {
    "pycharm": {
     "name": "#%%\n"
    }
   },
   "outputs": [],
   "source": [
    "#!nvidia-smi"
   ]
  },
  {
   "cell_type": "code",
   "execution_count": 3,
   "metadata": {
    "pycharm": {
     "name": "#%%\n"
    }
   },
   "outputs": [],
   "source": [
    "def act(inp, trainer):\n",
    "    inp = join_sai(inp)\n",
    "    lst = []\n",
    "    for _ in range(bs):\n",
    "        x = inp\n",
    "        lst += [x]\n",
    "        \n",
    "    return trainer.act(lst)[0]\n",
    "\n"
   ]
  },
  {
   "cell_type": "code",
   "execution_count": 4,
   "metadata": {
    "pycharm": {
     "name": "#%%\n"
    }
   },
   "outputs": [],
   "source": [
    "A = 'KAAAAAAAAAAAAAAAAAAAAAAAAAAAAAAAAAAAAAAAAAAAE'\n",
    "a = join_sai(A)"
   ]
  },
  {
   "cell_type": "code",
   "execution_count": 5,
   "metadata": {
    "pycharm": {
     "name": "#%%\n"
    }
   },
   "outputs": [
    {
     "name": "stderr",
     "output_type": "stream",
     "text": [
      "F:\\workspace\\ai\\Transformers1\\src\\optim.py:72: UserWarning: This overload of add_ is deprecated:\n",
      "\tadd_(Number alpha, Tensor other)\n",
      "Consider using one of the following signatures instead:\n",
      "\tadd_(Tensor other, *, Number alpha) (Triggered internally at C:\\cb\\pytorch_1000000000000\\work\\torch\\csrc\\utils\\python_arg_parser.cpp:1418.)\n",
      "  exp_avg.mul_(beta1).add_(1 - beta1, grad)\n",
      "INFO - 01/07/23 18:50:38 - 0:00:04 - learning: av-score=0.0425531914893617, device=cuda:0\n",
      "INFO - 01/07/23 18:50:38 - 0:00:05 - learning: av-score=0.033244680851063815, device=cuda:1\n",
      "INFO - 01/07/23 18:50:38 - 0:00:05 - learning: av-score=0.043218085106382975, device=cuda:0\n",
      "INFO - 01/07/23 18:50:39 - 0:00:05 - learning: av-score=0.048537234042553196, device=cuda:1\n",
      "INFO - 01/07/23 18:50:39 - 0:00:05 - learning: av-score=0.10239361702127657, device=cuda:0\n",
      "INFO - 01/07/23 18:50:39 - 0:00:05 - learning: av-score=0.22805851063829782, device=cuda:1\n",
      "INFO - 01/07/23 18:50:39 - 0:00:06 - learning: av-score=0.39893617021276595, device=cuda:0\n",
      "INFO - 01/07/23 18:50:39 - 0:00:06 - learning: av-score=0.7187500000000001, device=cuda:1\n",
      "INFO - 01/07/23 18:50:40 - 0:00:06 - learning: av-score=0.7539893617021276, device=cuda:0\n",
      "INFO - 01/07/23 18:50:40 - 0:00:06 - learning: av-score=0.9248670212765961, device=cuda:1\n",
      "INFO - 01/07/23 18:50:40 - 0:00:06 - learning: av-score=0.908244680851064, device=cuda:0\n",
      "INFO - 01/07/23 18:50:40 - 0:00:07 - learning: av-score=0.9554521276595749, device=cuda:1\n",
      "INFO - 01/07/23 18:50:40 - 0:00:07 - learning: av-score=0.9507978723404259, device=cuda:0\n",
      "INFO - 01/07/23 18:50:41 - 0:00:07 - learning: av-score=0.9574468085106387, device=cuda:1\n",
      "INFO - 01/07/23 18:50:41 - 0:00:07 - learning: av-score=0.9574468085106387, device=cuda:0\n",
      "INFO - 01/07/23 18:50:41 - 0:00:07 - learning: av-score=0.9574468085106387, device=cuda:1\n",
      "INFO - 01/07/23 18:50:41 - 0:00:08 - learning: av-score=0.9574468085106387, device=cuda:0\n",
      "INFO - 01/07/23 18:50:41 - 0:00:08 - learning: av-score=0.9574468085106387, device=cuda:1\n",
      "INFO - 01/07/23 18:50:42 - 0:00:08 - learning: av-score=0.9574468085106387, device=cuda:0\n",
      "INFO - 01/07/23 18:50:42 - 0:00:08 - learning: av-score=0.9574468085106387, device=cuda:1\n"
     ]
    },
    {
     "name": "stdout",
     "output_type": "stream",
     "text": [
      "Av time per iteration per trainer: 0.55 seconds\n"
     ]
    }
   ],
   "source": [
    "start_time = time.time()\n",
    "\n",
    "losses = []\n",
    "iterations_number = 10\n",
    "\n",
    "for it in range(iterations_number):\n",
    "    for trainer in trainers:\n",
    "            for _ in range(params.batch_size):\n",
    "                loss = trainer.learn(a, a)\n",
    "\n",
    "end_time = time.time()\n",
    "elapsed_time = end_time - start_time\n",
    "av_time = elapsed_time/iterations_number/len(trainers)\n",
    "\n",
    "print(f'Av time per iteration per trainer: {elapsed_time/iterations_number:.2f} seconds')\n"
   ]
  },
  {
   "cell_type": "code",
   "execution_count": 6,
   "metadata": {
    "pycharm": {
     "name": "#%%\n"
    }
   },
   "outputs": [
    {
     "data": {
      "text/plain": [
       "'NVIDIA GeForce RTX 3080 Ti'"
      ]
     },
     "execution_count": 6,
     "metadata": {},
     "output_type": "execute_result"
    }
   ],
   "source": [
    "torch.cuda.get_device_name(next(trainers[0].modules['transformer'].te1.parameters()).device.index)"
   ]
  },
  {
   "cell_type": "code",
   "execution_count": 7,
   "metadata": {
    "pycharm": {
     "name": "#%%\n"
    },
    "scrolled": false
   },
   "outputs": [
    {
     "ename": "AssertionError",
     "evalue": "",
     "output_type": "error",
     "traceback": [
      "\u001B[1;31m---------------------------------------------------------------------------\u001B[0m",
      "\u001B[1;31mAssertionError\u001B[0m                            Traceback (most recent call last)",
      "\u001B[1;32m~\\AppData\\Local\\Temp/ipykernel_12612/2454445127.py\u001B[0m in \u001B[0;36m<module>\u001B[1;34m\u001B[0m\n\u001B[0;32m      5\u001B[0m \u001B[1;31m#rnds = [gen_rnd_chars(xy_data_size_const) for _ in range(100)]\u001B[0m\u001B[1;33m\u001B[0m\u001B[1;33m\u001B[0m\u001B[0m\n\u001B[0;32m      6\u001B[0m \u001B[1;33m\u001B[0m\u001B[0m\n\u001B[1;32m----> 7\u001B[1;33m \u001B[0mprint\u001B[0m\u001B[1;33m(\u001B[0m\u001B[0mtrainers\u001B[0m\u001B[1;33m[\u001B[0m\u001B[1;36m0\u001B[0m\u001B[1;33m]\u001B[0m\u001B[1;33m.\u001B[0m\u001B[0mact\u001B[0m\u001B[1;33m(\u001B[0m\u001B[0mA\u001B[0m\u001B[1;33m)\u001B[0m\u001B[1;33m)\u001B[0m\u001B[1;33m\u001B[0m\u001B[1;33m\u001B[0m\u001B[0m\n\u001B[0m\u001B[0;32m      8\u001B[0m \u001B[0mprint\u001B[0m\u001B[1;33m(\u001B[0m\u001B[0mtrainers\u001B[0m\u001B[1;33m[\u001B[0m\u001B[1;36m0\u001B[0m\u001B[1;33m]\u001B[0m\u001B[1;33m.\u001B[0m\u001B[0mact\u001B[0m\u001B[1;33m(\u001B[0m\u001B[0mB\u001B[0m\u001B[1;33m)\u001B[0m\u001B[1;33m)\u001B[0m\u001B[1;33m\u001B[0m\u001B[1;33m\u001B[0m\u001B[0m\n",
      "\u001B[1;32mF:\\workspace\\ai\\Transformers1\\t2\\realtime_trainer.py\u001B[0m in \u001B[0;36mact\u001B[1;34m(self, xx)\u001B[0m\n\u001B[0;32m     37\u001B[0m         \u001B[1;33m(\u001B[0m\u001B[0mx1\u001B[0m\u001B[1;33m,\u001B[0m \u001B[0mlen1\u001B[0m\u001B[1;33m)\u001B[0m\u001B[1;33m,\u001B[0m \u001B[0m_\u001B[0m\u001B[1;33m,\u001B[0m \u001B[0m_\u001B[0m \u001B[1;33m=\u001B[0m \u001B[0mself\u001B[0m\u001B[1;33m.\u001B[0m\u001B[0mcollate_fn\u001B[0m\u001B[1;33m(\u001B[0m\u001B[0mq\u001B[0m\u001B[1;33m)\u001B[0m\u001B[1;33m\u001B[0m\u001B[1;33m\u001B[0m\u001B[0m\n\u001B[0;32m     38\u001B[0m \u001B[1;33m\u001B[0m\u001B[0m\n\u001B[1;32m---> 39\u001B[1;33m         \u001B[1;32mreturn\u001B[0m \u001B[0mself\u001B[0m\u001B[1;33m.\u001B[0m\u001B[0m_act\u001B[0m\u001B[1;33m(\u001B[0m\u001B[0mx1\u001B[0m\u001B[1;33m,\u001B[0m \u001B[0mlen1\u001B[0m\u001B[1;33m)\u001B[0m\u001B[1;33m\u001B[0m\u001B[1;33m\u001B[0m\u001B[0m\n\u001B[0m\u001B[0;32m     40\u001B[0m \u001B[1;33m\u001B[0m\u001B[0m\n\u001B[0;32m     41\u001B[0m     \u001B[1;32mdef\u001B[0m \u001B[0mcollate_fn2\u001B[0m\u001B[1;33m(\u001B[0m\u001B[0mself\u001B[0m\u001B[1;33m,\u001B[0m \u001B[0mtraining_queue\u001B[0m\u001B[1;33m)\u001B[0m\u001B[1;33m:\u001B[0m\u001B[1;33m\u001B[0m\u001B[1;33m\u001B[0m\u001B[0m\n",
      "\u001B[1;32mF:\\workspace\\ai\\Transformers1\\t2\\abstract_trainer.py\u001B[0m in \u001B[0;36m_act\u001B[1;34m(self, x1, len1)\u001B[0m\n\u001B[0;32m    234\u001B[0m         \u001B[1;31m# forward / loss\u001B[0m\u001B[1;33m\u001B[0m\u001B[1;33m\u001B[0m\u001B[0m\n\u001B[0;32m    235\u001B[0m         \u001B[0mtensor\u001B[0m \u001B[1;33m=\u001B[0m \u001B[0mtransformer\u001B[0m\u001B[1;33m(\u001B[0m\u001B[1;34m'fwd'\u001B[0m\u001B[1;33m,\u001B[0m \u001B[0mx1\u001B[0m\u001B[1;33m=\u001B[0m\u001B[0mx1\u001B[0m\u001B[1;33m,\u001B[0m \u001B[0mlen1\u001B[0m\u001B[1;33m=\u001B[0m\u001B[0mlen1\u001B[0m\u001B[1;33m)\u001B[0m\u001B[1;33m\u001B[0m\u001B[1;33m\u001B[0m\u001B[0m\n\u001B[1;32m--> 236\u001B[1;33m         \u001B[0moutput\u001B[0m \u001B[1;33m=\u001B[0m \u001B[0mtransformer\u001B[0m\u001B[1;33m(\u001B[0m\u001B[1;34m'generate'\u001B[0m\u001B[1;33m,\u001B[0m \u001B[0mtensor\u001B[0m\u001B[1;33m=\u001B[0m\u001B[0mtensor\u001B[0m\u001B[1;33m,\u001B[0m \u001B[0mpred_mask\u001B[0m\u001B[1;33m=\u001B[0m\u001B[0mpred_mask\u001B[0m\u001B[1;33m)\u001B[0m\u001B[1;33m\u001B[0m\u001B[1;33m\u001B[0m\u001B[0m\n\u001B[0m\u001B[0;32m    237\u001B[0m         \u001B[1;31m# output = output.reshape(bs, -1, self.params.n_words)\u001B[0m\u001B[1;33m\u001B[0m\u001B[1;33m\u001B[0m\u001B[0m\n\u001B[0;32m    238\u001B[0m         \u001B[1;31m# i = random.randint(0, bs - 1)\u001B[0m\u001B[1;33m\u001B[0m\u001B[1;33m\u001B[0m\u001B[0m\n",
      "\u001B[1;32mF:\\Programs\\anaconda3\\envs\\ai\\lib\\site-packages\\torch\\nn\\modules\\module.py\u001B[0m in \u001B[0;36m_call_impl\u001B[1;34m(self, *input, **kwargs)\u001B[0m\n\u001B[0;32m   1188\u001B[0m         if not (self._backward_hooks or self._forward_hooks or self._forward_pre_hooks or _global_backward_hooks\n\u001B[0;32m   1189\u001B[0m                 or _global_forward_hooks or _global_forward_pre_hooks):\n\u001B[1;32m-> 1190\u001B[1;33m             \u001B[1;32mreturn\u001B[0m \u001B[0mforward_call\u001B[0m\u001B[1;33m(\u001B[0m\u001B[1;33m*\u001B[0m\u001B[0minput\u001B[0m\u001B[1;33m,\u001B[0m \u001B[1;33m**\u001B[0m\u001B[0mkwargs\u001B[0m\u001B[1;33m)\u001B[0m\u001B[1;33m\u001B[0m\u001B[1;33m\u001B[0m\u001B[0m\n\u001B[0m\u001B[0;32m   1191\u001B[0m         \u001B[1;31m# Do not call functions when jit is used\u001B[0m\u001B[1;33m\u001B[0m\u001B[1;33m\u001B[0m\u001B[0m\n\u001B[0;32m   1192\u001B[0m         \u001B[0mfull_backward_hooks\u001B[0m\u001B[1;33m,\u001B[0m \u001B[0mnon_full_backward_hooks\u001B[0m \u001B[1;33m=\u001B[0m \u001B[1;33m[\u001B[0m\u001B[1;33m]\u001B[0m\u001B[1;33m,\u001B[0m \u001B[1;33m[\u001B[0m\u001B[1;33m]\u001B[0m\u001B[1;33m\u001B[0m\u001B[1;33m\u001B[0m\u001B[0m\n",
      "\u001B[1;32mF:\\workspace\\ai\\Transformers1\\t2\\utils.py\u001B[0m in \u001B[0;36mforward\u001B[1;34m(self, mode, **kwargs)\u001B[0m\n\u001B[0;32m    162\u001B[0m             \u001B[1;32mreturn\u001B[0m \u001B[0mself\u001B[0m\u001B[1;33m.\u001B[0m\u001B[0mlearn\u001B[0m\u001B[1;33m(\u001B[0m\u001B[1;33m**\u001B[0m\u001B[0mkwargs\u001B[0m\u001B[1;33m)\u001B[0m\u001B[1;33m\u001B[0m\u001B[1;33m\u001B[0m\u001B[0m\n\u001B[0;32m    163\u001B[0m         \u001B[1;32melif\u001B[0m \u001B[0mmode\u001B[0m \u001B[1;33m==\u001B[0m \u001B[1;34m'generate'\u001B[0m\u001B[1;33m:\u001B[0m\u001B[1;33m\u001B[0m\u001B[1;33m\u001B[0m\u001B[0m\n\u001B[1;32m--> 164\u001B[1;33m             \u001B[1;32mreturn\u001B[0m \u001B[0mself\u001B[0m\u001B[1;33m.\u001B[0m\u001B[0mgenerate\u001B[0m\u001B[1;33m(\u001B[0m\u001B[1;33m**\u001B[0m\u001B[0mkwargs\u001B[0m\u001B[1;33m)\u001B[0m\u001B[1;33m\u001B[0m\u001B[1;33m\u001B[0m\u001B[0m\n\u001B[0m\u001B[0;32m    165\u001B[0m         \u001B[1;32melse\u001B[0m\u001B[1;33m:\u001B[0m\u001B[1;33m\u001B[0m\u001B[1;33m\u001B[0m\u001B[0m\n\u001B[0;32m    166\u001B[0m             \u001B[1;32mraise\u001B[0m \u001B[0mException\u001B[0m\u001B[1;33m(\u001B[0m\u001B[1;34m\"Unknown mode: %s\"\u001B[0m \u001B[1;33m%\u001B[0m \u001B[0mmode\u001B[0m\u001B[1;33m)\u001B[0m\u001B[1;33m\u001B[0m\u001B[1;33m\u001B[0m\u001B[0m\n",
      "\u001B[1;32mF:\\workspace\\ai\\Transformers1\\t2\\transformer.py\u001B[0m in \u001B[0;36mgenerate\u001B[1;34m(self, tensor, pred_mask)\u001B[0m\n\u001B[0;32m     41\u001B[0m \u001B[1;33m\u001B[0m\u001B[0m\n\u001B[0;32m     42\u001B[0m     \u001B[1;32mdef\u001B[0m \u001B[0mgenerate\u001B[0m\u001B[1;33m(\u001B[0m\u001B[0mself\u001B[0m\u001B[1;33m,\u001B[0m \u001B[0mtensor\u001B[0m\u001B[1;33m,\u001B[0m \u001B[0mpred_mask\u001B[0m\u001B[1;33m)\u001B[0m\u001B[1;33m:\u001B[0m\u001B[1;33m\u001B[0m\u001B[1;33m\u001B[0m\u001B[0m\n\u001B[1;32m---> 43\u001B[1;33m         \u001B[1;32massert\u001B[0m \u001B[0mtensor\u001B[0m\u001B[1;33m.\u001B[0m\u001B[0mshape\u001B[0m \u001B[1;33m==\u001B[0m \u001B[1;33m(\u001B[0m\u001B[0mself\u001B[0m\u001B[1;33m.\u001B[0m\u001B[0mconfig\u001B[0m\u001B[1;33m.\u001B[0m\u001B[0minput_seq_length\u001B[0m\u001B[1;33m,\u001B[0m \u001B[0mself\u001B[0m\u001B[1;33m.\u001B[0m\u001B[0mconfig\u001B[0m\u001B[1;33m.\u001B[0m\u001B[0mbatch_size\u001B[0m\u001B[1;33m,\u001B[0m \u001B[0mself\u001B[0m\u001B[1;33m.\u001B[0m\u001B[0mconfig\u001B[0m\u001B[1;33m.\u001B[0m\u001B[0mdim\u001B[0m\u001B[1;33m)\u001B[0m\u001B[1;33m\u001B[0m\u001B[1;33m\u001B[0m\u001B[0m\n\u001B[0m\u001B[0;32m     44\u001B[0m         \u001B[0mx\u001B[0m \u001B[1;33m=\u001B[0m \u001B[0mtensor\u001B[0m\u001B[1;33m[\u001B[0m\u001B[0mpred_mask\u001B[0m\u001B[1;33m.\u001B[0m\u001B[0munsqueeze\u001B[0m\u001B[1;33m(\u001B[0m\u001B[1;33m-\u001B[0m\u001B[1;36m1\u001B[0m\u001B[1;33m)\u001B[0m\u001B[1;33m.\u001B[0m\u001B[0mexpand_as\u001B[0m\u001B[1;33m(\u001B[0m\u001B[0mtensor\u001B[0m\u001B[1;33m)\u001B[0m\u001B[1;33m]\u001B[0m\u001B[1;33m.\u001B[0m\u001B[0mview\u001B[0m\u001B[1;33m(\u001B[0m\u001B[1;33m-\u001B[0m\u001B[1;36m1\u001B[0m\u001B[1;33m,\u001B[0m \u001B[0mself\u001B[0m\u001B[1;33m.\u001B[0m\u001B[0mconfig\u001B[0m\u001B[1;33m.\u001B[0m\u001B[0mdim\u001B[0m\u001B[1;33m)\u001B[0m\u001B[1;33m\u001B[0m\u001B[1;33m\u001B[0m\u001B[0m\n\u001B[0;32m     45\u001B[0m         \u001B[0mscores\u001B[0m \u001B[1;33m=\u001B[0m \u001B[0mself\u001B[0m\u001B[1;33m.\u001B[0m\u001B[0moutput\u001B[0m\u001B[1;33m.\u001B[0m\u001B[0mproj\u001B[0m\u001B[1;33m(\u001B[0m\u001B[0mx\u001B[0m\u001B[1;33m)\u001B[0m\u001B[1;33m.\u001B[0m\u001B[0mview\u001B[0m\u001B[1;33m(\u001B[0m\u001B[1;33m-\u001B[0m\u001B[1;36m1\u001B[0m\u001B[1;33m,\u001B[0m \u001B[0mself\u001B[0m\u001B[1;33m.\u001B[0m\u001B[0mconfig\u001B[0m\u001B[1;33m.\u001B[0m\u001B[0mn_words\u001B[0m\u001B[1;33m)\u001B[0m\u001B[1;33m\u001B[0m\u001B[1;33m\u001B[0m\u001B[0m\n",
      "\u001B[1;31mAssertionError\u001B[0m: "
     ]
    }
   ],
   "source": [
    "A = 'KAAAAAAAAAAAAAAAAAAAAAAAAAAAAAAAAAAAAAAAAAAAE'\n",
    "B = 'KBBBBBBBBBBBBBBBBBBBBBBBBBBBBBBBBBBBBBBBBBBBE'\n",
    "X = 'KAAADAAAAADAAAAAMAAAAAAAAAAASAAAALAAAAAFNAAZE'\n",
    "\n",
    "#rnds = [gen_rnd_chars(xy_data_size_const) for _ in range(100)]\n",
    "\n",
    "print(trainers[0].act(A))\n",
    "print(trainers[0].act(B))"
   ]
  },
  {
   "cell_type": "code",
   "execution_count": null,
   "metadata": {
    "pycharm": {
     "name": "#%%\n"
    }
   },
   "outputs": [],
   "source": []
  },
  {
   "cell_type": "code",
   "execution_count": null,
   "metadata": {
    "pycharm": {
     "name": "#%%\n"
    },
    "scrolled": false
   },
   "outputs": [],
   "source": [
    "A = 'KAAAAAAAAAAAAAAAAAAAAAAAAAAAAAAAAAAAAAAAAAAAE'\n",
    "B = 'KBBBBBBBBBBBBBBBBBBBBBBBBBBBBBBBBBBBBBBBBBBBE'\n",
    "X = 'KAAADAAAAADAAAAAMAAAAAAAAAAASAAAALAAAAAFNAAZE'\n",
    "\n",
    "losses = []\n",
    "for it in range(2000):\n",
    "    loss = trainer.learn(join_sai(A), join_sai(A))\n",
    "    if loss[0]:\n",
    "        l = loss[1].item()\n",
    "        losses += [l]\n",
    "\n",
    "plt.plot(losses)\n",
    "plt.title('los s vs iteration')\n",
    "plt.xlabel('iteration')\n",
    "plt.ylabel('loss')\n",
    "plt.show()\n"
   ]
  },
  {
   "cell_type": "code",
   "execution_count": null,
   "metadata": {
    "pycharm": {
     "name": "#%%\n"
    }
   },
   "outputs": [],
   "source": [
    "print(act(A))"
   ]
  },
  {
   "cell_type": "code",
   "execution_count": null,
   "metadata": {
    "pycharm": {
     "name": "#%%\n"
    }
   },
   "outputs": [],
   "source": [
    "print(act(B))"
   ]
  },
  {
   "cell_type": "code",
   "execution_count": null,
   "metadata": {
    "pycharm": {
     "name": "#%%\n"
    }
   },
   "outputs": [],
   "source": [
    "import torch.multiprocessing as mp"
   ]
  },
  {
   "cell_type": "code",
   "execution_count": null,
   "metadata": {
    "pycharm": {
     "name": "#%%\n"
    }
   },
   "outputs": [],
   "source": [
    "mp.set_start_method('spawn', force=True)"
   ]
  },
  {
   "cell_type": "code",
   "execution_count": null,
   "metadata": {
    "pycharm": {
     "name": "#%%\n"
    }
   },
   "outputs": [],
   "source": [
    "def m():\n",
    "    while True:\n",
    "        print(1)"
   ]
  },
  {
   "cell_type": "code",
   "execution_count": null,
   "metadata": {
    "pycharm": {
     "name": "#%%\n"
    }
   },
   "outputs": [],
   "source": [
    "p = mp.Process(target=m, args=())\n",
    "\n",
    "p.start()"
   ]
  },
  {
   "cell_type": "code",
   "execution_count": null,
   "metadata": {
    "pycharm": {
     "name": "#%%\n"
    }
   },
   "outputs": [],
   "source": []
  }
 ],
 "metadata": {
  "kernelspec": {
   "display_name": "Python 3 (ipykernel)",
   "language": "python",
   "name": "python3"
  },
  "language_info": {
   "codemirror_mode": {
    "name": "ipython",
    "version": 3
   },
   "file_extension": ".py",
   "mimetype": "text/x-python",
   "name": "python",
   "nbconvert_exporter": "python",
   "pygments_lexer": "ipython3",
   "version": "3.9.7"
  }
 },
 "nbformat": 4,
 "nbformat_minor": 4
}