{
 "cells": [
  {
   "cell_type": "code",
   "execution_count": 1,
   "id": "3824b661-3154-45af-8b8f-bce8c7043a0f",
   "metadata": {},
   "outputs": [
    {
     "name": "stdout",
     "output_type": "stream",
     "text": [
      "['/share/input.txt', '/share/us-stock-dataset', '/share/Transformers1']\n"
     ]
    }
   ],
   "source": [
    "import glob\n",
    "print(glob.glob(\"/share/*\"))"
   ]
  },
  {
   "cell_type": "code",
   "execution_count": 2,
   "id": "fa155bcd-db9c-4f57-9ad6-f91ed1f1823f",
   "metadata": {},
   "outputs": [],
   "source": [
    "import sys\n",
    "import os\n",
    "\n",
    "import torch\n",
    "from torch import nn as nn\n",
    "import glob\n",
    "\n",
    "from t4.timeseries_transformer3 import TransformerConfig, TransformerRunner\n",
    "\n",
    "from timeseries.csv_reader import read_and_merge_csv_files\n",
    "\n",
    "from t3_karpathy.commons.commons import BaseTransformerConfig, min_max_scaling, extract_sliding_windows, z_scale, diff\n",
    "from t3_karpathy.token_codec import TokenCodec\n",
    "from t4.generic_dataloader import GenericDataloader\n",
    "from timeseries.timeseries_transformer import TimeseriesDataloader\n",
    "\n",
    "import torch\n",
    "import matplotlib.pyplot as plt"
   ]
  },
  {
   "cell_type": "code",
   "execution_count": 3,
   "id": "b1e8389d-be54-46eb-97da-8cfb245928bf",
   "metadata": {},
   "outputs": [
    {
     "name": "stdout",
     "output_type": "stream",
     "text": [
      "Reading and merging CSV files: ['AAPL', 'TSLA', 'A', 'GOOG', 'AMZN', 'PYPL', 'NVDA', 'AMD', 'NFLX', 'MSFT', 'INTC', 'CSCO', 'ADBE', 'CRM', 'QCOM', 'TXN', 'AVGO', 'INTU', 'ORCL', 'COST', 'SBUX', 'AMGN', 'CHTR', 'GILD', 'CMCSA', 'BKNG', 'MDLZ', 'FISV', 'BIIB', 'MU', 'MCD', 'AMAT', 'ADP', 'ILMN', 'ATVI', 'ISRG', 'ADSK', 'LRCX', 'BIDU', 'JD', 'REGN', 'WBA', 'VRTX', 'KHC', 'WMT', 'ZM', 'MELI', 'TMUS', 'CTSH', 'XLNX', 'PCAR', 'ALGN', 'WDAY', 'SIRI', 'CTXS', 'ADI', 'EXC', 'LULU', 'MAR', 'KLAC', 'PAYX', 'EA', 'ILMN', 'ALXN', 'MNST', 'BMRN', 'EBAY', 'CTAS', 'VRSK', 'IDXX', 'CDNS', 'NXPI', 'ASML', 'INCY', 'KLAC', 'MCHP', 'SNPS', 'SWKS', 'VRSN', 'WDC', 'WYNN', 'XLNX', 'ZBRA', 'ZTS', 'AEP', 'AIG', 'ALL', 'AXP', 'BA', 'BAC', 'BK', 'BLK', 'C', 'CAT', 'CL', 'COF', 'COP', 'COST', 'CSCO', 'CVS', 'CVX', 'DD', 'DHR', 'DIS', 'DOW', 'DUK', 'EMR', 'EXC', 'F', 'FDX', 'GD', 'GE', 'GILD', 'GM', 'GOOG', 'GOOGL', 'GS', 'HD', 'HON', 'IBM', 'INTC', 'JNJ', 'JPM', 'KHC', 'KMI', 'KO', 'LLY', 'LMT', 'LOW', 'MA', 'MCD', 'MDLZ', 'MDT', 'MET', 'MMM', 'BLND', 'BLNG', 'BLNKW', 'BLNGU', 'BLNGW', 'BLNK', 'BLPH', 'BLRX', 'BLTE', 'BLU', 'BLUA', 'BLUE', 'BLW', 'BLX', 'BLZE', 'BMA', 'BMAC', 'BMAQ', 'BMAQR', 'BMAQU']\n",
      "File /share/us-stock-dataset/Data/Stocks/XLNX.csv not found\n",
      "File /share/us-stock-dataset/Data/Stocks/CTXS.csv not found\n",
      "File /share/us-stock-dataset/Data/Stocks/ALXN.csv not found\n",
      "File /share/us-stock-dataset/Data/Stocks/XLNX.csv not found\n",
      "File /share/us-stock-dataset/Data/Stocks/BLNKW.csv not found\n",
      "File /share/us-stock-dataset/Data/Stocks/BLNGU.csv not found\n",
      "File /share/us-stock-dataset/Data/Stocks/BLNGW.csv not found\n",
      "File /share/us-stock-dataset/Data/Stocks/BMAQ.csv not found\n",
      "File /share/us-stock-dataset/Data/Stocks/BMAQR.csv not found\n",
      "File /share/us-stock-dataset/Data/Stocks/BMAQU.csv not found\n",
      "Found files:  145\n",
      "torch.Size([5283, 145])\n"
     ]
    }
   ],
   "source": [
    "stocks_to_load = [\n",
    "    \"AAPL\", \"TSLA\",\n",
    "    \"A\", \"GOOG\", \"AMZN\", \"PYPL\", \"NVDA\", \"AMD\",\n",
    "    \"NFLX\", \"MSFT\", \"INTC\", \"CSCO\", \"ADBE\", \"CRM\", \"QCOM\", \"TXN\", \"AVGO\",\n",
    "    \"INTU\", \"ORCL\", \"COST\", \"SBUX\", \"AMGN\", \"CHTR\", \"GILD\", \"CMCSA\", \"BKNG\",\n",
    "    \"MDLZ\", \"FISV\", \"BIIB\", \"MU\", \"MCD\", \"AMAT\", \"ADP\", \"ILMN\", \"ATVI\", \"ISRG\",\n",
    "    \"ADSK\", \"LRCX\", \"BIDU\", \"JD\", \"REGN\", \"WBA\", \"VRTX\", \"KHC\", \"WMT\", \"ZM\", \"MELI\",\n",
    "    \"TMUS\", \"CTSH\", \"XLNX\", \"PCAR\", \"ALGN\", \"WDAY\", \"SIRI\", \"CTXS\", \"ADI\", \"EXC\", \"LULU\",\n",
    "    \"MAR\", \"KLAC\", \"PAYX\", \"EA\", \"ILMN\", \"ALXN\", \"MNST\", \"BMRN\", \"EBAY\", \"CTAS\", \"VRSK\",\n",
    "    \"IDXX\", \"CDNS\", \"NXPI\", \"ASML\", \"INCY\", \"KLAC\", \"MCHP\", \"SNPS\", \"SWKS\", \"VRSN\",\n",
    "    \"WDC\", \"WYNN\", \"XLNX\", \"ZBRA\", \"ZTS\", \"AEP\", \"AIG\", \"ALL\", \"AXP\", \"BA\", \"BAC\",\n",
    "    \"BK\", \"BLK\", \"C\", \"CAT\", \"CL\", \"COF\", \"COP\", \"COST\", \"CSCO\", \"CVS\", \"CVX\",\n",
    "    \"DD\", \"DHR\", \"DIS\", \"DOW\", \"DUK\", \"EMR\", \"EXC\", \"F\", \"FDX\", \"GD\", \"GE\", \"GILD\",\n",
    "    \"GM\", \"GOOG\", \"GOOGL\", \"GS\", \"HD\", \"HON\", \"IBM\", \"INTC\", \"JNJ\", \"JPM\", \"KHC\", \"KMI\",\n",
    "    \"KO\", \"LLY\", \"LMT\", \"LOW\", \"MA\", \"MCD\", \"MDLZ\", \"MDT\", \"MET\", \"MMM\",\n",
    "    'BLND', 'BLNG', 'BLNKW', 'BLNGU', 'BLNGW', 'BLNK', 'BLPH', 'BLRX',\n",
    "    'BLTE', 'BLU', 'BLUA', 'BLUE', 'BLW', 'BLX', 'BLZE', 'BMA', 'BMAC', 'BMAQ', 'BMAQR', 'BMAQU'\n",
    "]\n",
    "\n",
    "directory_path = '/share/us-stock-dataset/Data/Stocks'\n",
    "\n",
    "# stocks_to_load = [s.split(\"\\\\\")[1].replace(\".csv\", \"\") for s in glob.glob(directory_path + \"//*.csv\")]\n",
    "#\n",
    "# stock_number_to_load = 200\n",
    "#\n",
    "# stocks_to_load = stocks_to_load[1000:1000+stock_number_to_load]\n",
    "\n",
    "dataloader = TimeseriesDataloader(directory_path, stocks_to_load, add_diff=False)\n",
    "\n",
    "print(dataloader.get_data().shape)"
   ]
  },
  {
   "cell_type": "code",
   "execution_count": 4,
   "id": "1e7e60b8-1d9a-4a65-9114-3040154e11b7",
   "metadata": {},
   "outputs": [
    {
     "name": "stdout",
     "output_type": "stream",
     "text": [
      "torch.Size([145, 5283])\n"
     ]
    }
   ],
   "source": [
    "data_loader_data = dataloader.get_data().transpose(0, 1)\n",
    "print(data_loader_data.shape)"
   ]
  },
  {
   "cell_type": "code",
   "execution_count": 5,
   "id": "6e9deb00-a216-4575-8c22-9ba9e02b8ca0",
   "metadata": {},
   "outputs": [
    {
     "data": {
      "text/plain": [
       "tensor([[  0.8495,   0.7778,   0.7892,  ..., 134.6764, 132.8832, 131.7501],\n",
       "        [  1.5927,   1.5927,   1.5927,  ..., 221.2300, 221.9967, 231.5933],\n",
       "        [ 43.9297,  40.5740,  38.0572,  ..., 116.0503, 115.4594, 115.6170],\n",
       "        ...,\n",
       "        [ 19.9000,  19.9000,  19.9000,  ...,  19.9000,  19.9000,  19.9000],\n",
       "        [ 15.6074,  15.6074,  15.6074,  ...,  14.4057,  15.1121,  14.7217],\n",
       "        [  9.8600,   9.8600,   9.8600,  ...,   9.8600,   9.8600,   9.8600]],\n",
       "       device='cuda:0')"
      ]
     },
     "execution_count": 5,
     "metadata": {},
     "output_type": "execute_result"
    }
   ],
   "source": [
    "data_loader_data"
   ]
  },
  {
   "cell_type": "code",
   "execution_count": 6,
   "id": "1991e2dc-faa3-4a14-add6-58d9a7225e55",
   "metadata": {},
   "outputs": [],
   "source": [
    "diff_data = diff(data_loader_data, 1)\n",
    "data = z_scale(diff_data, 1)"
   ]
  },
  {
   "cell_type": "code",
   "execution_count": 7,
   "id": "3ce02885-c500-4622-ae09-4b909c69a1f2",
   "metadata": {},
   "outputs": [
    {
     "data": {
      "text/plain": [
       "tensor([-0.0716,  0.0114, -0.0683,  ...,  4.6505, -1.7932, -1.1331],\n",
       "       device='cuda:0')"
      ]
     },
     "execution_count": 7,
     "metadata": {},
     "output_type": "execute_result"
    }
   ],
   "source": [
    "diff_data[0]"
   ]
  },
  {
   "cell_type": "code",
   "execution_count": 8,
   "id": "9d0993d7-e968-444e-b332-58ff28611788",
   "metadata": {},
   "outputs": [
    {
     "data": {
      "text/plain": [
       "tensor(1., device='cuda:0')"
      ]
     },
     "execution_count": 8,
     "metadata": {},
     "output_type": "execute_result"
    }
   ],
   "source": [
    "torch.std(data[1])"
   ]
  },
  {
   "cell_type": "code",
   "execution_count": 9,
   "id": "b0d0e4bc-060e-4686-8fd9-b9a10b706759",
   "metadata": {},
   "outputs": [
    {
     "data": {
      "text/plain": [
       "torch.Size([145, 5275, 8])"
      ]
     },
     "execution_count": 9,
     "metadata": {},
     "output_type": "execute_result"
    }
   ],
   "source": [
    "windowed = extract_sliding_windows(data, 8)\n",
    "windowed.shape"
   ]
  },
  {
   "cell_type": "code",
   "execution_count": 10,
   "id": "6436312c-bccf-41ee-8b45-37805dcfa55f",
   "metadata": {},
   "outputs": [
    {
     "data": {
      "text/plain": [
       "tensor([-0.0209, -0.1449,  0.0146, -0.0593, -0.0977, -0.1043,  0.0744,  0.0050],\n",
       "       device='cuda:0')"
      ]
     },
     "execution_count": 10,
     "metadata": {},
     "output_type": "execute_result"
    }
   ],
   "source": [
    "windowed[0, 1, :]"
   ]
  },
  {
   "cell_type": "code",
   "execution_count": 11,
   "id": "0279658f-9a75-4485-a580-75e70d8d653f",
   "metadata": {},
   "outputs": [
    {
     "data": {
      "text/plain": [
       "tensor([-0.1501, -0.0209, -0.1449,  ...,  7.2019, -2.8304, -1.8027],\n",
       "       device='cuda:0')"
      ]
     },
     "execution_count": 11,
     "metadata": {},
     "output_type": "execute_result"
    }
   ],
   "source": [
    "data[0,:]"
   ]
  },
  {
   "cell_type": "code",
   "execution_count": 12,
   "id": "f2db3e5a-e4de-401a-ab7d-ff2ef4c50472",
   "metadata": {},
   "outputs": [
    {
     "name": "stdout",
     "output_type": "stream",
     "text": [
      "torch.Size([764875, 8])\n"
     ]
    }
   ],
   "source": [
    "flat_windowed = windowed.reshape(windowed.shape[0]* windowed.shape[1], -1)\n",
    "print(flat_windowed.shape)"
   ]
  },
  {
   "cell_type": "code",
   "execution_count": null,
   "id": "b3cc4a0c-0346-418d-90b0-ae64ffe484b4",
   "metadata": {},
   "outputs": [
    {
     "name": "stdout",
     "output_type": "stream",
     "text": [
      "0.487448 M parameters\n",
      "step 0: train loss 1.0102, val loss 0.7813, time/iter 2.86102294921875e-08\n",
      "saved model version 1\n",
      "step 100: train loss 0.4173, val loss 0.3308, time/iter 0.0489008378982544\n",
      "step 200: train loss 0.3985, val loss 0.3242, time/iter 0.04117295026779175\n",
      "step 300: train loss 0.3992, val loss 0.3150, time/iter 0.040119249820709225\n",
      "step 400: train loss 0.3907, val loss 0.2801, time/iter 0.039424393177032474\n",
      "step 500: train loss 0.3842, val loss 0.3014, time/iter 0.04054482936859131\n",
      "step 600: train loss 0.3843, val loss 0.3089, time/iter 0.03979179859161377\n",
      "step 700: train loss 0.3972, val loss 0.2947, time/iter 0.0401300048828125\n",
      "step 800: train loss 0.3692, val loss 0.2837, time/iter 0.036434953212738035\n",
      "step 900: train loss 0.3867, val loss 0.3073, time/iter 0.04791674852371216\n",
      "step 1000: train loss 0.3626, val loss 0.3106, time/iter 0.04624037265777588\n",
      "saved model version 2\n",
      "step 1100: train loss 0.3860, val loss 0.3057, time/iter 0.044865119457244876\n",
      "step 1200: train loss 0.3882, val loss 0.3155, time/iter 0.048045971393585206\n",
      "step 1300: train loss 0.3962, val loss 0.3232, time/iter 0.043185582160949705\n",
      "step 1400: train loss 0.3873, val loss 0.3182, time/iter 0.04681601762771606\n"
     ]
    }
   ],
   "source": [
    "device = 'cuda'\n",
    "\n",
    "torch.manual_seed(1337)\n",
    "\n",
    "config = TransformerConfig(\n",
    "    input_embed=flat_windowed.shape[1], \n",
    "    precision=torch.bfloat16, \n",
    "    batch_size=128, \n",
    "    block_size=1, \n",
    "    n_embed=64, \n",
    "    n_head=4, \n",
    "    n_layer=4, \n",
    "    learning_rate=0.001\n",
    ")\n",
    "\n",
    "runner = TransformerRunner(config, flat_windowed)\n",
    "\n",
    "runner.train_iterate_n(25000)\n",
    "\n",
    "context = torch.zeros((1, 1), dtype=torch.long, device=device)\n",
    "# print(dataloader.token_codec.decode(runner.generate(context, max_new_tokens=2000)[0].tolist()))"
   ]
  },
  {
   "cell_type": "code",
   "execution_count": null,
   "id": "ad9b615c-0050-4c38-ac73-e646506377b2",
   "metadata": {},
   "outputs": [],
   "source": [
    "\n",
    "# Generate a sample tensor (you can replace this with your tensor)\n",
    "tensor = data_loader_data.to('cpu')\n",
    "\n",
    "# Plotting\n",
    "plt.figure(figsize=(15, 7))\n",
    "for i in range(tensor.shape[0]):\n",
    "    plt.plot(tensor[i].numpy(), linewidth=0.5)  # Convert tensor to numpy for plotting\n",
    "\n",
    "plt.title(\"145 Time Series\")\n",
    "plt.xlabel(\"Time Steps\")\n",
    "plt.ylabel(\"Value\")\n",
    "plt.show()\n"
   ]
  },
  {
   "cell_type": "code",
   "execution_count": null,
   "id": "d583ee82-e227-4a5f-905a-994885e64c1f",
   "metadata": {},
   "outputs": [],
   "source": [
    "import pandas as pd\n",
    "import plotly.offline as pyo\n",
    "pyo.init_notebook_mode(connected=True)\n",
    "\n",
    "import plotly.express as px\n",
    "\n",
    "# Sample data\n",
    "data = {\n",
    "    'Date': pd.date_range(start='2022-01-01', periods=10, freq='D'),\n",
    "    'Value': [1, 3, 5, 6, 8, 10, 12, 14, 16, 18]\n",
    "}\n",
    "\n",
    "# Creating a DataFrame\n",
    "df = pd.DataFrame(data)\n",
    "\n",
    "# Plotting using Plotly\n",
    "fig = px.line(df, x='Date', y='Value', title='Time Series')\n",
    "fig.show()\n"
   ]
  },
  {
   "cell_type": "code",
   "execution_count": null,
   "id": "a7d1e562-234f-4f1b-b9f5-e47593792134",
   "metadata": {},
   "outputs": [],
   "source": [
    "!pip install plotly"
   ]
  },
  {
   "cell_type": "code",
   "execution_count": null,
   "id": "91e312ca-776b-4048-b159-9e68a0d1ce2c",
   "metadata": {},
   "outputs": [],
   "source": []
  }
 ],
 "metadata": {
  "kernelspec": {
   "display_name": "Python 3 (ipykernel)",
   "language": "python",
   "name": "python3"
  },
  "language_info": {
   "codemirror_mode": {
    "name": "ipython",
    "version": 3
   },
   "file_extension": ".py",
   "mimetype": "text/x-python",
   "name": "python",
   "nbconvert_exporter": "python",
   "pygments_lexer": "ipython3",
   "version": "3.10.12"
  }
 },
 "nbformat": 4,
 "nbformat_minor": 5
}
