{
 "cells": [
  {
   "cell_type": "code",
   "execution_count": 1,
   "id": "3824b661-3154-45af-8b8f-bce8c7043a0f",
   "metadata": {},
   "outputs": [
    {
     "name": "stdout",
     "output_type": "stream",
     "text": [
      "['/share/stocks_to_numpy_file.ipynb', '/share/all_stocks.npy', '/share/input.txt', '/share/us-stock-dataset', '/share/Transformers1', '/share/short_stocks.npy']\n"
     ]
    }
   ],
   "source": [
    "import glob\n",
    "print(glob.glob(\"/share/*\"))"
   ]
  },
  {
   "cell_type": "code",
   "execution_count": 2,
   "id": "fa155bcd-db9c-4f57-9ad6-f91ed1f1823f",
   "metadata": {},
   "outputs": [],
   "source": [
    "import sys\n",
    "import os\n",
    "\n",
    "import numpy as np\n",
    "import torch\n",
    "from torch import nn as nn\n",
    "import glob\n",
    "\n",
    "from t4.timeseries_transformer2 import TransformerConfig, TransformerRunner\n",
    "\n",
    "from timeseries.csv_reader import read_and_merge_csv_files\n",
    "\n",
    "from t3_karpathy.commons.commons import BaseTransformerConfig, min_max_scaling, extract_sliding_windows, z_scale, diff, standardize\n",
    "from t3_karpathy.token_codec import TokenCodec\n",
    "from t4.generic_dataloader import GenericDataloader\n",
    "from timeseries.timeseries_transformer import TimeseriesDataloader\n",
    "\n",
    "import torch\n",
    "import matplotlib.pyplot as plt"
   ]
  },
  {
   "cell_type": "code",
   "execution_count": 3,
   "id": "b1e8389d-be54-46eb-97da-8cfb245928bf",
   "metadata": {},
   "outputs": [
    {
     "data": {
      "text/plain": [
       "torch.Size([145, 5283])"
      ]
     },
     "execution_count": 3,
     "metadata": {},
     "output_type": "execute_result"
    }
   ],
   "source": [
    "data_loader_data=torch.tensor(np.load('/share/short_stocks.npy')).transpose(0, 1).cpu()\n",
    "data_loader_data.shape"
   ]
  },
  {
   "cell_type": "code",
   "execution_count": 4,
   "id": "016a07cf-7021-460f-8abe-f1f920d82059",
   "metadata": {},
   "outputs": [
    {
     "data": {
      "text/plain": [
       "tensor([  23.2384,   23.7617,   21.6897,   20.7613,   35.8314,   31.9676,\n",
       "          25.2722,   15.1839,  128.0243,   43.4098,   11.9321,   10.8525,\n",
       "         103.2019,   55.5136,   20.6267,   31.6318,   88.8389,   78.8836,\n",
       "          13.7210,   79.7230,   23.5181,   53.0531,  148.3938,   26.3437,\n",
       "          11.5081,  713.4839,   12.5933,   29.6434,  118.2293,   16.8346,\n",
       "          54.2486,   14.5844,   40.6059,  107.0502,   21.9491,   60.2218,\n",
       "          54.6771,   77.0419,   78.5897,   10.0033,  187.4438,   16.0286,\n",
       "          64.6127,    8.8380,   24.7720,   53.1130,  234.3294,   21.4004,\n",
       "          23.3201,   12.6637,   99.1644,   43.5929,    8.3354,   27.5374,\n",
       "           6.7543,   68.7931,   37.0720,   42.5301,   18.0644,   33.4005,\n",
       "         107.0502,   11.8405,   36.2503,   11.0550,   71.7311,   40.4823,\n",
       "          91.5176,   21.1485,   37.5611,   85.0911,   38.2881,   42.5301,\n",
       "          13.2146,   41.8944,   35.2140,   57.8205,   25.3846,   49.5246,\n",
       "          64.9794,   30.3103,   20.2270,  409.9606,   24.5550,   26.7170,\n",
       "          95.8705,    8.9395,    8.7103,  149.3275,  128.8657,   37.0905,\n",
       "          18.8731,   18.8449,   15.0304,   79.7230,   10.8525,   22.8704,\n",
       "          27.3546,   19.5396,   44.4546,   39.3384,    1.7822,   20.3870,\n",
       "          15.9594,    6.7543,    2.6716,   55.1006,   51.4791,   36.9437,\n",
       "          26.3437,    4.4589,   20.7613,   20.8906,   50.0923,   63.6896,\n",
       "          44.9706,   29.3127,   11.9321,   34.2963,   27.2111,    8.8380,\n",
       "           3.2884,   11.2535,   30.5564,  103.9313,   33.2603,   84.6835,\n",
       "          54.2486,   12.5933,   21.6508,    9.2835,   48.4585,    0.0000,\n",
       "           0.0000, 1228.7963,   50.3299,   28.5065,    0.0000,  760.2019,\n",
       "           0.0000,   27.5171,    2.5357,    5.1577,    0.0000,   20.3981,\n",
       "           0.0000])"
      ]
     },
     "execution_count": 4,
     "metadata": {},
     "output_type": "execute_result"
    }
   ],
   "source": [
    "data_loader_data.std(1)"
   ]
  },
  {
   "cell_type": "code",
   "execution_count": 5,
   "id": "5bdff163-40ee-480d-b2bd-63e94b7d3c7f",
   "metadata": {},
   "outputs": [
    {
     "name": "stdout",
     "output_type": "stream",
     "text": [
      "torch.Size([145, 5283])\n"
     ]
    }
   ],
   "source": [
    "stocks_to_load = [\n",
    "    \"AAPL\", \"TSLA\",\n",
    "    \"GOOG\", \"AMZN\", \"PYPL\", \"NVDA\", \"AMD\", \"NFLX\", \"MSFT\", \"INTC\",\n",
    "    # \"A\", \n",
    "    # \"CSCO\", \"ADBE\", \"CRM\", \"QCOM\", \"TXN\", \"AVGO\",\n",
    "    # \"INTU\", \"ORCL\", \"COST\", \"SBUX\", \"AMGN\", \"CHTR\", \"GILD\", \"CMCSA\", \"BKNG\",\n",
    "    # \"MDLZ\", \"FISV\", \"BIIB\", \"MU\", \"MCD\", \"AMAT\", \"ADP\", \"ILMN\", \"ATVI\", \"ISRG\",\n",
    "    # \"ADSK\", \"LRCX\", \"BIDU\", \"JD\", \"REGN\", \"WBA\", \"VRTX\", \"KHC\", \"WMT\", \"ZM\", \"MELI\",\n",
    "    # \"TMUS\", \"CTSH\", \"XLNX\", \"PCAR\", \"ALGN\", \"WDAY\", \"SIRI\", \"CTXS\", \"ADI\", \"EXC\", \"LULU\",\n",
    "    # \"MAR\", \"KLAC\", \"PAYX\", \"EA\", \"ILMN\", \"ALXN\", \"MNST\", \"BMRN\", \"EBAY\", \"CTAS\", \"VRSK\",\n",
    "    # \"IDXX\", \"CDNS\", \"NXPI\", \"ASML\", \"INCY\", \"KLAC\", \"MCHP\", \"SNPS\", \"SWKS\", \"VRSN\",\n",
    "    # \"WDC\", \"WYNN\", \"XLNX\", \"ZBRA\", \"ZTS\", \"AEP\", \"AIG\", \"ALL\", \"AXP\", \"BA\", \"BAC\",\n",
    "    # \"BK\", \"BLK\", \"C\", \"CAT\", \"CL\", \"COF\", \"COP\", \"COST\", \"CSCO\", \"CVS\", \"CVX\",\n",
    "    # \"DD\", \"DHR\", \"DIS\", \"DOW\", \"DUK\", \"EMR\", \"EXC\", \"F\", \"FDX\", \"GD\", \"GE\", \"GILD\",\n",
    "    # \"GM\", \"GOOG\", \"GOOGL\", \"GS\", \"HD\", \"HON\", \"IBM\", \"INTC\", \"JNJ\", \"JPM\", \"KHC\", \"KMI\",\n",
    "    # \"KO\", \"LLY\", \"LMT\", \"LOW\", \"MA\", \"MCD\", \"MDLZ\", \"MDT\", \"MET\", \"MMM\",\n",
    "    # 'BLND', 'BLNG', 'BLNKW', 'BLNGU', 'BLNGW', 'BLNK', 'BLPH', 'BLRX',\n",
    "    # 'BLTE', 'BLU', 'BLUA', 'BLUE', 'BLW', 'BLX', 'BLZE', 'BMA', 'BMAC', 'BMAQ', 'BMAQR', 'BMAQU'\n",
    "]\n",
    "#directory_path = '/share/us-stock-dataset/Data/Stocks'\n",
    "#dataloader = TimeseriesDataloader(directory_path, stocks_to_load, add_diff=False)\n",
    "#data_loader_data=dataloader.get_data().transpose(0,1)\n",
    "print(data_loader_data.shape)"
   ]
  },
  {
   "cell_type": "code",
   "execution_count": 6,
   "id": "6e9deb00-a216-4575-8c22-9ba9e02b8ca0",
   "metadata": {},
   "outputs": [],
   "source": [
    "data = data_loader_data"
   ]
  },
  {
   "cell_type": "code",
   "execution_count": 7,
   "id": "1991e2dc-faa3-4a14-add6-58d9a7225e55",
   "metadata": {},
   "outputs": [],
   "source": [
    "data = diff(data, 1)\n",
    "data = standardize(data, -1)"
   ]
  },
  {
   "cell_type": "code",
   "execution_count": 8,
   "id": "ecfe18d2-0ea5-48c2-8cf4-c7877a7e251b",
   "metadata": {},
   "outputs": [
    {
     "data": {
      "text/plain": [
       "tensor([1.0000, 1.0000, 1.0000, 1.0000, 1.0000, 1.0000, 1.0000, 1.0000, 1.0000,\n",
       "        1.0000, 1.0000, 1.0000, 1.0000, 1.0000, 1.0000, 1.0000, 1.0000, 1.0000,\n",
       "        1.0000, 1.0000, 1.0000, 1.0000, 1.0000, 1.0000, 1.0000, 1.0000, 1.0000,\n",
       "        1.0000, 1.0000, 1.0000, 1.0000, 1.0000, 1.0000, 1.0000, 1.0000, 1.0000,\n",
       "        1.0000, 1.0000, 1.0000, 1.0000, 1.0000, 1.0000, 1.0000, 1.0000, 1.0000,\n",
       "        1.0000, 1.0000, 1.0000, 1.0000, 1.0000, 1.0000, 1.0000, 1.0000, 1.0000,\n",
       "        1.0000, 1.0000, 1.0000, 1.0000, 1.0000, 1.0000, 1.0000, 1.0000, 1.0000,\n",
       "        1.0000, 1.0000, 1.0000, 1.0000, 1.0000, 1.0000, 1.0000, 1.0000, 1.0000,\n",
       "        1.0000, 1.0000, 1.0000, 1.0000, 1.0000, 1.0000, 1.0000, 1.0000, 1.0000,\n",
       "        1.0000, 1.0000, 1.0000, 1.0000, 1.0000, 1.0000, 1.0000, 1.0000, 1.0000,\n",
       "        1.0000, 1.0000, 1.0000, 1.0000, 1.0000, 1.0000, 1.0000, 1.0000, 1.0000,\n",
       "        1.0000, 1.0000, 1.0000, 1.0000, 1.0000, 1.0000, 1.0000, 1.0000, 1.0000,\n",
       "        1.0000, 1.0000, 1.0000, 1.0000, 1.0000, 1.0000, 1.0000, 1.0000, 1.0000,\n",
       "        1.0000, 1.0000, 1.0000, 1.0000, 1.0000, 1.0000, 1.0000, 1.0000, 1.0000,\n",
       "        1.0000, 1.0000, 1.0000, 1.0000, 1.0000, 0.0000, 0.0000, 1.0000, 1.0000,\n",
       "        1.0000, 0.0000, 1.0000, 0.0000, 1.0000, 1.0000, 1.0000, 0.0000, 1.0000,\n",
       "        0.0000])"
      ]
     },
     "execution_count": 8,
     "metadata": {},
     "output_type": "execute_result"
    }
   ],
   "source": [
    "data.std(1)"
   ]
  },
  {
   "cell_type": "code",
   "execution_count": 9,
   "id": "b0d0e4bc-060e-4686-8fd9-b9a10b706759",
   "metadata": {},
   "outputs": [
    {
     "data": {
      "text/plain": [
       "torch.Size([145, 5275, 8])"
      ]
     },
     "execution_count": 9,
     "metadata": {},
     "output_type": "execute_result"
    }
   ],
   "source": [
    "windowed = extract_sliding_windows(data, 8)\n",
    "windowed.shape"
   ]
  },
  {
   "cell_type": "code",
   "execution_count": 10,
   "id": "6436312c-bccf-41ee-8b45-37805dcfa55f",
   "metadata": {},
   "outputs": [
    {
     "data": {
      "text/plain": [
       "tensor([-0.0209, -0.1449,  0.0146, -0.0593, -0.0977, -0.1043,  0.0744,  0.0050])"
      ]
     },
     "execution_count": 10,
     "metadata": {},
     "output_type": "execute_result"
    }
   ],
   "source": [
    "windowed[0, 1, :]"
   ]
  },
  {
   "cell_type": "code",
   "execution_count": 11,
   "id": "f2db3e5a-e4de-401a-ab7d-ff2ef4c50472",
   "metadata": {},
   "outputs": [
    {
     "name": "stdout",
     "output_type": "stream",
     "text": [
      "torch.Size([764875, 8])\n"
     ]
    }
   ],
   "source": [
    "flat_windowed = windowed.reshape(windowed.shape[0]* windowed.shape[1], -1)\n",
    "print(flat_windowed.shape)"
   ]
  },
  {
   "cell_type": "code",
   "execution_count": 12,
   "id": "b3cc4a0c-0346-418d-90b0-ae64ffe484b4",
   "metadata": {},
   "outputs": [
    {
     "name": "stdout",
     "output_type": "stream",
     "text": [
      "1.002376 M parameters\n",
      "step 0: train loss 0.9918, val loss 0.7716, time/iter 3.5762786865234374e-08\n",
      "saved model version 1\n",
      "step 100: train loss 0.3817, val loss 0.3007, time/iter 0.020550651550292967\n",
      "step 200: train loss 0.3845, val loss 0.3085, time/iter 0.020372223854064942\n",
      "step 300: train loss 0.3913, val loss 0.2864, time/iter 0.01991020917892456\n",
      "step 400: train loss 0.3757, val loss 0.2890, time/iter 0.019565997123718263\n",
      "step 500: train loss 0.3740, val loss 0.2942, time/iter 0.01991913080215454\n",
      "step 600: train loss 0.3709, val loss 0.3040, time/iter 0.017369370460510253\n",
      "step 700: train loss 0.3828, val loss 0.2866, time/iter 0.021832563877105714\n",
      "step 800: train loss 0.3766, val loss 0.3011, time/iter 0.020317649841308592\n",
      "step 900: train loss 0.3943, val loss 0.3299, time/iter 0.017568459510803224\n",
      "step 1000: train loss 0.3787, val loss 0.3141, time/iter 0.018606884479522703\n",
      "saved model version 2\n",
      "step 1100: train loss 0.3900, val loss 0.3356, time/iter 0.020008037090301512\n",
      "step 1200: train loss 0.3980, val loss 0.3154, time/iter 0.01962818145751953\n",
      "step 1300: train loss 0.3776, val loss 0.3038, time/iter 0.019277756214141847\n",
      "step 1400: train loss 0.3809, val loss 0.3338, time/iter 0.019531171321868896\n",
      "step 1500: train loss 0.3593, val loss 0.2973, time/iter 0.020019421577453612\n",
      "step 1600: train loss 0.3745, val loss 0.2965, time/iter 0.0198486328125\n",
      "step 1700: train loss 0.3653, val loss 0.2856, time/iter 0.02050249099731445\n",
      "step 1800: train loss 0.3829, val loss 0.3028, time/iter 0.01901830196380615\n",
      "step 1900: train loss 0.3838, val loss 0.3087, time/iter 0.020973150730133058\n",
      "step 2000: train loss 0.3682, val loss 0.2872, time/iter 0.019675817489624024\n",
      "saved model version 3\n",
      "step 2100: train loss 0.3625, val loss 0.3001, time/iter 0.02130357503890991\n",
      "step 2200: train loss 0.3612, val loss 0.2771, time/iter 0.019788155555725096\n",
      "step 2300: train loss 0.3652, val loss 0.3013, time/iter 0.020951099395751953\n",
      "step 2400: train loss 0.3761, val loss 0.3225, time/iter 0.018632524013519287\n",
      "step 2500: train loss 0.3645, val loss 0.2912, time/iter 0.01970409870147705\n",
      "step 2600: train loss 0.3625, val loss 0.2851, time/iter 0.01971977710723877\n",
      "step 2700: train loss 0.3657, val loss 0.3015, time/iter 0.01995089054107666\n",
      "step 2800: train loss 0.3596, val loss 0.3162, time/iter 0.020149905681610108\n",
      "step 2900: train loss 0.3645, val loss 0.3195, time/iter 0.019988715648651123\n",
      "step 3000: train loss 0.3637, val loss 0.3215, time/iter 0.017153346538543703\n",
      "saved model version 4\n",
      "step 3100: train loss 0.3728, val loss 0.3154, time/iter 0.01941415071487427\n",
      "step 3200: train loss 0.3634, val loss 0.2861, time/iter 0.01873304843902588\n",
      "step 3300: train loss 0.3624, val loss 0.2888, time/iter 0.020826537609100342\n",
      "step 3400: train loss 0.3729, val loss 0.3147, time/iter 0.020777461528778077\n",
      "step 3500: train loss 0.3606, val loss 0.2931, time/iter 0.019790284633636475\n",
      "step 3600: train loss 0.3647, val loss 0.2911, time/iter 0.018155243396759033\n",
      "step 3700: train loss 0.3541, val loss 0.2810, time/iter 0.01994614601135254\n",
      "step 3800: train loss 0.3575, val loss 0.2839, time/iter 0.020222513675689696\n",
      "step 3900: train loss 0.3526, val loss 0.2973, time/iter 0.018583855628967284\n",
      "step 4000: train loss 0.3531, val loss 0.3045, time/iter 0.01867158889770508\n",
      "saved model version 5\n",
      "step 4100: train loss 0.3730, val loss 0.2723, time/iter 0.019151248931884766\n",
      "step 4200: train loss 0.3657, val loss 0.3009, time/iter 0.020147030353546144\n",
      "step 4300: train loss 0.3683, val loss 0.3089, time/iter 0.020104799270629883\n",
      "step 4400: train loss 0.3642, val loss 0.3009, time/iter 0.02068348169326782\n",
      "step 4500: train loss 0.3608, val loss 0.2835, time/iter 0.01857962369918823\n",
      "step 4600: train loss 0.3565, val loss 0.2853, time/iter 0.019750819206237794\n",
      "step 4700: train loss 0.3558, val loss 0.2885, time/iter 0.02020268440246582\n",
      "step 4800: train loss 0.3738, val loss 0.3099, time/iter 0.02131197214126587\n",
      "step 4900: train loss 0.3717, val loss 0.2801, time/iter 0.0203339147567749\n",
      "step 5000: train loss 0.3688, val loss 0.3139, time/iter 0.019966821670532226\n",
      "saved model version 6\n",
      "step 5100: train loss 0.3641, val loss 0.2917, time/iter 0.02095440149307251\n",
      "step 5200: train loss 0.3582, val loss 0.2872, time/iter 0.020368738174438475\n",
      "step 5300: train loss 0.3629, val loss 0.3119, time/iter 0.019200763702392577\n",
      "step 5400: train loss 0.3730, val loss 0.2949, time/iter 0.01969752311706543\n",
      "step 5500: train loss 0.3605, val loss 0.3198, time/iter 0.0197652530670166\n",
      "step 5600: train loss 0.3615, val loss 0.2864, time/iter 0.020022611618041992\n",
      "step 5700: train loss 0.3586, val loss 0.2611, time/iter 0.020145020484924316\n",
      "step 5800: train loss 0.3572, val loss 0.2982, time/iter 0.017849833965301515\n",
      "step 5900: train loss 0.3671, val loss 0.2877, time/iter 0.018377320766448976\n",
      "step 6000: train loss 0.3647, val loss 0.2678, time/iter 0.01925657033920288\n",
      "saved model version 7\n",
      "step 6100: train loss 0.3602, val loss 0.3378, time/iter 0.019986674785614014\n",
      "step 6200: train loss 0.3621, val loss 0.2915, time/iter 0.01941068172454834\n",
      "step 6300: train loss 0.3655, val loss 0.2951, time/iter 0.017973222732543946\n",
      "step 6400: train loss 0.3712, val loss 0.3037, time/iter 0.01883814811706543\n",
      "step 6500: train loss 0.3659, val loss 0.2989, time/iter 0.018860278129577638\n",
      "step 6600: train loss 0.3627, val loss 0.2762, time/iter 0.019900932312011718\n",
      "step 6700: train loss 0.3592, val loss 0.3017, time/iter 0.01895310163497925\n",
      "step 6800: train loss 0.3803, val loss 0.3017, time/iter 0.017807788848876953\n",
      "step 6900: train loss 0.3609, val loss 0.3041, time/iter 0.019394903182983397\n",
      "step 7000: train loss 0.3662, val loss 0.2960, time/iter 0.01881237030029297\n",
      "saved model version 8\n",
      "step 7100: train loss 0.3520, val loss 0.2982, time/iter 0.019901514053344727\n",
      "step 7200: train loss 0.3595, val loss 0.2961, time/iter 0.021242489814758302\n",
      "step 7300: train loss 0.3561, val loss 0.3171, time/iter 0.020487086772918703\n",
      "step 7400: train loss 0.3863, val loss 0.2760, time/iter 0.01962822675704956\n",
      "step 7500: train loss 0.3555, val loss 0.2971, time/iter 0.021010994911193848\n",
      "step 7600: train loss 0.3597, val loss 0.2862, time/iter 0.02040494203567505\n",
      "step 7700: train loss 0.3631, val loss 0.2957, time/iter 0.019938926696777343\n",
      "step 7800: train loss 0.3591, val loss 0.2907, time/iter 0.019442784786224365\n",
      "step 7900: train loss 0.3594, val loss 0.2865, time/iter 0.01942463159561157\n",
      "step 8000: train loss 0.3774, val loss 0.3251, time/iter 0.019072327613830566\n",
      "saved model version 9\n",
      "step 8100: train loss 0.3660, val loss 0.3118, time/iter 0.019959986209869385\n",
      "step 8200: train loss 0.3578, val loss 0.2829, time/iter 0.018301777839660645\n",
      "step 8300: train loss 0.3787, val loss 0.3132, time/iter 0.01984548330307007\n",
      "step 8400: train loss 0.3636, val loss 0.3144, time/iter 0.020453181266784668\n",
      "step 8500: train loss 0.3728, val loss 0.3251, time/iter 0.01841627597808838\n",
      "step 8600: train loss 0.3638, val loss 0.2838, time/iter 0.021624765396118163\n",
      "step 8700: train loss 0.3682, val loss 0.2912, time/iter 0.020674905776977538\n",
      "step 8800: train loss 0.3665, val loss 0.2983, time/iter 0.020121047496795653\n",
      "step 8900: train loss 0.3555, val loss 0.3042, time/iter 0.01939854145050049\n",
      "step 9000: train loss 0.3539, val loss 0.3167, time/iter 0.019505205154418944\n",
      "saved model version 10\n",
      "step 9100: train loss 0.3578, val loss 0.2868, time/iter 0.02034607410430908\n",
      "step 9200: train loss 0.3665, val loss 0.2703, time/iter 0.019073023796081542\n",
      "step 9300: train loss 0.3648, val loss 0.2902, time/iter 0.019246401786804198\n",
      "step 9400: train loss 0.3674, val loss 0.3265, time/iter 0.01880989074707031\n",
      "step 9500: train loss 0.3623, val loss 0.2845, time/iter 0.019098997116088867\n",
      "step 9600: train loss 0.3672, val loss 0.2713, time/iter 0.01862555980682373\n",
      "step 9700: train loss 0.3559, val loss 0.2936, time/iter 0.018189754486083985\n",
      "step 9800: train loss 0.3741, val loss 0.2965, time/iter 0.020427987575531006\n",
      "step 9900: train loss 0.3580, val loss 0.2792, time/iter 0.01961165189743042\n",
      "step 10000: train loss 0.3565, val loss 0.3079, time/iter 0.01951632022857666\n",
      "saved model version 11\n",
      "step 10100: train loss 0.3743, val loss 0.3198, time/iter 0.018724117279052734\n",
      "step 10200: train loss 0.3635, val loss 0.2782, time/iter 0.0186369514465332\n",
      "step 10300: train loss 0.3712, val loss 0.2786, time/iter 0.019617600440979002\n",
      "step 10400: train loss 0.3690, val loss 0.2935, time/iter 0.02125840187072754\n",
      "step 10500: train loss 0.3531, val loss 0.3069, time/iter 0.020829071998596193\n",
      "step 10600: train loss 0.3681, val loss 0.3030, time/iter 0.020010201930999755\n",
      "step 10700: train loss 0.3690, val loss 0.2840, time/iter 0.0203246808052063\n",
      "step 10800: train loss 0.3544, val loss 0.3128, time/iter 0.018781275749206544\n",
      "step 10900: train loss 0.3637, val loss 0.2990, time/iter 0.01997819423675537\n",
      "step 11000: train loss 0.3652, val loss 0.2860, time/iter 0.01867253065109253\n",
      "saved model version 12\n",
      "step 11100: train loss 0.3683, val loss 0.2795, time/iter 0.019473533630371093\n",
      "step 11200: train loss 0.3620, val loss 0.2830, time/iter 0.019448552131652832\n",
      "step 11300: train loss 0.3578, val loss 0.2694, time/iter 0.019404308795928957\n",
      "step 11400: train loss 0.3704, val loss 0.2751, time/iter 0.019206600189208986\n",
      "step 11500: train loss 0.3683, val loss 0.3073, time/iter 0.018907957077026367\n",
      "step 11600: train loss 0.3703, val loss 0.3044, time/iter 0.019536139965057372\n",
      "step 11700: train loss 0.3547, val loss 0.2770, time/iter 0.018423292636871338\n",
      "step 11800: train loss 0.3555, val loss 0.3019, time/iter 0.01870673418045044\n",
      "step 11900: train loss 0.3533, val loss 0.3076, time/iter 0.018663792610168456\n",
      "step 12000: train loss 0.3490, val loss 0.2978, time/iter 0.019474992752075194\n",
      "saved model version 13\n",
      "step 12100: train loss 0.3574, val loss 0.2751, time/iter 0.018697876930236817\n",
      "step 12200: train loss 0.3413, val loss 0.2756, time/iter 0.020299084186553955\n",
      "step 12300: train loss 0.3603, val loss 0.2990, time/iter 0.020553603172302246\n",
      "step 12400: train loss 0.3581, val loss 0.3278, time/iter 0.0202978777885437\n",
      "step 12500: train loss 0.3582, val loss 0.2906, time/iter 0.02023446798324585\n",
      "step 12600: train loss 0.3460, val loss 0.2914, time/iter 0.021218614578247072\n",
      "step 12700: train loss 0.3755, val loss 0.3048, time/iter 0.02019413709640503\n",
      "step 12800: train loss 0.3583, val loss 0.3005, time/iter 0.018961191177368164\n",
      "step 12900: train loss 0.3571, val loss 0.3001, time/iter 0.020717837810516358\n",
      "step 13000: train loss 0.3586, val loss 0.3189, time/iter 0.020128819942474365\n",
      "saved model version 14\n",
      "step 13100: train loss 0.3564, val loss 0.3146, time/iter 0.020983412265777587\n",
      "step 13200: train loss 0.3553, val loss 0.2798, time/iter 0.019730091094970703\n",
      "step 13300: train loss 0.3580, val loss 0.2653, time/iter 0.02047091007232666\n",
      "step 13400: train loss 0.3446, val loss 0.2742, time/iter 0.01865339756011963\n",
      "step 13500: train loss 0.3569, val loss 0.2813, time/iter 0.01961930274963379\n",
      "step 13600: train loss 0.3669, val loss 0.2819, time/iter 0.018525817394256593\n",
      "step 13700: train loss 0.3632, val loss 0.3006, time/iter 0.019450480937957763\n",
      "step 13800: train loss 0.3545, val loss 0.2530, time/iter 0.020730345249176024\n",
      "step 13900: train loss 0.3671, val loss 0.2815, time/iter 0.018160343170166016\n",
      "step 14000: train loss 0.3651, val loss 0.2760, time/iter 0.020041379928588867\n",
      "saved model version 15\n",
      "step 14100: train loss 0.3540, val loss 0.3103, time/iter 0.020211248397827147\n",
      "step 14200: train loss 0.3535, val loss 0.3166, time/iter 0.02031141996383667\n",
      "step 14300: train loss 0.3439, val loss 0.2800, time/iter 0.02078805208206177\n",
      "step 14400: train loss 0.3579, val loss 0.3096, time/iter 0.01565361976623535\n",
      "step 14500: train loss 0.3497, val loss 0.2837, time/iter 0.020292396545410155\n",
      "step 14600: train loss 0.3603, val loss 0.2866, time/iter 0.021222538948059082\n",
      "step 14700: train loss 0.3569, val loss 0.2851, time/iter 0.020584251880645752\n",
      "step 14800: train loss 0.3560, val loss 0.2977, time/iter 0.02079836845397949\n",
      "step 14900: train loss 0.3536, val loss 0.2975, time/iter 0.018460350036621095\n",
      "step 15000: train loss 0.3677, val loss 0.2742, time/iter 0.01806190490722656\n",
      "saved model version 16\n",
      "step 15100: train loss 0.3549, val loss 0.2673, time/iter 0.020220158100128175\n",
      "step 15200: train loss 0.3597, val loss 0.2725, time/iter 0.019589474201202394\n",
      "step 15300: train loss 0.3552, val loss 0.2864, time/iter 0.02068542718887329\n",
      "step 15400: train loss 0.3563, val loss 0.3086, time/iter 0.019824626445770262\n",
      "step 15500: train loss 0.3586, val loss 0.3290, time/iter 0.016254284381866456\n",
      "step 15600: train loss 0.3531, val loss 0.2962, time/iter 0.019829134941101074\n",
      "step 15700: train loss 0.3577, val loss 0.2857, time/iter 0.019644184112548826\n",
      "step 15800: train loss 0.3582, val loss 0.3081, time/iter 0.019608995914459228\n",
      "step 15900: train loss 0.3519, val loss 0.3054, time/iter 0.02032397985458374\n",
      "step 16000: train loss 0.3433, val loss 0.3078, time/iter 0.02145174503326416\n",
      "saved model version 17\n",
      "step 16100: train loss 0.3673, val loss 0.2697, time/iter 0.019698905944824218\n",
      "step 16200: train loss 0.3638, val loss 0.2637, time/iter 0.018704333305358888\n",
      "step 16300: train loss 0.3642, val loss 0.2967, time/iter 0.019806206226348877\n",
      "step 16400: train loss 0.3491, val loss 0.2773, time/iter 0.01960768222808838\n",
      "step 16500: train loss 0.3598, val loss 0.3108, time/iter 0.02001657247543335\n",
      "step 16600: train loss 0.3591, val loss 0.2875, time/iter 0.020395190715789796\n",
      "step 16700: train loss 0.3491, val loss 0.3095, time/iter 0.020239031314849852\n",
      "step 16800: train loss 0.3650, val loss 0.2779, time/iter 0.019172749519348144\n",
      "step 16900: train loss 0.3528, val loss 0.3000, time/iter 0.019931485652923586\n",
      "step 17000: train loss 0.3446, val loss 0.2825, time/iter 0.019602277278900147\n",
      "saved model version 18\n",
      "step 17100: train loss 0.3590, val loss 0.2915, time/iter 0.01922779083251953\n",
      "step 17200: train loss 0.3658, val loss 0.2747, time/iter 0.018980653285980226\n",
      "step 17300: train loss 0.3563, val loss 0.2931, time/iter 0.018612942695617675\n",
      "step 17400: train loss 0.3465, val loss 0.3027, time/iter 0.02070686101913452\n",
      "step 17500: train loss 0.3671, val loss 0.2962, time/iter 0.02007227897644043\n",
      "step 17600: train loss 0.3544, val loss 0.3086, time/iter 0.019148843288421633\n",
      "step 17700: train loss 0.3537, val loss 0.2922, time/iter 0.019486289024353027\n",
      "step 17800: train loss 0.3537, val loss 0.2691, time/iter 0.018790113925933837\n",
      "step 17900: train loss 0.3578, val loss 0.2735, time/iter 0.01876971960067749\n",
      "step 18000: train loss 0.3534, val loss 0.2635, time/iter 0.01981811285018921\n",
      "saved model version 19\n",
      "step 18100: train loss 0.3483, val loss 0.3081, time/iter 0.020774333477020263\n",
      "step 18200: train loss 0.3519, val loss 0.2869, time/iter 0.020442028045654297\n",
      "step 18300: train loss 0.3521, val loss 0.2945, time/iter 0.019774086475372314\n",
      "step 18400: train loss 0.3629, val loss 0.3006, time/iter 0.019500629901885988\n",
      "step 18500: train loss 0.3532, val loss 0.3045, time/iter 0.020297162532806397\n",
      "step 18600: train loss 0.3505, val loss 0.2827, time/iter 0.020337436199188232\n",
      "step 18700: train loss 0.3539, val loss 0.2953, time/iter 0.020176486968994142\n",
      "step 18800: train loss 0.3499, val loss 0.2973, time/iter 0.020819025039672853\n",
      "step 18900: train loss 0.3459, val loss 0.2665, time/iter 0.01910292148590088\n",
      "step 19000: train loss 0.3593, val loss 0.2875, time/iter 0.020748369693756104\n",
      "saved model version 20\n",
      "step 19100: train loss 0.3533, val loss 0.3111, time/iter 0.020545101165771483\n",
      "step 19200: train loss 0.3558, val loss 0.2995, time/iter 0.018754127025604247\n",
      "step 19300: train loss 0.3432, val loss 0.2833, time/iter 0.02004251003265381\n",
      "step 19400: train loss 0.3620, val loss 0.2916, time/iter 0.02037332534790039\n",
      "step 19500: train loss 0.3521, val loss 0.2992, time/iter 0.017664515972137453\n",
      "step 19600: train loss 0.3588, val loss 0.2994, time/iter 0.020228707790374757\n",
      "step 19700: train loss 0.3520, val loss 0.2906, time/iter 0.02135723352432251\n",
      "step 19800: train loss 0.3599, val loss 0.3110, time/iter 0.020359067916870116\n",
      "step 19900: train loss 0.3610, val loss 0.2804, time/iter 0.01976444959640503\n",
      "step 20000: train loss 0.3672, val loss 0.2852, time/iter 0.01992793321609497\n",
      "saved model version 21\n",
      "step 20100: train loss 0.3604, val loss 0.2790, time/iter 0.021518290042877197\n",
      "step 20200: train loss 0.3516, val loss 0.2940, time/iter 0.019448907375335694\n",
      "step 20300: train loss 0.3657, val loss 0.3004, time/iter 0.018567521572113038\n",
      "step 20400: train loss 0.3542, val loss 0.2693, time/iter 0.02007061243057251\n",
      "step 20500: train loss 0.3577, val loss 0.2806, time/iter 0.019151532649993898\n",
      "step 20600: train loss 0.3656, val loss 0.3048, time/iter 0.020358214378356932\n",
      "step 20700: train loss 0.3574, val loss 0.2963, time/iter 0.019823832511901854\n",
      "step 20800: train loss 0.3424, val loss 0.2989, time/iter 0.018965537548065185\n",
      "step 20900: train loss 0.3574, val loss 0.2744, time/iter 0.018761892318725586\n",
      "step 21000: train loss 0.3539, val loss 0.3132, time/iter 0.02094764232635498\n",
      "saved model version 22\n",
      "step 21100: train loss 0.3544, val loss 0.2797, time/iter 0.01914092302322388\n",
      "step 21200: train loss 0.3550, val loss 0.2983, time/iter 0.020386462211608888\n",
      "step 21300: train loss 0.3573, val loss 0.2720, time/iter 0.019887685775756836\n",
      "step 21400: train loss 0.3599, val loss 0.2927, time/iter 0.0190700101852417\n",
      "step 21500: train loss 0.3575, val loss 0.2909, time/iter 0.020164539813995363\n",
      "step 21600: train loss 0.3558, val loss 0.2844, time/iter 0.020791568756103516\n",
      "step 21700: train loss 0.3564, val loss 0.2880, time/iter 0.018524229526519775\n",
      "step 21800: train loss 0.3549, val loss 0.3301, time/iter 0.02027738094329834\n",
      "step 21900: train loss 0.3547, val loss 0.2992, time/iter 0.019261784553527832\n",
      "step 22000: train loss 0.3498, val loss 0.2917, time/iter 0.018532171249389648\n",
      "saved model version 23\n",
      "step 22100: train loss 0.3592, val loss 0.2947, time/iter 0.020058519840240478\n",
      "step 22200: train loss 0.3591, val loss 0.2974, time/iter 0.020388498306274414\n",
      "step 22300: train loss 0.3551, val loss 0.2896, time/iter 0.020263311862945558\n",
      "step 22400: train loss 0.3562, val loss 0.3080, time/iter 0.01992055892944336\n",
      "step 22500: train loss 0.3580, val loss 0.2746, time/iter 0.021091544628143312\n",
      "step 22600: train loss 0.3581, val loss 0.2971, time/iter 0.01924791097640991\n",
      "step 22700: train loss 0.3653, val loss 0.3024, time/iter 0.017596051692962647\n",
      "step 22800: train loss 0.3615, val loss 0.2712, time/iter 0.01983755111694336\n",
      "step 22900: train loss 0.3540, val loss 0.2851, time/iter 0.01949756622314453\n",
      "step 23000: train loss 0.3532, val loss 0.2836, time/iter 0.01943316459655762\n",
      "saved model version 24\n",
      "step 23100: train loss 0.3562, val loss 0.2676, time/iter 0.019359006881713867\n",
      "step 23200: train loss 0.3509, val loss 0.3012, time/iter 0.020198664665222167\n",
      "step 23300: train loss 0.3578, val loss 0.2815, time/iter 0.018727600574493408\n",
      "step 23400: train loss 0.3496, val loss 0.2932, time/iter 0.02007075309753418\n",
      "step 23500: train loss 0.3501, val loss 0.2859, time/iter 0.021169915199279785\n",
      "step 23600: train loss 0.3620, val loss 0.2756, time/iter 0.020232937335968017\n",
      "step 23700: train loss 0.3578, val loss 0.2956, time/iter 0.020485169887542724\n",
      "step 23800: train loss 0.3624, val loss 0.2873, time/iter 0.02062349796295166\n",
      "step 23900: train loss 0.3672, val loss 0.2911, time/iter 0.021217195987701415\n",
      "step 24000: train loss 0.3569, val loss 0.2937, time/iter 0.01842182159423828\n",
      "saved model version 25\n",
      "step 24100: train loss 0.3638, val loss 0.2884, time/iter 0.019908699989318848\n",
      "step 24200: train loss 0.3528, val loss 0.2972, time/iter 0.018522841930389403\n",
      "step 24300: train loss 0.3555, val loss 0.2760, time/iter 0.02055185556411743\n",
      "step 24400: train loss 0.3479, val loss 0.3124, time/iter 0.02134517192840576\n",
      "step 24500: train loss 0.3536, val loss 0.2841, time/iter 0.02009453058242798\n",
      "step 24600: train loss 0.3603, val loss 0.2912, time/iter 0.019533467292785645\n",
      "step 24700: train loss 0.3542, val loss 0.2760, time/iter 0.020283641815185546\n",
      "step 24800: train loss 0.3549, val loss 0.2895, time/iter 0.023300368785858155\n",
      "step 24900: train loss 0.3593, val loss 0.2848, time/iter 0.013443896770477295\n"
     ]
    }
   ],
   "source": [
    "device = 'cuda'\n",
    "\n",
    "torch.manual_seed(1337)\n",
    "\n",
    "config = TransformerConfig(\n",
    "    input_embed=flat_windowed.shape[1], \n",
    "    precision=torch.bfloat16, \n",
    "    batch_size=128, \n",
    "    block_size=1, \n",
    "    n_embed=128, \n",
    "    n_head=4, \n",
    "    n_layer=4, \n",
    "    learning_rate=0.001,\n",
    "    causal=True\n",
    ")\n",
    "\n",
    "runner = TransformerRunner(config, flat_windowed)\n",
    "\n",
    "runner.train_iterate_n(25000)\n",
    "\n",
    "context = torch.zeros((1, 1), dtype=torch.long, device=device)\n",
    "# print(dataloader.token_codec.decode(runner.generate(context, max_new_tokens=2000)[0].tolist()))"
   ]
  },
  {
   "cell_type": "code",
   "execution_count": 13,
   "id": "ad9b615c-0050-4c38-ac73-e646506377b2",
   "metadata": {},
   "outputs": [
    {
     "name": "stderr",
     "output_type": "stream",
     "text": [
      "/tmp/ipykernel_906/2515724815.py:2: UserWarning: To copy construct from a tensor, it is recommended to use sourceTensor.clone().detach() or sourceTensor.clone().detach().requires_grad_(True), rather than torch.tensor(sourceTensor).\n",
      "  tensor = torch.tensor(data).to('cpu')\n"
     ]
    },
    {
     "data": {
      "image/png": "[encoded data removed]",
      "text/plain": [
       "<Figure size 1500x700 with 1 Axes>"
      ]
     },
     "metadata": {},
     "output_type": "display_data"
    }
   ],
   "source": [
    "\n",
    "# Generate a sample tensor (you can replace this with your tensor)\n",
    "tensor = torch.tensor(data).to('cpu')\n",
    "\n",
    "# Plotting\n",
    "plt.figure(figsize=(15, 7))\n",
    "for i in range(tensor.shape[0]):\n",
    "    plt.plot(tensor[i].numpy(), linewidth=0.5)  # Convert tensor to numpy for plotting\n",
    "\n",
    "plt.title(\"145 Time Series\")\n",
    "plt.xlabel(\"Time Steps\")\n",
    "plt.ylabel(\"Value\")\n",
    "plt.show()\n"
   ]
  },
  {
   "cell_type": "code",
   "execution_count": 14,
   "id": "d583ee82-e227-4a5f-905a-994885e64c1f",
   "metadata": {},
   "outputs": [
    {
     "data": {
      "text/html": [
       "        <script type=\"text/javascript\">\n",
       "        window.PlotlyConfig = {MathJaxConfig: 'local'};\n",
       "        if (window.MathJax && window.MathJax.Hub && window.MathJax.Hub.Config) {window.MathJax.Hub.Config({SVG: {font: \"STIX-Web\"}});}\n",
       "        if (typeof require !== 'undefined') {\n",
       "        require.undef(\"plotly\");\n",
       "        requirejs.config({\n",
       "            paths: {\n",
       "                'plotly': ['https://cdn.plot.ly/plotly-2.25.2.min']\n",
       "            }\n",
       "        });\n",
       "        require(['plotly'], function(Plotly) {\n",
       "            window._Plotly = Plotly;\n",
       "        });\n",
       "        }\n",
       "        </script>\n",
       "        "
      ]
     },
     "metadata": {},
     "output_type": "display_data"
    },
    {
     "data": {
      "application/vnd.plotly.v1+json": {
       "config": {
        "plotlyServerURL": "https://plot.ly"
       },
       "data": [
        {
         "hovertemplate": "Date=%{x}<br>Value=%{y}<extra></extra>",
         "legendgroup": "",
         "line": {
          "color": "#636efa",
          "dash": "solid"
         },
         "marker": {
          "symbol": "circle"
         },
         "mode": "lines",
         "name": "",
         "orientation": "v",
         "showlegend": false,
         "type": "scatter",
         "x": [
          "2022-01-01T00:00:00",
          "2022-01-02T00:00:00",
          "2022-01-03T00:00:00",
          "2022-01-04T00:00:00",
          "2022-01-05T00:00:00",
          "2022-01-06T00:00:00",
          "2022-01-07T00:00:00",
          "2022-01-08T00:00:00",
          "2022-01-09T00:00:00",
          "2022-01-10T00:00:00"
         ],
         "xaxis": "x",
         "y": [
          1,
          3,
          5,
          6,
          8,
          10,
          12,
          14,
          16,
          18
         ],
         "yaxis": "y"
        }
       ],
       "layout": {
        "autosize": true,
        "legend": {
         "tracegroupgap": 0
        },
        "template": {
         "data": {
          "bar": [
           {
            "error_x": {
             "color": "#2a3f5f"
            },
            "error_y": {
             "color": "#2a3f5f"
            },
            "marker": {
             "line": {
              "color": "#E5ECF6",
              "width": 0.5
             },
             "pattern": {
              "fillmode": "overlay",
              "size": 10,
              "solidity": 0.2
             }
            },
            "type": "bar"
           }
          ],
          "barpolar": [
           {
            "marker": {
             "line": {
              "color": "#E5ECF6",
              "width": 0.5
             },
             "pattern": {
              "fillmode": "overlay",
              "size": 10,
              "solidity": 0.2
             }
            },
            "type": "barpolar"
           }
          ],
          "carpet": [
           {
            "aaxis": {
             "endlinecolor": "#2a3f5f",
             "gridcolor": "white",
             "linecolor": "white",
             "minorgridcolor": "white",
             "startlinecolor": "#2a3f5f"
            },
            "baxis": {
             "endlinecolor": "#2a3f5f",
             "gridcolor": "white",
             "linecolor": "white",
             "minorgridcolor": "white",
             "startlinecolor": "#2a3f5f"
            },
            "type": "carpet"
           }
          ],
          "choropleth": [
           {
            "colorbar": {
             "outlinewidth": 0,
             "ticks": ""
            },
            "type": "choropleth"
           }
          ],
          "contour": [
           {
            "colorbar": {
             "outlinewidth": 0,
             "ticks": ""
            },
            "colorscale": [
             [
              0,
              "#0d0887"
             ],
             [
              0.1111111111111111,
              "#46039f"
             ],
             [
              0.2222222222222222,
              "#7201a8"
             ],
             [
              0.3333333333333333,
              "#9c179e"
             ],
             [
              0.4444444444444444,
              "#bd3786"
             ],
             [
              0.5555555555555556,
              "#d8576b"
             ],
             [
              0.6666666666666666,
              "#ed7953"
             ],
             [
              0.7777777777777778,
              "#fb9f3a"
             ],
             [
              0.8888888888888888,
              "#fdca26"
             ],
             [
              1,
              "#f0f921"
             ]
            ],
            "type": "contour"
           }
          ],
          "contourcarpet": [
           {
            "colorbar": {
             "outlinewidth": 0,
             "ticks": ""
            },
            "type": "contourcarpet"
           }
          ],
          "heatmap": [
           {
            "colorbar": {
             "outlinewidth": 0,
             "ticks": ""
            },
            "colorscale": [
             [
              0,
              "#0d0887"
             ],
             [
              0.1111111111111111,
              "#46039f"
             ],
             [
              0.2222222222222222,
              "#7201a8"
             ],
             [
              0.3333333333333333,
              "#9c179e"
             ],
             [
              0.4444444444444444,
              "#bd3786"
             ],
             [
              0.5555555555555556,
              "#d8576b"
             ],
             [
              0.6666666666666666,
              "#ed7953"
             ],
             [
              0.7777777777777778,
              "#fb9f3a"
             ],
             [
              0.8888888888888888,
              "#fdca26"
             ],
             [
              1,
              "#f0f921"
             ]
            ],
            "type": "heatmap"
           }
          ],
          "heatmapgl": [
           {
            "colorbar": {
             "outlinewidth": 0,
             "ticks": ""
            },
            "colorscale": [
             [
              0,
              "#0d0887"
             ],
             [
              0.1111111111111111,
              "#46039f"
             ],
             [
              0.2222222222222222,
              "#7201a8"
             ],
             [
              0.3333333333333333,
              "#9c179e"
             ],
             [
              0.4444444444444444,
              "#bd3786"
             ],
             [
              0.5555555555555556,
              "#d8576b"
             ],
             [
              0.6666666666666666,
              "#ed7953"
             ],
             [
              0.7777777777777778,
              "#fb9f3a"
             ],
             [
              0.8888888888888888,
              "#fdca26"
             ],
             [
              1,
              "#f0f921"
             ]
            ],
            "type": "heatmapgl"
           }
          ],
          "histogram": [
           {
            "marker": {
             "pattern": {
              "fillmode": "overlay",
              "size": 10,
              "solidity": 0.2
             }
            },
            "type": "histogram"
           }
          ],
          "histogram2d": [
           {
            "colorbar": {
             "outlinewidth": 0,
             "ticks": ""
            },
            "colorscale": [
             [
              0,
              "#0d0887"
             ],
             [
              0.1111111111111111,
              "#46039f"
             ],
             [
              0.2222222222222222,
              "#7201a8"
             ],
             [
              0.3333333333333333,
              "#9c179e"
             ],
             [
              0.4444444444444444,
              "#bd3786"
             ],
             [
              0.5555555555555556,
              "#d8576b"
             ],
             [
              0.6666666666666666,
              "#ed7953"
             ],
             [
              0.7777777777777778,
              "#fb9f3a"
             ],
             [
              0.8888888888888888,
              "#fdca26"
             ],
             [
              1,
              "#f0f921"
             ]
            ],
            "type": "histogram2d"
           }
          ],
          "histogram2dcontour": [
           {
            "colorbar": {
             "outlinewidth": 0,
             "ticks": ""
            },
            "colorscale": [
             [
              0,
              "#0d0887"
             ],
             [
              0.1111111111111111,
              "#46039f"
             ],
             [
              0.2222222222222222,
              "#7201a8"
             ],
             [
              0.3333333333333333,
              "#9c179e"
             ],
             [
              0.4444444444444444,
              "#bd3786"
             ],
             [
              0.5555555555555556,
              "#d8576b"
             ],
             [
              0.6666666666666666,
              "#ed7953"
             ],
             [
              0.7777777777777778,
              "#fb9f3a"
             ],
             [
              0.8888888888888888,
              "#fdca26"
             ],
             [
              1,
              "#f0f921"
             ]
            ],
            "type": "histogram2dcontour"
           }
          ],
          "mesh3d": [
           {
            "colorbar": {
             "outlinewidth": 0,
             "ticks": ""
            },
            "type": "mesh3d"
           }
          ],
          "parcoords": [
           {
            "line": {
             "colorbar": {
              "outlinewidth": 0,
              "ticks": ""
             }
            },
            "type": "parcoords"
           }
          ],
          "pie": [
           {
            "automargin": true,
            "type": "pie"
           }
          ],
          "scatter": [
           {
            "fillpattern": {
             "fillmode": "overlay",
             "size": 10,
             "solidity": 0.2
            },
            "type": "scatter"
           }
          ],
          "scatter3d": [
           {
            "line": {
             "colorbar": {
              "outlinewidth": 0,
              "ticks": ""
             }
            },
            "marker": {
             "colorbar": {
              "outlinewidth": 0,
              "ticks": ""
             }
            },
            "type": "scatter3d"
           }
          ],
          "scattercarpet": [
           {
            "marker": {
             "colorbar": {
              "outlinewidth": 0,
              "ticks": ""
             }
            },
            "type": "scattercarpet"
           }
          ],
          "scattergeo": [
           {
            "marker": {
             "colorbar": {
              "outlinewidth": 0,
              "ticks": ""
             }
            },
            "type": "scattergeo"
           }
          ],
          "scattergl": [
           {
            "marker": {
             "colorbar": {
              "outlinewidth": 0,
              "ticks": ""
             }
            },
            "type": "scattergl"
           }
          ],
          "scattermapbox": [
           {
            "marker": {
             "colorbar": {
              "outlinewidth": 0,
              "ticks": ""
             }
            },
            "type": "scattermapbox"
           }
          ],
          "scatterpolar": [
           {
            "marker": {
             "colorbar": {
              "outlinewidth": 0,
              "ticks": ""
             }
            },
            "type": "scatterpolar"
           }
          ],
          "scatterpolargl": [
           {
            "marker": {
             "colorbar": {
              "outlinewidth": 0,
              "ticks": ""
             }
            },
            "type": "scatterpolargl"
           }
          ],
          "scatterternary": [
           {
            "marker": {
             "colorbar": {
              "outlinewidth": 0,
              "ticks": ""
             }
            },
            "type": "scatterternary"
           }
          ],
          "surface": [
           {
            "colorbar": {
             "outlinewidth": 0,
             "ticks": ""
            },
            "colorscale": [
             [
              0,
              "#0d0887"
             ],
             [
              0.1111111111111111,
              "#46039f"
             ],
             [
              0.2222222222222222,
              "#7201a8"
             ],
             [
              0.3333333333333333,
              "#9c179e"
             ],
             [
              0.4444444444444444,
              "#bd3786"
             ],
             [
              0.5555555555555556,
              "#d8576b"
             ],
             [
              0.6666666666666666,
              "#ed7953"
             ],
             [
              0.7777777777777778,
              "#fb9f3a"
             ],
             [
              0.8888888888888888,
              "#fdca26"
             ],
             [
              1,
              "#f0f921"
             ]
            ],
            "type": "surface"
           }
          ],
          "table": [
           {
            "cells": {
             "fill": {
              "color": "#EBF0F8"
             },
             "line": {
              "color": "white"
             }
            },
            "header": {
             "fill": {
              "color": "#C8D4E3"
             },
             "line": {
              "color": "white"
             }
            },
            "type": "table"
           }
          ]
         },
         "layout": {
          "annotationdefaults": {
           "arrowcolor": "#2a3f5f",
           "arrowhead": 0,
           "arrowwidth": 1
          },
          "autotypenumbers": "strict",
          "coloraxis": {
           "colorbar": {
            "outlinewidth": 0,
            "ticks": ""
           }
          },
          "colorscale": {
           "diverging": [
            [
             0,
             "#8e0152"
            ],
            [
             0.1,
             "#c51b7d"
            ],
            [
             0.2,
             "#de77ae"
            ],
            [
             0.3,
             "#f1b6da"
            ],
            [
             0.4,
             "#fde0ef"
            ],
            [
             0.5,
             "#f7f7f7"
            ],
            [
             0.6,
             "#e6f5d0"
            ],
            [
             0.7,
             "#b8e186"
            ],
            [
             0.8,
             "#7fbc41"
            ],
            [
             0.9,
             "#4d9221"
            ],
            [
             1,
             "#276419"
            ]
           ],
           "sequential": [
            [
             0,
             "#0d0887"
            ],
            [
             0.1111111111111111,
             "#46039f"
            ],
            [
             0.2222222222222222,
             "#7201a8"
            ],
            [
             0.3333333333333333,
             "#9c179e"
            ],
            [
             0.4444444444444444,
             "#bd3786"
            ],
            [
             0.5555555555555556,
             "#d8576b"
            ],
            [
             0.6666666666666666,
             "#ed7953"
            ],
            [
             0.7777777777777778,
             "#fb9f3a"
            ],
            [
             0.8888888888888888,
             "#fdca26"
            ],
            [
             1,
             "#f0f921"
            ]
           ],
           "sequentialminus": [
            [
             0,
             "#0d0887"
            ],
            [
             0.1111111111111111,
             "#46039f"
            ],
            [
             0.2222222222222222,
             "#7201a8"
            ],
            [
             0.3333333333333333,
             "#9c179e"
            ],
            [
             0.4444444444444444,
             "#bd3786"
            ],
            [
             0.5555555555555556,
             "#d8576b"
            ],
            [
             0.6666666666666666,
             "#ed7953"
            ],
            [
             0.7777777777777778,
             "#fb9f3a"
            ],
            [
             0.8888888888888888,
             "#fdca26"
            ],
            [
             1,
             "#f0f921"
            ]
           ]
          },
          "colorway": [
           "#636efa",
           "#EF553B",
           "#00cc96",
           "#ab63fa",
           "#FFA15A",
           "#19d3f3",
           "#FF6692",
           "#B6E880",
           "#FF97FF",
           "#FECB52"
          ],
          "font": {
           "color": "#2a3f5f"
          },
          "geo": {
           "bgcolor": "white",
           "lakecolor": "white",
           "landcolor": "#E5ECF6",
           "showlakes": true,
           "showland": true,
           "subunitcolor": "white"
          },
          "hoverlabel": {
           "align": "left"
          },
          "hovermode": "closest",
          "mapbox": {
           "style": "light"
          },
          "paper_bgcolor": "white",
          "plot_bgcolor": "#E5ECF6",
          "polar": {
           "angularaxis": {
            "gridcolor": "white",
            "linecolor": "white",
            "ticks": ""
           },
           "bgcolor": "#E5ECF6",
           "radialaxis": {
            "gridcolor": "white",
            "linecolor": "white",
            "ticks": ""
           }
          },
          "scene": {
           "xaxis": {
            "backgroundcolor": "#E5ECF6",
            "gridcolor": "white",
            "gridwidth": 2,
            "linecolor": "white",
            "showbackground": true,
            "ticks": "",
            "zerolinecolor": "white"
           },
           "yaxis": {
            "backgroundcolor": "#E5ECF6",
            "gridcolor": "white",
            "gridwidth": 2,
            "linecolor": "white",
            "showbackground": true,
            "ticks": "",
            "zerolinecolor": "white"
           },
           "zaxis": {
            "backgroundcolor": "#E5ECF6",
            "gridcolor": "white",
            "gridwidth": 2,
            "linecolor": "white",
            "showbackground": true,
            "ticks": "",
            "zerolinecolor": "white"
           }
          },
          "shapedefaults": {
           "line": {
            "color": "#2a3f5f"
           }
          },
          "ternary": {
           "aaxis": {
            "gridcolor": "white",
            "linecolor": "white",
            "ticks": ""
           },
           "baxis": {
            "gridcolor": "white",
            "linecolor": "white",
            "ticks": ""
           },
           "bgcolor": "#E5ECF6",
           "caxis": {
            "gridcolor": "white",
            "linecolor": "white",
            "ticks": ""
           }
          },
          "title": {
           "x": 0.05
          },
          "xaxis": {
           "automargin": true,
           "gridcolor": "white",
           "linecolor": "white",
           "ticks": "",
           "title": {
            "standoff": 15
           },
           "zerolinecolor": "white",
           "zerolinewidth": 2
          },
          "yaxis": {
           "automargin": true,
           "gridcolor": "white",
           "linecolor": "white",
           "ticks": "",
           "title": {
            "standoff": 15
           },
           "zerolinecolor": "white",
           "zerolinewidth": 2
          }
         }
        },
        "title": {
         "text": "Time Series"
        },
        "xaxis": {
         "anchor": "y",
         "autorange": true,
         "domain": [
          0,
          1
         ],
         "range": [
          "2022-01-01",
          "2022-01-10"
         ],
         "title": {
          "text": "Date"
         },
         "type": "date"
        },
        "yaxis": {
         "anchor": "x",
         "autorange": true,
         "domain": [
          0,
          1
         ],
         "range": [
          0.05555555555555558,
          18.944444444444443
         ],
         "title": {
          "text": "Value"
         },
         "type": "linear"
        }
       }
      },
      "image/png": "[encoded data removed]",
      "text/html": [
       "<div>                            <div id=\"ba8ea462-8f19-4eb9-8bf1-2efdbce81247\" class=\"plotly-graph-div\" style=\"height:525px; width:100%;\"></div>            <script type=\"text/javascript\">                require([\"plotly\"], function(Plotly) {                    window.PLOTLYENV=window.PLOTLYENV || {};                                    if (document.getElementById(\"ba8ea462-8f19-4eb9-8bf1-2efdbce81247\")) {                    Plotly.newPlot(                        \"ba8ea462-8f19-4eb9-8bf1-2efdbce81247\",                        [{\"hovertemplate\":\"Date=%{x}\\u003cbr\\u003eValue=%{y}\\u003cextra\\u003e\\u003c\\u002fextra\\u003e\",\"legendgroup\":\"\",\"line\":{\"color\":\"#636efa\",\"dash\":\"solid\"},\"marker\":{\"symbol\":\"circle\"},\"mode\":\"lines\",\"name\":\"\",\"orientation\":\"v\",\"showlegend\":false,\"x\":[\"2022-01-01T00:00:00\",\"2022-01-02T00:00:00\",\"2022-01-03T00:00:00\",\"2022-01-04T00:00:00\",\"2022-01-05T00:00:00\",\"2022-01-06T00:00:00\",\"2022-01-07T00:00:00\",\"2022-01-08T00:00:00\",\"2022-01-09T00:00:00\",\"2022-01-10T00:00:00\"],\"xaxis\":\"x\",\"y\":[1,3,5,6,8,10,12,14,16,18],\"yaxis\":\"y\",\"type\":\"scatter\"}],                        {\"template\":{\"data\":{\"histogram2dcontour\":[{\"type\":\"histogram2dcontour\",\"colorbar\":{\"outlinewidth\":0,\"ticks\":\"\"},\"colorscale\":[[0.0,\"#0d0887\"],[0.1111111111111111,\"#46039f\"],[0.2222222222222222,\"#7201a8\"],[0.3333333333333333,\"#9c179e\"],[0.4444444444444444,\"#bd3786\"],[0.5555555555555556,\"#d8576b\"],[0.6666666666666666,\"#ed7953\"],[0.7777777777777778,\"#fb9f3a\"],[0.8888888888888888,\"#fdca26\"],[1.0,\"#f0f921\"]]}],\"choropleth\":[{\"type\":\"choropleth\",\"colorbar\":{\"outlinewidth\":0,\"ticks\":\"\"}}],\"histogram2d\":[{\"type\":\"histogram2d\",\"colorbar\":{\"outlinewidth\":0,\"ticks\":\"\"},\"colorscale\":[[0.0,\"#0d0887\"],[0.1111111111111111,\"#46039f\"],[0.2222222222222222,\"#7201a8\"],[0.3333333333333333,\"#9c179e\"],[0.4444444444444444,\"#bd3786\"],[0.5555555555555556,\"#d8576b\"],[0.6666666666666666,\"#ed7953\"],[0.7777777777777778,\"#fb9f3a\"],[0.8888888888888888,\"#fdca26\"],[1.0,\"#f0f921\"]]}],\"heatmap\":[{\"type\":\"heatmap\",\"colorbar\":{\"outlinewidth\":0,\"ticks\":\"\"},\"colorscale\":[[0.0,\"#0d0887\"],[0.1111111111111111,\"#46039f\"],[0.2222222222222222,\"#7201a8\"],[0.3333333333333333,\"#9c179e\"],[0.4444444444444444,\"#bd3786\"],[0.5555555555555556,\"#d8576b\"],[0.6666666666666666,\"#ed7953\"],[0.7777777777777778,\"#fb9f3a\"],[0.8888888888888888,\"#fdca26\"],[1.0,\"#f0f921\"]]}],\"heatmapgl\":[{\"type\":\"heatmapgl\",\"colorbar\":{\"outlinewidth\":0,\"ticks\":\"\"},\"colorscale\":[[0.0,\"#0d0887\"],[0.1111111111111111,\"#46039f\"],[0.2222222222222222,\"#7201a8\"],[0.3333333333333333,\"#9c179e\"],[0.4444444444444444,\"#bd3786\"],[0.5555555555555556,\"#d8576b\"],[0.6666666666666666,\"#ed7953\"],[0.7777777777777778,\"#fb9f3a\"],[0.8888888888888888,\"#fdca26\"],[1.0,\"#f0f921\"]]}],\"contourcarpet\":[{\"type\":\"contourcarpet\",\"colorbar\":{\"outlinewidth\":0,\"ticks\":\"\"}}],\"contour\":[{\"type\":\"contour\",\"colorbar\":{\"outlinewidth\":0,\"ticks\":\"\"},\"colorscale\":[[0.0,\"#0d0887\"],[0.1111111111111111,\"#46039f\"],[0.2222222222222222,\"#7201a8\"],[0.3333333333333333,\"#9c179e\"],[0.4444444444444444,\"#bd3786\"],[0.5555555555555556,\"#d8576b\"],[0.6666666666666666,\"#ed7953\"],[0.7777777777777778,\"#fb9f3a\"],[0.8888888888888888,\"#fdca26\"],[1.0,\"#f0f921\"]]}],\"surface\":[{\"type\":\"surface\",\"colorbar\":{\"outlinewidth\":0,\"ticks\":\"\"},\"colorscale\":[[0.0,\"#0d0887\"],[0.1111111111111111,\"#46039f\"],[0.2222222222222222,\"#7201a8\"],[0.3333333333333333,\"#9c179e\"],[0.4444444444444444,\"#bd3786\"],[0.5555555555555556,\"#d8576b\"],[0.6666666666666666,\"#ed7953\"],[0.7777777777777778,\"#fb9f3a\"],[0.8888888888888888,\"#fdca26\"],[1.0,\"#f0f921\"]]}],\"mesh3d\":[{\"type\":\"mesh3d\",\"colorbar\":{\"outlinewidth\":0,\"ticks\":\"\"}}],\"scatter\":[{\"fillpattern\":{\"fillmode\":\"overlay\",\"size\":10,\"solidity\":0.2},\"type\":\"scatter\"}],\"parcoords\":[{\"type\":\"parcoords\",\"line\":{\"colorbar\":{\"outlinewidth\":0,\"ticks\":\"\"}}}],\"scatterpolargl\":[{\"type\":\"scatterpolargl\",\"marker\":{\"colorbar\":{\"outlinewidth\":0,\"ticks\":\"\"}}}],\"bar\":[{\"error_x\":{\"color\":\"#2a3f5f\"},\"error_y\":{\"color\":\"#2a3f5f\"},\"marker\":{\"line\":{\"color\":\"#E5ECF6\",\"width\":0.5},\"pattern\":{\"fillmode\":\"overlay\",\"size\":10,\"solidity\":0.2}},\"type\":\"bar\"}],\"scattergeo\":[{\"type\":\"scattergeo\",\"marker\":{\"colorbar\":{\"outlinewidth\":0,\"ticks\":\"\"}}}],\"scatterpolar\":[{\"type\":\"scatterpolar\",\"marker\":{\"colorbar\":{\"outlinewidth\":0,\"ticks\":\"\"}}}],\"histogram\":[{\"marker\":{\"pattern\":{\"fillmode\":\"overlay\",\"size\":10,\"solidity\":0.2}},\"type\":\"histogram\"}],\"scattergl\":[{\"type\":\"scattergl\",\"marker\":{\"colorbar\":{\"outlinewidth\":0,\"ticks\":\"\"}}}],\"scatter3d\":[{\"type\":\"scatter3d\",\"line\":{\"colorbar\":{\"outlinewidth\":0,\"ticks\":\"\"}},\"marker\":{\"colorbar\":{\"outlinewidth\":0,\"ticks\":\"\"}}}],\"scattermapbox\":[{\"type\":\"scattermapbox\",\"marker\":{\"colorbar\":{\"outlinewidth\":0,\"ticks\":\"\"}}}],\"scatterternary\":[{\"type\":\"scatterternary\",\"marker\":{\"colorbar\":{\"outlinewidth\":0,\"ticks\":\"\"}}}],\"scattercarpet\":[{\"type\":\"scattercarpet\",\"marker\":{\"colorbar\":{\"outlinewidth\":0,\"ticks\":\"\"}}}],\"carpet\":[{\"aaxis\":{\"endlinecolor\":\"#2a3f5f\",\"gridcolor\":\"white\",\"linecolor\":\"white\",\"minorgridcolor\":\"white\",\"startlinecolor\":\"#2a3f5f\"},\"baxis\":{\"endlinecolor\":\"#2a3f5f\",\"gridcolor\":\"white\",\"linecolor\":\"white\",\"minorgridcolor\":\"white\",\"startlinecolor\":\"#2a3f5f\"},\"type\":\"carpet\"}],\"table\":[{\"cells\":{\"fill\":{\"color\":\"#EBF0F8\"},\"line\":{\"color\":\"white\"}},\"header\":{\"fill\":{\"color\":\"#C8D4E3\"},\"line\":{\"color\":\"white\"}},\"type\":\"table\"}],\"barpolar\":[{\"marker\":{\"line\":{\"color\":\"#E5ECF6\",\"width\":0.5},\"pattern\":{\"fillmode\":\"overlay\",\"size\":10,\"solidity\":0.2}},\"type\":\"barpolar\"}],\"pie\":[{\"automargin\":true,\"type\":\"pie\"}]},\"layout\":{\"autotypenumbers\":\"strict\",\"colorway\":[\"#636efa\",\"#EF553B\",\"#00cc96\",\"#ab63fa\",\"#FFA15A\",\"#19d3f3\",\"#FF6692\",\"#B6E880\",\"#FF97FF\",\"#FECB52\"],\"font\":{\"color\":\"#2a3f5f\"},\"hovermode\":\"closest\",\"hoverlabel\":{\"align\":\"left\"},\"paper_bgcolor\":\"white\",\"plot_bgcolor\":\"#E5ECF6\",\"polar\":{\"bgcolor\":\"#E5ECF6\",\"angularaxis\":{\"gridcolor\":\"white\",\"linecolor\":\"white\",\"ticks\":\"\"},\"radialaxis\":{\"gridcolor\":\"white\",\"linecolor\":\"white\",\"ticks\":\"\"}},\"ternary\":{\"bgcolor\":\"#E5ECF6\",\"aaxis\":{\"gridcolor\":\"white\",\"linecolor\":\"white\",\"ticks\":\"\"},\"baxis\":{\"gridcolor\":\"white\",\"linecolor\":\"white\",\"ticks\":\"\"},\"caxis\":{\"gridcolor\":\"white\",\"linecolor\":\"white\",\"ticks\":\"\"}},\"coloraxis\":{\"colorbar\":{\"outlinewidth\":0,\"ticks\":\"\"}},\"colorscale\":{\"sequential\":[[0.0,\"#0d0887\"],[0.1111111111111111,\"#46039f\"],[0.2222222222222222,\"#7201a8\"],[0.3333333333333333,\"#9c179e\"],[0.4444444444444444,\"#bd3786\"],[0.5555555555555556,\"#d8576b\"],[0.6666666666666666,\"#ed7953\"],[0.7777777777777778,\"#fb9f3a\"],[0.8888888888888888,\"#fdca26\"],[1.0,\"#f0f921\"]],\"sequentialminus\":[[0.0,\"#0d0887\"],[0.1111111111111111,\"#46039f\"],[0.2222222222222222,\"#7201a8\"],[0.3333333333333333,\"#9c179e\"],[0.4444444444444444,\"#bd3786\"],[0.5555555555555556,\"#d8576b\"],[0.6666666666666666,\"#ed7953\"],[0.7777777777777778,\"#fb9f3a\"],[0.8888888888888888,\"#fdca26\"],[1.0,\"#f0f921\"]],\"diverging\":[[0,\"#8e0152\"],[0.1,\"#c51b7d\"],[0.2,\"#de77ae\"],[0.3,\"#f1b6da\"],[0.4,\"#fde0ef\"],[0.5,\"#f7f7f7\"],[0.6,\"#e6f5d0\"],[0.7,\"#b8e186\"],[0.8,\"#7fbc41\"],[0.9,\"#4d9221\"],[1,\"#276419\"]]},\"xaxis\":{\"gridcolor\":\"white\",\"linecolor\":\"white\",\"ticks\":\"\",\"title\":{\"standoff\":15},\"zerolinecolor\":\"white\",\"automargin\":true,\"zerolinewidth\":2},\"yaxis\":{\"gridcolor\":\"white\",\"linecolor\":\"white\",\"ticks\":\"\",\"title\":{\"standoff\":15},\"zerolinecolor\":\"white\",\"automargin\":true,\"zerolinewidth\":2},\"scene\":{\"xaxis\":{\"backgroundcolor\":\"#E5ECF6\",\"gridcolor\":\"white\",\"linecolor\":\"white\",\"showbackground\":true,\"ticks\":\"\",\"zerolinecolor\":\"white\",\"gridwidth\":2},\"yaxis\":{\"backgroundcolor\":\"#E5ECF6\",\"gridcolor\":\"white\",\"linecolor\":\"white\",\"showbackground\":true,\"ticks\":\"\",\"zerolinecolor\":\"white\",\"gridwidth\":2},\"zaxis\":{\"backgroundcolor\":\"#E5ECF6\",\"gridcolor\":\"white\",\"linecolor\":\"white\",\"showbackground\":true,\"ticks\":\"\",\"zerolinecolor\":\"white\",\"gridwidth\":2}},\"shapedefaults\":{\"line\":{\"color\":\"#2a3f5f\"}},\"annotationdefaults\":{\"arrowcolor\":\"#2a3f5f\",\"arrowhead\":0,\"arrowwidth\":1},\"geo\":{\"bgcolor\":\"white\",\"landcolor\":\"#E5ECF6\",\"subunitcolor\":\"white\",\"showland\":true,\"showlakes\":true,\"lakecolor\":\"white\"},\"title\":{\"x\":0.05},\"mapbox\":{\"style\":\"light\"}}},\"xaxis\":{\"anchor\":\"y\",\"domain\":[0.0,1.0],\"title\":{\"text\":\"Date\"}},\"yaxis\":{\"anchor\":\"x\",\"domain\":[0.0,1.0],\"title\":{\"text\":\"Value\"}},\"legend\":{\"tracegroupgap\":0},\"title\":{\"text\":\"Time Series\"}},                        {\"responsive\": true}                    ).then(function(){\n",
       "                            \n",
       "var gd = document.getElementById('ba8ea462-8f19-4eb9-8bf1-2efdbce81247');\n",
       "var x = new MutationObserver(function (mutations, observer) {{\n",
       "        var display = window.getComputedStyle(gd).display;\n",
       "        if (!display || display === 'none') {{\n",
       "            console.log([gd, 'removed!']);\n",
       "            Plotly.purge(gd);\n",
       "            observer.disconnect();\n",
       "        }}\n",
       "}});\n",
       "\n",
       "// Listen for the removal of the full notebook cells\n",
       "var notebookContainer = gd.closest('#notebook-container');\n",
       "if (notebookContainer) {{\n",
       "    x.observe(notebookContainer, {childList: true});\n",
       "}}\n",
       "\n",
       "// Listen for the clearing of the current output cell\n",
       "var outputEl = gd.closest('.output');\n",
       "if (outputEl) {{\n",
       "    x.observe(outputEl, {childList: true});\n",
       "}}\n",
       "\n",
       "                        })                };                });            </script>        </div>"
      ]
     },
     "metadata": {},
     "output_type": "display_data"
    }
   ],
   "source": [
    "import pandas as pd\n",
    "import plotly.offline as pyo\n",
    "pyo.init_notebook_mode(connected=True)\n",
    "\n",
    "import plotly.express as px\n",
    "\n",
    "# Sample data\n",
    "data = {\n",
    "    'Date': pd.date_range(start='2022-01-01', periods=10, freq='D'),\n",
    "    'Value': [1, 3, 5, 6, 8, 10, 12, 14, 16, 18]\n",
    "}\n",
    "\n",
    "# Creating a DataFrame\n",
    "df = pd.DataFrame(data)\n",
    "\n",
    "# Plotting using Plotly\n",
    "fig = px.line(df, x='Date', y='Value', title='Time Series')\n",
    "fig.show()\n"
   ]
  },
  {
   "cell_type": "code",
   "execution_count": 15,
   "id": "a7d1e562-234f-4f1b-b9f5-e47593792134",
   "metadata": {},
   "outputs": [
    {
     "name": "stdout",
     "output_type": "stream",
     "text": [
      "Requirement already satisfied: plotly in /usr/local/lib/python3.10/dist-packages (5.16.1)\n",
      "Requirement already satisfied: tenacity>=6.2.0 in /usr/local/lib/python3.10/dist-packages (from plotly) (8.2.3)\n",
      "Requirement already satisfied: packaging in /usr/local/lib/python3.10/dist-packages (from plotly) (23.1)\n",
      "\u001b[33mWARNING: Running pip as the 'root' user can result in broken permissions and conflicting behaviour with the system package manager. It is recommended to use a virtual environment instead: https://pip.pypa.io/warnings/venv\u001b[0m\u001b[33m\n",
      "\u001b[0m"
     ]
    }
   ],
   "source": [
    "!pip install plotly"
   ]
  },
  {
   "cell_type": "code",
   "execution_count": null,
   "id": "91e312ca-776b-4048-b159-9e68a0d1ce2c",
   "metadata": {},
   "outputs": [],
   "source": []
  }
 ],
 "metadata": {
  "kernelspec": {
   "display_name": "Python 3 (ipykernel)",
   "language": "python",
   "name": "python3"
  },
  "language_info": {
   "codemirror_mode": {
    "name": "ipython",
    "version": 3
   },
   "file_extension": ".py",
   "mimetype": "text/x-python",
   "name": "python",
   "nbconvert_exporter": "python",
   "pygments_lexer": "ipython3",
   "version": "3.10.12"
  }
 },
 "nbformat": 4,
 "nbformat_minor": 5
}
