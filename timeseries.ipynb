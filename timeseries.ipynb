{
 "cells": [
  {
   "cell_type": "code",
   "execution_count": 1,
   "id": "3824b661-3154-45af-8b8f-bce8c7043a0f",
   "metadata": {},
   "outputs": [
    {
     "name": "stdout",
     "output_type": "stream",
     "text": [
      "['/share/stocks_to_numpy_file.ipynb', '/share/all_stocks.npy', '/share/input.txt', '/share/us-stock-dataset', '/share/Transformers1', '/share/short_stocks.npy']\n"
     ]
    }
   ],
   "source": [
    "import glob\n",
    "print(glob.glob(\"/share/*\"))"
   ]
  },
  {
   "cell_type": "code",
   "execution_count": 2,
   "id": "fa155bcd-db9c-4f57-9ad6-f91ed1f1823f",
   "metadata": {},
   "outputs": [],
   "source": [
    "import sys\n",
    "import os\n",
    "\n",
    "import numpy as np\n",
    "import torch\n",
    "from torch import nn as nn\n",
    "import glob\n",
    "\n",
    "from t4.timeseries_transformer2 import TransformerConfig, TransformerRunner\n",
    "\n",
    "from timeseries.csv_reader import read_and_merge_csv_files\n",
    "\n",
    "from t3_karpathy.commons.commons import BaseTransformerConfig, min_max_scaling, extract_sliding_windows, z_scale, diff, standardize\n",
    "from t3_karpathy.token_codec import TokenCodec\n",
    "from t4.generic_dataloader import GenericDataloader\n",
    "from timeseries.timeseries_transformer import TimeseriesDataloader\n",
    "\n",
    "import torch\n",
    "import matplotlib.pyplot as plt"
   ]
  },
  {
   "cell_type": "code",
   "execution_count": 3,
   "id": "b1e8389d-be54-46eb-97da-8cfb245928bf",
   "metadata": {},
   "outputs": [
    {
     "data": {
      "text/plain": [
       "torch.Size([145, 5283])"
      ]
     },
     "execution_count": 3,
     "metadata": {},
     "output_type": "execute_result"
    }
   ],
   "source": [
    "data_loader_data=torch.tensor(np.load('/share/short_stocks.npy')).transpose(0, 1).cpu()\n",
    "data_loader_data.shape"
   ]
  },
  {
   "cell_type": "code",
   "execution_count": 4,
   "id": "6e9deb00-a216-4575-8c22-9ba9e02b8ca0",
   "metadata": {},
   "outputs": [],
   "source": [
    "data = data_loader_data"
   ]
  },
  {
   "cell_type": "code",
   "execution_count": 5,
   "id": "1991e2dc-faa3-4a14-add6-58d9a7225e55",
   "metadata": {},
   "outputs": [],
   "source": [
    "data = diff(data, 1)\n",
    "data = standardize(data, -1)"
   ]
  },
  {
   "cell_type": "code",
   "execution_count": 6,
   "id": "b0d0e4bc-060e-4686-8fd9-b9a10b706759",
   "metadata": {},
   "outputs": [
    {
     "data": {
      "text/plain": [
       "torch.Size([145, 5275, 8])"
      ]
     },
     "execution_count": 6,
     "metadata": {},
     "output_type": "execute_result"
    }
   ],
   "source": [
    "windowed = extract_sliding_windows(data, 8)\n",
    "windowed.shape"
   ]
  },
  {
   "cell_type": "code",
   "execution_count": 7,
   "id": "6436312c-bccf-41ee-8b45-37805dcfa55f",
   "metadata": {},
   "outputs": [
    {
     "data": {
      "text/plain": [
       "tensor([-0.0209, -0.1449,  0.0146, -0.0593, -0.0977, -0.1043,  0.0744,  0.0050])"
      ]
     },
     "execution_count": 7,
     "metadata": {},
     "output_type": "execute_result"
    }
   ],
   "source": [
    "windowed[0, 1, :]"
   ]
  },
  {
   "cell_type": "code",
   "execution_count": 8,
   "id": "f2db3e5a-e4de-401a-ab7d-ff2ef4c50472",
   "metadata": {},
   "outputs": [
    {
     "name": "stdout",
     "output_type": "stream",
     "text": [
      "torch.Size([764875, 8])\n"
     ]
    }
   ],
   "source": [
    "flat_windowed = windowed.reshape(windowed.shape[0]* windowed.shape[1], -1)\n",
    "print(flat_windowed.shape)"
   ]
  },
  {
   "cell_type": "code",
   "execution_count": 9,
   "id": "b3cc4a0c-0346-418d-90b0-ae64ffe484b4",
   "metadata": {},
   "outputs": [
    {
     "ename": "TypeError",
     "evalue": "TransformerConfig.__init__() got an unexpected keyword argument 'causal'",
     "output_type": "error",
     "traceback": [
      "\u001b[0;31m---------------------------------------------------------------------------\u001b[0m",
      "\u001b[0;31mTypeError\u001b[0m                                 Traceback (most recent call last)",
      "Cell \u001b[0;32mIn[9], line 5\u001b[0m\n\u001b[1;32m      1\u001b[0m device \u001b[38;5;241m=\u001b[39m \u001b[38;5;124m'\u001b[39m\u001b[38;5;124mcuda\u001b[39m\u001b[38;5;124m'\u001b[39m\n\u001b[1;32m      3\u001b[0m torch\u001b[38;5;241m.\u001b[39mmanual_seed(\u001b[38;5;241m1337\u001b[39m)\n\u001b[0;32m----> 5\u001b[0m config \u001b[38;5;241m=\u001b[39m \u001b[43mTransformerConfig\u001b[49m\u001b[43m(\u001b[49m\n\u001b[1;32m      6\u001b[0m \u001b[43m    \u001b[49m\u001b[43minput_embed\u001b[49m\u001b[38;5;241;43m=\u001b[39;49m\u001b[43mflat_windowed\u001b[49m\u001b[38;5;241;43m.\u001b[39;49m\u001b[43mshape\u001b[49m\u001b[43m[\u001b[49m\u001b[38;5;241;43m1\u001b[39;49m\u001b[43m]\u001b[49m\u001b[43m,\u001b[49m\u001b[43m \u001b[49m\n\u001b[1;32m      7\u001b[0m \u001b[43m    \u001b[49m\u001b[43mprecision\u001b[49m\u001b[38;5;241;43m=\u001b[39;49m\u001b[43mtorch\u001b[49m\u001b[38;5;241;43m.\u001b[39;49m\u001b[43mbfloat16\u001b[49m\u001b[43m,\u001b[49m\u001b[43m \u001b[49m\n\u001b[1;32m      8\u001b[0m \u001b[43m    \u001b[49m\u001b[43mbatch_size\u001b[49m\u001b[38;5;241;43m=\u001b[39;49m\u001b[38;5;241;43m128\u001b[39;49m\u001b[43m,\u001b[49m\u001b[43m \u001b[49m\n\u001b[1;32m      9\u001b[0m \u001b[43m    \u001b[49m\u001b[43mblock_size\u001b[49m\u001b[38;5;241;43m=\u001b[39;49m\u001b[38;5;241;43m1\u001b[39;49m\u001b[43m,\u001b[49m\u001b[43m \u001b[49m\n\u001b[1;32m     10\u001b[0m \u001b[43m    \u001b[49m\u001b[43mn_embed\u001b[49m\u001b[38;5;241;43m=\u001b[39;49m\u001b[38;5;241;43m128\u001b[39;49m\u001b[43m,\u001b[49m\u001b[43m \u001b[49m\n\u001b[1;32m     11\u001b[0m \u001b[43m    \u001b[49m\u001b[43mn_head\u001b[49m\u001b[38;5;241;43m=\u001b[39;49m\u001b[38;5;241;43m4\u001b[39;49m\u001b[43m,\u001b[49m\u001b[43m \u001b[49m\n\u001b[1;32m     12\u001b[0m \u001b[43m    \u001b[49m\u001b[43mn_layer\u001b[49m\u001b[38;5;241;43m=\u001b[39;49m\u001b[38;5;241;43m8\u001b[39;49m\u001b[43m,\u001b[49m\u001b[43m \u001b[49m\n\u001b[1;32m     13\u001b[0m \u001b[43m    \u001b[49m\u001b[43mlearning_rate\u001b[49m\u001b[38;5;241;43m=\u001b[39;49m\u001b[38;5;241;43m0.001\u001b[39;49m\u001b[43m,\u001b[49m\n\u001b[1;32m     14\u001b[0m \u001b[43m    \u001b[49m\u001b[43mcausal\u001b[49m\u001b[38;5;241;43m=\u001b[39;49m\u001b[38;5;28;43;01mTrue\u001b[39;49;00m\n\u001b[1;32m     15\u001b[0m \u001b[43m)\u001b[49m\n\u001b[1;32m     17\u001b[0m runner \u001b[38;5;241m=\u001b[39m TransformerRunner(config, flat_windowed)\n\u001b[1;32m     19\u001b[0m runner\u001b[38;5;241m.\u001b[39mtrain_iterate_n(\u001b[38;5;241m25000\u001b[39m)\n",
      "\u001b[0;31mTypeError\u001b[0m: TransformerConfig.__init__() got an unexpected keyword argument 'causal'"
     ]
    }
   ],
   "source": [
    "device = 'cuda'\n",
    "\n",
    "torch.manual_seed(1337)\n",
    "\n",
    "config = TransformerConfig(\n",
    "    input_embed=flat_windowed.shape[1], \n",
    "    precision=torch.bfloat16, \n",
    "    batch_size=128, \n",
    "    block_size=1, \n",
    "    n_embed=128, \n",
    "    n_head=4, \n",
    "    n_layer=8, \n",
    "    learning_rate=0.001,\n",
    "    causal=True\n",
    ")\n",
    "\n",
    "runner = TransformerRunner(config, flat_windowed)\n",
    "\n",
    "runner.train_iterate_n(25000)\n",
    "\n",
    "context = torch.zeros((1, 1), dtype=torch.long, device=device)\n",
    "# print(dataloader.token_codec.decode(runner.generate(context, max_new_tokens=2000)[0].tolist()))"
   ]
  },
  {
   "cell_type": "code",
   "execution_count": null,
   "id": "ad9b615c-0050-4c38-ac73-e646506377b2",
   "metadata": {},
   "outputs": [],
   "source": [
    "\n",
    "# Generate a sample tensor (you can replace this with your tensor)\n",
    "tensor = data_loader_data.to('cpu')\n",
    "\n",
    "# Plotting\n",
    "plt.figure(figsize=(15, 7))\n",
    "for i in range(tensor.shape[0]):\n",
    "    plt.plot(tensor[i].numpy(), linewidth=0.5)  # Convert tensor to numpy for plotting\n",
    "\n",
    "plt.title(\"145 Time Series\")\n",
    "plt.xlabel(\"Time Steps\")\n",
    "plt.ylabel(\"Value\")\n",
    "plt.show()\n"
   ]
  },
  {
   "cell_type": "code",
   "execution_count": null,
   "id": "d583ee82-e227-4a5f-905a-994885e64c1f",
   "metadata": {},
   "outputs": [],
   "source": [
    "import pandas as pd\n",
    "import plotly.offline as pyo\n",
    "pyo.init_notebook_mode(connected=True)\n",
    "\n",
    "import plotly.express as px\n",
    "\n",
    "# Sample data\n",
    "data = {\n",
    "    'Date': pd.date_range(start='2022-01-01', periods=10, freq='D'),\n",
    "    'Value': [1, 3, 5, 6, 8, 10, 12, 14, 16, 18]\n",
    "}\n",
    "\n",
    "# Creating a DataFrame\n",
    "df = pd.DataFrame(data)\n",
    "\n",
    "# Plotting using Plotly\n",
    "fig = px.line(df, x='Date', y='Value', title='Time Series')\n",
    "fig.show()\n"
   ]
  },
  {
   "cell_type": "code",
   "execution_count": null,
   "id": "a7d1e562-234f-4f1b-b9f5-e47593792134",
   "metadata": {},
   "outputs": [],
   "source": [
    "!pip install plotly"
   ]
  },
  {
   "cell_type": "code",
   "execution_count": null,
   "id": "91e312ca-776b-4048-b159-9e68a0d1ce2c",
   "metadata": {},
   "outputs": [],
   "source": []
  }
 ],
 "metadata": {
  "kernelspec": {
   "display_name": "Python 3 (ipykernel)",
   "language": "python",
   "name": "python3"
  },
  "language_info": {
   "codemirror_mode": {
    "name": "ipython",
    "version": 3
   },
   "file_extension": ".py",
   "mimetype": "text/x-python",
   "name": "python",
   "nbconvert_exporter": "python",
   "pygments_lexer": "ipython3",
   "version": "3.10.12"
  }
 },
 "nbformat": 4,
 "nbformat_minor": 5
}
