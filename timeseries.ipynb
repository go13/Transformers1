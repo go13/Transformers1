{
 "cells": [
  {
   "cell_type": "code",
   "execution_count": null,
   "id": "3824b661-3154-45af-8b8f-bce8c7043a0f",
   "metadata": {},
   "outputs": [],
   "source": [
    "import glob\n",
    "print(glob.glob(\"/share/*\"))"
   ]
  },
  {
   "cell_type": "code",
   "execution_count": null,
   "id": "fa155bcd-db9c-4f57-9ad6-f91ed1f1823f",
   "metadata": {},
   "outputs": [],
   "source": [
    "import sys\n",
    "import os\n",
    "\n",
    "import torch\n",
    "from torch import nn as nn\n",
    "import glob\n",
    "\n",
    "from t4.timeseries_transformer import TransformerConfig, TransformerRunner\n",
    "\n",
    "from timeseries.csv_reader import read_and_merge_csv_files\n",
    "\n",
    "from t3_karpathy.commons.commons import BaseTransformerConfig\n",
    "from t3_karpathy.token_codec import TokenCodec\n",
    "from t4.generic_dataloader import GenericDataloader\n",
    "from timeseries.timeseries_transformer import TimeseriesDataloader\n",
    "\n"
   ]
  },
  {
   "cell_type": "code",
   "execution_count": null,
   "id": "b1e8389d-be54-46eb-97da-8cfb245928bf",
   "metadata": {},
   "outputs": [],
   "source": [
    "stocks_to_load = [\n",
    "    \"AAPL\", \"TSLA\",\n",
    "    \"A\", \"GOOG\", \"AMZN\", \"PYPL\", \"NVDA\", \"AMD\",\n",
    "    \"NFLX\", \"MSFT\", \"INTC\", \"CSCO\", \"ADBE\", \"CRM\", \"QCOM\", \"TXN\", \"AVGO\",\n",
    "    \"INTU\", \"ORCL\", \"COST\", \"SBUX\", \"AMGN\", \"CHTR\", \"GILD\", \"CMCSA\", \"BKNG\",\n",
    "    \"MDLZ\", \"FISV\", \"BIIB\", \"MU\", \"MCD\", \"AMAT\", \"ADP\", \"ILMN\", \"ATVI\", \"ISRG\",\n",
    "    \"ADSK\", \"LRCX\", \"BIDU\", \"JD\", \"REGN\", \"WBA\", \"VRTX\", \"KHC\", \"WMT\", \"ZM\", \"MELI\",\n",
    "    \"TMUS\", \"CTSH\", \"XLNX\", \"PCAR\", \"ALGN\", \"WDAY\", \"SIRI\", \"CTXS\", \"ADI\", \"EXC\", \"LULU\",\n",
    "    \"MAR\", \"KLAC\", \"PAYX\", \"EA\", \"ILMN\", \"ALXN\", \"MNST\", \"BMRN\", \"EBAY\", \"CTAS\", \"VRSK\",\n",
    "    \"IDXX\", \"CDNS\", \"NXPI\", \"ASML\", \"INCY\", \"KLAC\", \"MCHP\", \"SNPS\", \"SWKS\", \"VRSN\",\n",
    "    \"WDC\", \"WYNN\", \"XLNX\", \"ZBRA\", \"ZTS\", \"AEP\", \"AIG\", \"ALL\", \"AXP\", \"BA\", \"BAC\",\n",
    "    \"BK\", \"BLK\", \"C\", \"CAT\", \"CL\", \"COF\", \"COP\", \"COST\", \"CSCO\", \"CVS\", \"CVX\",\n",
    "    \"DD\", \"DHR\", \"DIS\", \"DOW\", \"DUK\", \"EMR\", \"EXC\", \"F\", \"FDX\", \"GD\", \"GE\", \"GILD\",\n",
    "    \"GM\", \"GOOG\", \"GOOGL\", \"GS\", \"HD\", \"HON\", \"IBM\", \"INTC\", \"JNJ\", \"JPM\", \"KHC\", \"KMI\",\n",
    "    \"KO\", \"LLY\", \"LMT\", \"LOW\", \"MA\", \"MCD\", \"MDLZ\", \"MDT\", \"MET\", \"MMM\",\n",
    "    'BLND', 'BLNG', 'BLNKW', 'BLNGU', 'BLNGW', 'BLNK', 'BLPH', 'BLRX',\n",
    "    'BLTE', 'BLU', 'BLUA', 'BLUE', 'BLW', 'BLX', 'BLZE', 'BMA', 'BMAC', 'BMAQ', 'BMAQR', 'BMAQU'\n",
    "]\n",
    "\n",
    "directory_path = '/share/us-stock-dataset/Data/Stocks'\n",
    "\n",
    "# stocks_to_load = [s.split(\"\\\\\")[1].replace(\".csv\", \"\") for s in glob.glob(directory_path + \"//*.csv\")]\n",
    "#\n",
    "# stock_number_to_load = 200\n",
    "#\n",
    "# stocks_to_load = stocks_to_load[1000:1000+stock_number_to_load]\n",
    "\n",
    "dataloader = TimeseriesDataloader(directory_path, stocks_to_load, add_diff=False)\n",
    "\n",
    "print(dataloader.get_data().shape)"
   ]
  },
  {
   "cell_type": "code",
   "execution_count": null,
   "id": "b3cc4a0c-0346-418d-90b0-ae64ffe484b4",
   "metadata": {},
   "outputs": [],
   "source": [
    "device = 'cuda'\n",
    "\n",
    "torch.manual_seed(1337)\n",
    "\n",
    "config = TransformerConfig(\n",
    "    input_embed=dataloader.n_channels(), precision=torch.bfloat16, batch_size=32, block_size=8, n_embed=16, n_head=4, n_layer=4)\n",
    "\n",
    "runner = TransformerRunner(config, dataloader.get_data())\n",
    "\n",
    "runner.train_iterate_n(2500)\n",
    "\n",
    "context = torch.zeros((1, 1), dtype=torch.long, device=device)\n",
    "# print(dataloader.token_codec.decode(runner.generate(context, max_new_tokens=2000)[0].tolist()))"
   ]
  },
  {
   "cell_type": "code",
   "execution_count": null,
   "id": "a7d1e562-234f-4f1b-b9f5-e47593792134",
   "metadata": {},
   "outputs": [],
   "source": []
  }
 ],
 "metadata": {
  "kernelspec": {
   "display_name": "Python 3 (ipykernel)",
   "language": "python",
   "name": "python3"
  },
  "language_info": {
   "codemirror_mode": {
    "name": "ipython",
    "version": 3
   },
   "file_extension": ".py",
   "mimetype": "text/x-python",
   "name": "python",
   "nbconvert_exporter": "python",
   "pygments_lexer": "ipython3",
   "version": "3.10.12"
  }
 },
 "nbformat": 4,
 "nbformat_minor": 5
}
