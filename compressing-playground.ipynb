{
 "cells": [
  {
   "cell_type": "code",
   "execution_count": 1,
   "metadata": {},
   "outputs": [
    {
     "data": {
      "text/plain": [
       "_StoreAction(option_strings=['--distribute_best'], dest='distribute_best', nargs=None, const=None, default=5, type=<class 'int'>, choices=None, help=None, metavar=None)"
      ]
     },
     "execution_count": 1,
     "metadata": {},
     "output_type": "execute_result"
    }
   ],
   "source": [
    "import argparse\n",
    "\n",
    "import torch.multiprocessing as mp\n",
    "\n",
    "from t3_karpathy.compressing_transformer import CompressingAccumulativeTrainer\n",
    "from t3_karpathy.transformer_config import TransformerConfig\n",
    "\n",
    "parser = argparse.ArgumentParser(description=\"Language transfer\")\n",
    "\n",
    "# main parameters\n",
    "parser.add_argument(\"--number_of_gpus\", type=int, default=1)\n",
    "parser.add_argument(\"--models_per_gpu\", type=int, default=1)\n",
    "\n",
    "parser.add_argument(\"--ga_population_size\", type=int, default=20)\n",
    "parser.add_argument(\"--number_of_iterations\", type=int, default=1000)\n",
    "parser.add_argument(\"--ga_use_random_exchange\", type=bool, default=False)\n",
    "parser.add_argument(\"--ga_mutation_p\", type=float, default=0.1)\n",
    "\n",
    "parser.add_argument(\"--use_neural_autoencoder\", type=bool, default=False)\n",
    "parser.add_argument(\"--use_neural_autoencoder_iteration_start\", type=int, default=5000)\n",
    "parser.add_argument(\"--ga_neural_autoencoder_iterations_per_ga_iteration\", type=int, default=1)\n",
    "\n",
    "parser.add_argument(\"--use_neural_crossover\", type=bool, default=False)\n",
    "parser.add_argument(\"--neural_crossover_iteration_start\", type=int, default=0)\n",
    "parser.add_argument(\"--neural_crossover_regular_crossover_prob\", type=float, default=0)\n",
    "parser.add_argument(\"--neural_crossover_iterations_per_ga_iteration\", type=int, default=1)\n",
    "\n",
    "parser.add_argument(\"--use_transformer_transformer\", type=bool, default=True)\n",
    "\n",
    "parser.add_argument(\"--use_neural_estimator\", type=bool, default=True)\n",
    "parser.add_argument(\"--neural_estimator_iteration_start\", type=int, default=50)\n",
    "parser.add_argument(\"--ga_neural_estimator_iterations_per_ga_iteration\", type=int, default=1)\n",
    "parser.add_argument(\"--ga_generate_only_unique_xy\", type=bool, default=True)\n",
    "\n",
    "parser.add_argument(\"--log_ga_into_file\", type=bool, default=False)\n",
    "parser.add_argument(\"--verbose\", type=bool, default=True)\n",
    "\n",
    "parser.add_argument(\"--exchange_best_between_gpus\", type=bool, default=True)\n",
    "parser.add_argument(\"--exchange_best_every_n_iterations\", type=int, default=1)\n",
    "parser.add_argument(\"--select_best_of_group\", type=int, default=5)\n",
    "parser.add_argument(\"--distribute_best\", type=int, default=5)\n",
    "\n",
    "\n"
   ]
  },
  {
   "cell_type": "code",
   "execution_count": 2,
   "metadata": {},
   "outputs": [
    {
     "name": "stdout",
     "output_type": "stream",
     "text": [
      "saving to F:\\workspace\\ai\\input.txt\n"
     ]
    }
   ],
   "source": [
    "config = TransformerConfig()"
   ]
  },
  {
   "cell_type": "code",
   "execution_count": 4,
   "metadata": {},
   "outputs": [
    {
     "name": "stdout",
     "output_type": "stream",
     "text": [
      "0.105514 M parameters\n",
      "0.105514 M parameters\n"
     ]
    },
    {
     "data": {
      "text/plain": [
       "<t3_karpathy.compressing_transformer.CompressingAccumulativeTrainer at 0x1c8d12c9280>"
      ]
     },
     "execution_count": 4,
     "metadata": {},
     "output_type": "execute_result"
    }
   ],
   "source": [
    "CompressingAccumulativeTrainer(config)"
   ]
  },
  {
   "cell_type": "code",
   "execution_count": null,
   "metadata": {},
   "outputs": [],
   "source": []
  }
 ],
 "metadata": {
  "kernelspec": {
   "display_name": "Python 3 (ipykernel)",
   "language": "python",
   "name": "python3"
  },
  "language_info": {
   "codemirror_mode": {
    "name": "ipython",
    "version": 3
   },
   "file_extension": ".py",
   "mimetype": "text/x-python",
   "name": "python",
   "nbconvert_exporter": "python",
   "pygments_lexer": "ipython3",
   "version": "3.9.7"
  }
 },
 "nbformat": 4,
 "nbformat_minor": 1
}