{
 "cells": [
  {
   "cell_type": "code",
   "execution_count": null,
   "metadata": {},
   "outputs": [],
   "source": [
    "import argparse\n",
    "\n",
    "import torch.multiprocessing as mp\n",
    "\n",
    "from t3_karpathy.compressing_transformer import CompressingAccumulativeTrainer\n",
    "from t3_karpathy.transformer_config import TransformerConfig\n",
    "from t3_karpathy.gpt_nano_dataloader import GptNanoDataloader\n",
    "\n",
    "parser = argparse.ArgumentParser(description=\"Language transfer\")\n",
    "\n",
    "# main parameters\n",
    "parser.add_argument(\"--number_of_gpus\", type=int, default=1)\n",
    "parser.add_argument(\"--models_per_gpu\", type=int, default=1)\n",
    "\n",
    "parser.add_argument(\"--ga_population_size\", type=int, default=20)\n",
    "parser.add_argument(\"--number_of_iterations\", type=int, default=1000)\n",
    "parser.add_argument(\"--ga_use_random_exchange\", type=bool, default=False)\n",
    "parser.add_argument(\"--ga_mutation_p\", type=float, default=0.1)\n",
    "\n",
    "parser.add_argument(\"--use_neural_autoencoder\", type=bool, default=False)\n",
    "parser.add_argument(\"--use_neural_autoencoder_iteration_start\", type=int, default=5000)\n",
    "parser.add_argument(\"--ga_neural_autoencoder_iterations_per_ga_iteration\", type=int, default=1)\n",
    "\n",
    "parser.add_argument(\"--use_neural_crossover\", type=bool, default=False)\n",
    "parser.add_argument(\"--neural_crossover_iteration_start\", type=int, default=0)\n",
    "parser.add_argument(\"--neural_crossover_regular_crossover_prob\", type=float, default=0)\n",
    "parser.add_argument(\"--neural_crossover_iterations_per_ga_iteration\", type=int, default=1)\n",
    "\n",
    "parser.add_argument(\"--use_transformer_transformer\", type=bool, default=True)\n",
    "\n",
    "parser.add_argument(\"--use_neural_estimator\", type=bool, default=True)\n",
    "parser.add_argument(\"--neural_estimator_iteration_start\", type=int, default=50)\n",
    "parser.add_argument(\"--ga_neural_estimator_iterations_per_ga_iteration\", type=int, default=1)\n",
    "parser.add_argument(\"--ga_generate_only_unique_xy\", type=bool, default=True)\n",
    "\n",
    "parser.add_argument(\"--log_ga_into_file\", type=bool, default=False)\n",
    "parser.add_argument(\"--verbose\", type=bool, default=True)\n",
    "\n",
    "parser.add_argument(\"--exchange_best_between_gpus\", type=bool, default=True)\n",
    "parser.add_argument(\"--exchange_best_every_n_iterations\", type=int, default=1)\n",
    "parser.add_argument(\"--select_best_of_group\", type=int, default=5)\n",
    "parser.add_argument(\"--distribute_best\", type=int, default=5)\n",
    "\n",
    "\n"
   ]
  },
  {
   "cell_type": "code",
   "execution_count": null,
   "metadata": {},
   "outputs": [],
   "source": [
    "config = TransformerConfig()\n",
    "dataloader = GptNanoDataloader(config)"
   ]
  },
  {
   "cell_type": "code",
   "execution_count": null,
   "metadata": {},
   "outputs": [],
   "source": [
    "trainer1=CompressingAccumulativeTrainer(config)\n"
   ]
  },
  {
   "cell_type": "code",
   "execution_count": null,
   "metadata": {},
   "outputs": [],
   "source": [
    "trainer1.train_iterate(50, dataloader.get_train_batch, dataloader.get_val_batch)"
   ]
  },
  {
   "cell_type": "code",
   "execution_count": null,
   "metadata": {},
   "outputs": [],
   "source": [
    "trainer1.predict('First Citizen', 'First Citizen')"
   ]
  },
  {
   "cell_type": "code",
   "execution_count": null,
   "metadata": {},
   "outputs": [],
   "source": []
  }
 ],
 "metadata": {
  "kernelspec": {
   "display_name": "Python 3 (ipykernel)",
   "language": "python",
   "name": "python3"
  },
  "language_info": {
   "codemirror_mode": {
    "name": "ipython",
    "version": 3
   },
   "file_extension": ".py",
   "mimetype": "text/x-python",
   "name": "python",
   "nbconvert_exporter": "python",
   "pygments_lexer": "ipython3",
   "version": "3.9.7"
  }
 },
 "nbformat": 4,
 "nbformat_minor": 1
}