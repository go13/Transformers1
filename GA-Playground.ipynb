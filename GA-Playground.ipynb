{
 "cells": [
  {
   "cell_type": "code",
   "execution_count": 1,
   "metadata": {},
   "outputs": [
    {
     "name": "stdout",
     "output_type": "stream",
     "text": [
      "Namespace(number_of_gpus=1, models_per_gpu=1, ga_population_size=20, number_of_iterations=500, neural_crossover_iteration_threshold=200, neural_estimator_iteration_start=0, ga_neural_estimator_iterations_per_ga_iteration=1, ga_generate_only_unique_xy=True, log_ga_into_file=True, verbose=True, ga_use_random_exchange=False, use_neural_crossover=False, use_neural_estimator=True, exchange_best_every_n_iterations=1, select_best_of_group=5, distribute_best=10)\n",
      "Creating transformers\n",
      "8.510465 M parameters\n",
      "Starting iteration 0 on gpu 1\n",
      "iteration=0\n",
      "xy: f=4.000008261770358, d=3SND2FXG355IY43A586AAPB0TA0JN2WHL6Z8A7NNUZS5P\n",
      "xy: f=3.0008634163906978, d=XVPKADYXMO66JW1JTA3NT6Y8KUDRYEL7N7LPMMC1UA677\n",
      "xy: f=3.000533023354982, d=V44T99G0EDEPDSX8XCB79JV17RRIBDOGKLRMEA4H205TC\n",
      "xy: f=3.000155702646776, d=556P3UB9PMLBTNH700TAOBLATWM54151G67913KWF8NWM\n",
      "xy: f=3.0000344473634954, d=FNIHQZ4BRTHV3A9S4FYQA9RZAZQ9FLGGGP7M8V4QEBWDQ\n",
      "xy: f=2.000933985575591, d=2U3N0K0ME7L39JQTDLIVKRSEXFT5LP7GULCBOVL3CTOTX\n",
      "xy: f=2.0008024848917323, d=CVXBUN5U9G375AW2XT5Y3NK7HPNI5271HCFV4VDF5ZZ61\n",
      "xy: f=2.0007865951528365, d=3EAYJ62W5UNXQP5EZO4IMFH1QFIRI4ZQ8J2QV8YU9KMYG\n",
      "xy: f=2.0007038987598658, d=BXCW6IQ19AQJJXOX26ZVOQFCGW3QQ81N55GMYKE01WRXK\n",
      "xy: f=2.000583099013306, d=LUVJFK8CW8IR0KVADHF9WJ4TP75IOB5DQS9PXZ3QCO6VK\n",
      "xy: f=2.000558309266904, d=8YBSHCHJ3WPWGSGKETBQWR828RABP3TXMXR3KVKKR75LV\n",
      "xy: f=2.0004829840486305, d=KBQCAP0DJLM8XL8SJ5R959KF4US2OIBDOJ6501NJHIJ72\n",
      "xy: f=2.0002366909912017, d=T2LB962YNAXKJHBRQ7IFH7VSKV8XL66VR68JJ5OBLR9C7\n",
      "xy: f=2.0002121240208424, d=SYYM26OIARI5XYA8PJOOB3P2T8WO90IM8X6V9LSYB2OZ2\n",
      "xy: f=2.000135951708888, d=BGFCN4QC6T7SSQJ65EX78L198VR6GMFQRYV1AEU3RA7OX\n",
      "xy: f=2.000109905090763, d=GT1OTNR235LPDOBIJE9KDZGPBIADL8OA1Y78KBV8ISZCD\n",
      "xy: f=2.0000634435397835, d=UHNM002VG7T90EPJNA9W5VIXTVPRBME4FOUQ55R0FYFAZ\n",
      "xy: f=1.0009650605964744, d=2ZP5XU50KWC8XU9TN3XECFWABIIMI3KBK45IJ9ECQXP3B\n",
      "xy: f=1.000946482885363, d=J0XP1NWVSAM0DDJ7EBBPK19OSH31HJSHCI0HSIQUCJMQG\n",
      "xy: f=1.0008784691093575, d=3HUXISEIM3ITHW7IGYL4C0BMQGY21OD2NKOB5GZMON1W9\n",
      "xy: f=1.0008283550810642, d=FHM8XZK36I3SA3KWY2NLHIA2ZXZ4X3TCBSLRY70RQLHZJ\n",
      "xy: f=1.0007559000626882, d=6L9CC442R5TPE77BJ1V7Y1FYMAK79QVO7B1L87NFS3DHW\n",
      "xy: f=1.0006326023364174, d=6ZUV4SZT63A6PF7T6IJSBS8L9CHGJVMK6PCA5TE4F2RBN\n",
      "xy: f=1.0004739796015119, d=3GVFR0AP12FLWZVFUVADGW7S8EULGTSE4M0VYS11LQ2NE\n",
      "xy: f=1.0003188499772901, d=673AWYM4HUONDJ21GJI4I1O2T0AQT0DCUNS29RV4CQW2T\n",
      "xy: f=1.0002493053575827, d=5XWIVQGDE1K59IHLCRFEBWXCT6AG7MD38EDL8THBLN4U2\n",
      "xy: f=1.0001498643199669, d=2W3TTP3AKOZEKRAQ8ISNTU56UG0EINZMAEGXTCXVAK702\n",
      "xy: f=1.0000850640637489, d=FPRPRYUWWF6APO5WQYC1RDIU33715XA1C55S81WQHMF5N\n",
      "xy: f=1.0000646163661613, d=N5GZ5PDROJ3WTZ4NZMH1LQCSBY30C24IYKL9M3I65EMJJ\n",
      "xy: f=0.0009824128122416231, d=1NQK9KSEH95QKJ7E23UGZIY1IRTWIGH67FVS8JG24OTJ5\n",
      "xy: f=0.0009744440590590879, d=HWDXDILO6JH8GT1MD7ZX4UWZ8K3YKQLXNI01HSS1UH1EH\n",
      "xy: f=0.0008845146092212905, d=DM5MZ8PYQK18Q2L50BC3Q9BH4DZRNJEDD21ZSMG4QLCRU\n",
      "xy: f=0.0007647778705733841, d=OZEU0M0UEWOUSC2MYNYWTY6WY9B62QJDMVSGG0TVHD5SM\n",
      "xy: f=0.000675565906024164, d=XUT4CHTFGTPB49NG4NOYW19BV1MAVWRPPV8EGHYUYLRVA\n",
      "xy: f=0.0006484070628650898, d=FAUGCOSEC2RZIPQP5V2SJ2U3FPLYYHDTVCEKTNW6264GL\n",
      "xy: f=0.00035242734012219413, d=8GZ92H3Y5QT9O1SZ6HAMEU7Y90CZNRWOQ49GTL045QZVV\n",
      "xy: f=0.0003424049749974452, d=NYDQZSLTZY9ZM1T91RJTGPNJVMFGDLTVHEIKQ152O52K4\n",
      "xy: f=0.00020568627621871826, d=TFIVOHPM685FFZ2H1LMJSWBUHO8T4E4M7TQKEIKY3YXST\n",
      "xy: f=6.305980106937581e-05, d=XX8D964BWOXHE4K8PDQIQ6EF6NPABP8X5PENLI2EC7U69\n",
      "xy: f=3.300713618607653e-05, d=IJM26VE9O8M2LPRMCQJZQTDN50KGIVCLLKXPHAC5TI4M9\n",
      "Average loss=6.791364669799805, total_samples=40\n",
      "Time of iteration is 2.039987087249756, it=1, gpu=1\n",
      "GAModelRunnner step : 2.039987 s\n",
      "Ended iteration 0 on gpu 1, taken = 2.039987087249756, time/iteration = 2.039987087249756, models_per_gpu=1\n"
     ]
    },
    {
     "ename": "AttributeError",
     "evalue": "'Namespace' object has no attribute 'exchange_best_between_gpus'",
     "output_type": "error",
     "traceback": [
      "\u001b[1;31m---------------------------------------------------------------------------\u001b[0m",
      "\u001b[1;31mAttributeError\u001b[0m                            Traceback (most recent call last)",
      "\u001b[1;32m~\\AppData\\Local\\Temp/ipykernel_31636/814855217.py\u001b[0m in \u001b[0;36m<module>\u001b[1;34m\u001b[0m\n\u001b[0;32m     60\u001b[0m \u001b[0mgpu_runner\u001b[0m \u001b[1;33m=\u001b[0m \u001b[0mGpuRunnner\u001b[0m\u001b[1;33m(\u001b[0m\u001b[0mgpu_num\u001b[0m\u001b[1;33m,\u001b[0m \u001b[0mparams\u001b[0m\u001b[1;33m,\u001b[0m \u001b[0mmodel_runner_factory\u001b[0m\u001b[1;33m)\u001b[0m\u001b[1;33m\u001b[0m\u001b[1;33m\u001b[0m\u001b[0m\n\u001b[0;32m     61\u001b[0m \u001b[1;33m\u001b[0m\u001b[0m\n\u001b[1;32m---> 62\u001b[1;33m \u001b[0mgpu_runner\u001b[0m\u001b[1;33m.\u001b[0m\u001b[0miterate\u001b[0m\u001b[1;33m(\u001b[0m\u001b[0mparams\u001b[0m\u001b[1;33m.\u001b[0m\u001b[0mnumber_of_iterations\u001b[0m\u001b[1;33m)\u001b[0m\u001b[1;33m\u001b[0m\u001b[1;33m\u001b[0m\u001b[0m\n\u001b[0m\u001b[0;32m     63\u001b[0m \u001b[1;33m\u001b[0m\u001b[0m\n",
      "\u001b[1;32mF:\\workspace\\ai\\Transformers1\\ga_t3\\base_model_runner.py\u001b[0m in \u001b[0;36miterate\u001b[1;34m(self, number_of_iterations)\u001b[0m\n\u001b[0;32m     39\u001b[0m             \u001b[0mprint\u001b[0m\u001b[1;33m(\u001b[0m\u001b[1;34mf\"Ended iteration {iteration_num} on gpu {self.gpu_num}, taken = {end - start}, time/iteration = {(end - start) / self.models_per_gpu}, models_per_gpu={self.models_per_gpu}\"\u001b[0m\u001b[1;33m)\u001b[0m\u001b[1;33m\u001b[0m\u001b[1;33m\u001b[0m\u001b[0m\n\u001b[0;32m     40\u001b[0m \u001b[1;33m\u001b[0m\u001b[0m\n\u001b[1;32m---> 41\u001b[1;33m             \u001b[0mself\u001b[0m\u001b[1;33m.\u001b[0m\u001b[0mexchange_best_models\u001b[0m\u001b[1;33m(\u001b[0m\u001b[0miteration_num\u001b[0m\u001b[1;33m)\u001b[0m\u001b[1;33m\u001b[0m\u001b[1;33m\u001b[0m\u001b[0m\n\u001b[0m\u001b[0;32m     42\u001b[0m \u001b[1;33m\u001b[0m\u001b[0m\n\u001b[0;32m     43\u001b[0m     \u001b[1;32mdef\u001b[0m \u001b[0mexchange_best_models\u001b[0m\u001b[1;33m(\u001b[0m\u001b[0mself\u001b[0m\u001b[1;33m,\u001b[0m \u001b[0miteration_num\u001b[0m\u001b[1;33m)\u001b[0m\u001b[1;33m:\u001b[0m\u001b[1;33m\u001b[0m\u001b[1;33m\u001b[0m\u001b[0m\n",
      "\u001b[1;32mF:\\workspace\\ai\\Transformers1\\ga_t3\\base_model_runner.py\u001b[0m in \u001b[0;36mexchange_best_models\u001b[1;34m(self, iteration_num)\u001b[0m\n\u001b[0;32m     42\u001b[0m \u001b[1;33m\u001b[0m\u001b[0m\n\u001b[0;32m     43\u001b[0m     \u001b[1;32mdef\u001b[0m \u001b[0mexchange_best_models\u001b[0m\u001b[1;33m(\u001b[0m\u001b[0mself\u001b[0m\u001b[1;33m,\u001b[0m \u001b[0miteration_num\u001b[0m\u001b[1;33m)\u001b[0m\u001b[1;33m:\u001b[0m\u001b[1;33m\u001b[0m\u001b[1;33m\u001b[0m\u001b[0m\n\u001b[1;32m---> 44\u001b[1;33m         \u001b[1;32mif\u001b[0m \u001b[1;32mnot\u001b[0m \u001b[0mself\u001b[0m\u001b[1;33m.\u001b[0m\u001b[0mparams\u001b[0m\u001b[1;33m.\u001b[0m\u001b[0mexchange_best_between_gpus\u001b[0m \u001b[1;32mor\u001b[0m \u001b[1;32mnot\u001b[0m \u001b[0miteration_num\u001b[0m \u001b[1;33m%\u001b[0m \u001b[0mself\u001b[0m\u001b[1;33m.\u001b[0m\u001b[0mparams\u001b[0m\u001b[1;33m.\u001b[0m\u001b[0mexchange_best_every_n_iterations\u001b[0m \u001b[1;33m==\u001b[0m \u001b[1;36m0\u001b[0m\u001b[1;33m:\u001b[0m\u001b[1;33m\u001b[0m\u001b[1;33m\u001b[0m\u001b[0m\n\u001b[0m\u001b[0;32m     45\u001b[0m             \u001b[1;32mreturn\u001b[0m\u001b[1;33m\u001b[0m\u001b[1;33m\u001b[0m\u001b[0m\n\u001b[0;32m     46\u001b[0m \u001b[1;33m\u001b[0m\u001b[0m\n",
      "\u001b[1;31mAttributeError\u001b[0m: 'Namespace' object has no attribute 'exchange_best_between_gpus'"
     ]
    }
   ],
   "source": [
    "import argparse\n",
    "import torch\n",
    "\n",
    "import matplotlib.pyplot as plt\n",
    "import torch.multiprocessing as mp\n",
    "\n",
    "from ga_t3.ga_model_runner import GAModelRunner\n",
    "from ga_t3.base_model_runner import GpuRunnner\n",
    "\n",
    "parser = argparse.ArgumentParser(description=\"Language transfer\")\n",
    "\n",
    "# main parameters\n",
    "parser.add_argument(\"--number_of_gpus\", type=int, default=1)\n",
    "parser.add_argument(\"--models_per_gpu\", type=int, default=1)\n",
    "\n",
    "parser.add_argument(\"--ga_population_size\", type=int, default=40)\n",
    "parser.add_argument(\"--number_of_iterations\", type=int, default=500)\n",
    "\n",
    "parser.add_argument(\"--neural_crossover_iteration_threshold\", type=int, default=200)\n",
    "parser.add_argument(\"--ga_use_random_exchange\", type=bool, default=False)\n",
    "parser.add_argument(\"--use_neural_crossover\", type=bool, default=False)\n",
    "\n",
    "parser.add_argument(\"--use_neural_estimator\", type=bool, default=True)\n",
    "parser.add_argument(\"--neural_estimator_iteration_start\", type=int, default=0)\n",
    "parser.add_argument(\"--ga_neural_estimator_iterations_per_ga_iteration\", type=int, default=1)\n",
    "parser.add_argument(\"--ga_generate_only_unique_xy\", type=bool, default=False)\n",
    "\n",
    "parser.add_argument(\"--log_ga_into_file\", type=bool, default=False)\n",
    "parser.add_argument(\"--verbose\", type=bool, default=True)\n",
    "\n",
    "parser.add_argument(\"--exchange_best_between_gpus\", type=bool, default=False)\n",
    "parser.add_argument(\"--exchange_best_every_n_iterations\", type=int, default=1)\n",
    "parser.add_argument(\"--select_best_of_group\", type=int, default=5)\n",
    "parser.add_argument(\"--distribute_best\", type=int, default=5)\n",
    "\n",
    "\n",
    "params = parser.parse_args([])\n",
    "print(params)\n",
    "\n",
    "processes = []\n",
    "\n",
    "params.number_of_gpus = 1\n",
    "params.models_per_gpu = 1\n",
    "\n",
    "params.ga_use_random_exchange = False\n",
    "params.ga_population_size = 40\n",
    "\n",
    "params.exchange_best_every_n_iterations = 1\n",
    "params.select_best_of_group = 5\n",
    "params.distribute_best = 5\n",
    "params.my_device = 'cuda'\n",
    "\n",
    "gpu_num = params.number_of_gpus\n",
    "model_num = params.models_per_gpu\n",
    "\n",
    "ga_model_runner = GAModelRunner(gpu_num, model_num, params)\n",
    "accumulative_runner = ga_model_runner.accumulative_runner\n",
    "\n",
    "def model_runner_factory(gpu_num, model_num, params):\n",
    "    return ga_model_runner\n",
    "\n",
    "gpu_runner = GpuRunnner(gpu_num, params, model_runner_factory)\n",
    "\n",
    "gpu_runner.iterate(params.number_of_iterations)\n",
    "\n"
   ]
  },
  {
   "cell_type": "code",
   "execution_count": null,
   "metadata": {},
   "outputs": [],
   "source": [
    "hist = accumulative_runner.get_fitness_histogram()\n",
    "   "
   ]
  },
  {
   "cell_type": "code",
   "execution_count": null,
   "metadata": {},
   "outputs": [],
   "source": [
    "plt.bar(list(hist.keys()), hist.values(), color='g')\n",
    "plt.show()"
   ]
  },
  {
   "cell_type": "code",
   "execution_count": null,
   "metadata": {},
   "outputs": [],
   "source": [
    "hist = accumulative_runner.get_xy_histogram()\n",
    "plt.bar(list(hist.keys()), hist.values(), color='g')\n",
    "plt.show()"
   ]
  },
  {
   "cell_type": "code",
   "execution_count": null,
   "metadata": {},
   "outputs": [],
   "source": [
    "accumulative_runner.predict('ABABAGALAMAGAABABAGALAMAGAABABAGALAMAGAABABAG')"
   ]
  },
  {
   "cell_type": "code",
   "execution_count": null,
   "metadata": {},
   "outputs": [],
   "source": [
    "plt.plot(accumulative_runner.get_loss_history())\n",
    "plt.show()"
   ]
  },
  {
   "cell_type": "code",
   "execution_count": null,
   "metadata": {},
   "outputs": [],
   "source": []
  }
 ],
 "metadata": {
  "kernelspec": {
   "display_name": "Python 3 (ipykernel)",
   "language": "python",
   "name": "python3"
  },
  "language_info": {
   "codemirror_mode": {
    "name": "ipython",
    "version": 3
   },
   "file_extension": ".py",
   "mimetype": "text/x-python",
   "name": "python",
   "nbconvert_exporter": "python",
   "pygments_lexer": "ipython3",
   "version": "3.9.7"
  }
 },
 "nbformat": 4,
 "nbformat_minor": 4
}
