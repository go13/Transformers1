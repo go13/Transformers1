{
 "cells": [
  {
   "cell_type": "code",
   "execution_count": 1,
   "metadata": {},
   "outputs": [
    {
     "name": "stdout",
     "output_type": "stream",
     "text": [
      "Namespace(number_of_gpus=1, models_per_gpu=1, ga_population_size=40, number_of_iterations=5, neural_crossover_iteration_threshold=0, ga_use_random_exchange=False, use_neural_crossover=True, use_evolve_transformer=False, use_neural_estimator=True, neural_estimator_iteration_start=0, ga_neural_estimator_iterations_per_ga_iteration=1, ga_generate_only_unique_xy=False, log_ga_into_file=False, verbose=False, exchange_best_between_gpus=False, exchange_best_every_n_iterations=1, select_best_of_group=5, distribute_best=5)\n",
      "Creating transformers\n",
      "8.510465 M parameters\n",
      "25.505855 M parameters\n",
      "Starting iteration 0 on gpu 1\n",
      "iteration=0\n",
      "xy: f=5.00009212058464, d=GVB953GG8M4T9D17OEGUCMM5W5LVWBRSANDB86FZ4PWND\n",
      "xy: f=4.000744041016622, d=Q8ESSP9LL5AI4LSYKYEAJD8G1R5ZRMQ0JE7HUWKWHFAA3\n",
      "xy: f=2.0009088259815773, d=2LTKSCY5AZPVY56SNOISP10AD68VUM5YYGSZH15C8KU6B\n",
      "xy: f=2.0008975245629417, d=5CMBEJUTGPXTZJ8AG3O0YTILIIDKVI1AHPL4NTUK4ZF6N\n",
      "xy: f=2.000653349405944, d=XF1GGP8IQ1UKAA1Q24WFUEF6LVBQ67BK00958QYO8W3G5\n",
      "xy: f=2.000537921836235, d=VB6VYNPFRFTKTWVTIWUDPTJ3IZ0HI9E1YWO3JJ7CQL7AB\n",
      "xy: f=2.000444645721985, d=RJ3IWGVXU37Z91B9RCIZ254JXYD5V0JTCT3YPMPXKUPJ9\n",
      "xy: f=2.0002853257077047, d=7KYPFV0GL6LGQO2TPYTN0LHZ37C2H99LAEMPXMSX0EMVW\n",
      "xy: f=2.0002447728213015, d=QZN4UEAB446C8WV3CWC39FGH9KBI0TNJ2R6LZGLY040WY\n",
      "xy: f=2.0001291993708388, d=117ZXS9EP5LEV00ZTPY5RKMWRMN2DG5P88SH61PW6P3UG\n",
      "xy: f=1.0009956088516532, d=WOU2I2J8BZC7JU59CSSWYWQ2YPHSAPB1ZNU4KR24EIJ87\n",
      "xy: f=1.0009147037134507, d=W9P44CH6KLOFJUWISUUADL70S93FE0BB6MJ8YQYZTQ2CA\n",
      "xy: f=1.0008871833262631, d=WSVWBR1Y5OBW2EN5IUY0ZYUX9OHO8U868IAQV1DOHXKRW\n",
      "xy: f=1.0008325386995929, d=TTVG4THJS7V72OOK2B4GEXRKQ29UT0L7NL6YNXG1L75G9\n",
      "xy: f=1.000778889553462, d=SEE3RZ37N268WAA5UEBHBLCUAX89H1XOF6PLG8KUZDEMJ\n",
      "xy: f=1.0007131248539667, d=RD5ZVT129K8A1S4WEJ47SW1VGLIII78AHWPXE4FOH4KPF\n",
      "xy: f=1.0006289479603332, d=QH5C3RLN7MH3OLY4ICFV9WSXIOETUDF51CFTY4GX55YT4\n",
      "xy: f=1.0005893337598533, d=RIJBYE03LIZNT5PW2KZX3D3MBBC207V601C2R1CNLGFGQ\n",
      "xy: f=1.0005578834360447, d=E06FIFX3IYH29D1QCSC2LEOTPXBRPZUP541RFIQD5IQ84\n",
      "xy: f=1.0004766976797452, d=905G3DSFX63J283HLIO8Q79JVS2J2M0A2YE33VSSDKBFD\n",
      "xy: f=1.000364101926738, d=OK4OS112TZKVOTC1WOH6XN6XRAJSC34AFGD1TJ2T00G4W\n",
      "xy: f=1.0002848252022596, d=4Y4A2JDQG8KIBKL1L075IZPTEB27EBTOQAY0DD9QH6PZU\n",
      "xy: f=1.0002637582674652, d=2RHWVQ5ILSHIFM6WGO1KN4IGGBWA1Y6ANVSK2JGV0MMHP\n",
      "xy: f=1.0002355879129199, d=BGN6784ZVLY40U8LAQTW4APH5R2OBAGWK9OZVKIFCOL98\n",
      "xy: f=1.000159146782369, d=AAE8H2Q9WJXHNESDGEA7QH0XI3KGUZVDDD8FO7HHJVX7Z\n",
      "xy: f=1.0001481979599514, d=W5TS7JCRG1LAK9RIIXOF3A0MN7JJMAE7VVCLKCW4ZZ7FK\n",
      "xy: f=1.0001433966049853, d=U45M1WCP76SHW7TPLO1OLCI25O1KTN50JN08FS2WG7GEA\n",
      "xy: f=1.000109785904735, d=0R9CBJBFRQ7V9OMCUXJU6Q8RKA1JKQ7OHPR7HQQR5BVPC\n",
      "xy: f=1.0000122786818675, d=J2SH7GCUSP4DBWSSGG474F21JRO8C9WIVWMRKSF43U3L7\n",
      "xy: f=0.0008904320946158745, d=JD1P3AVAFYRI5GQ05SXJXW41V2Z12AB2IWK9UJEGMGQZ9\n",
      "xy: f=0.0007892908815734274, d=V980SYZY6H6DVCSKX62SS7R1U4ER1EIYZHYVM4Y5U01PV\n",
      "xy: f=0.0007576797216248526, d=ZEVTWN7MLG0XQXCBS6N7Z34NEX9AE0XWZS4WIMY0VG3CJ\n",
      "xy: f=0.0006914584086014597, d=W212L9JDL0JT6VEIN80HK75HAQBW4SDR8O3EGNNP01TSU\n",
      "xy: f=0.0005711739513561121, d=DCOMUFV1L7O5OH4CNHR99RBM358DFAIWB6H4DYXTXNYFY\n",
      "xy: f=0.0005418663495065236, d=HDTTU9K2V2COP7TGJQBMR7GHC1E28RFTJO149NJ7699CF\n",
      "xy: f=0.0005156474394530857, d=TJDPR51PL613YY3IA82YH0V2QVBK4L6LU0G2RM3R1WJ6Y\n",
      "xy: f=0.000483537552374994, d=0XLXS5RBLK3T30AUE2S6ZJWC6H44T8WDLWBDR6LSJQWOI\n",
      "xy: f=0.0004725788242425259, d=QL3RJ8JY8DRKCKPTMJEI6MTQE6YLNU5088CWYM2U8OEG4\n",
      "xy: f=0.00016348447036071333, d=V24ZWL1JPAGPNMTFH1YYHTBIMWPLXTFSDFNI8A4PCBWHX\n",
      "xy: f=0.00011952108863196887, d=3Q6N403CG31TLTQ7SXM2WH16UTLKOUNO6JPGN8KVV4QLS\n",
      "Estimator average loss=4.208471775054932, total_samples=40\n",
      "Crossover average loss=4.917003154754639, total_samples=27\n",
      "Time of iteration is 2.5112762451171875, it=1, gpu=1\n",
      "GAModelRunnner step : 2.511276 s\n",
      "Ended iteration 0 on gpu 1, taken = 2.5112762451171875, time/iteration = 2.5112762451171875, models_per_gpu=1\n",
      "Starting iteration 1 on gpu 1\n",
      "Estimator average loss=381.38970947265625, total_samples=68\n",
      "Crossover average loss=4.462146759033203, total_samples=54\n",
      "Time of iteration is 0.39400553703308105, it=2, gpu=1\n",
      "GAModelRunnner step : 0.394006 s\n",
      "Ended iteration 1 on gpu 1, taken = 0.39400553703308105, time/iteration = 0.39400553703308105, models_per_gpu=1\n",
      "Starting iteration 2 on gpu 1\n",
      "Estimator average loss=11.873281478881836, total_samples=96\n",
      "Crossover average loss=3.60284161567688, total_samples=81\n",
      "Time of iteration is 0.3999826908111572, it=3, gpu=1\n",
      "GAModelRunnner step : 0.399983 s\n",
      "Ended iteration 2 on gpu 1, taken = 0.3999826908111572, time/iteration = 0.3999826908111572, models_per_gpu=1\n",
      "Starting iteration 3 on gpu 1\n",
      "Estimator average loss=12.22995376586914, total_samples=124\n",
      "Crossover average loss=2.9554903507232666, total_samples=109\n",
      "Time of iteration is 0.3950169086456299, it=4, gpu=1\n",
      "GAModelRunnner step : 0.395017 s\n",
      "Ended iteration 3 on gpu 1, taken = 0.3950169086456299, time/iteration = 0.3950169086456299, models_per_gpu=1\n",
      "Starting iteration 4 on gpu 1\n",
      "Estimator average loss=25.213533401489258, total_samples=152\n",
      "Crossover average loss=3.217353343963623, total_samples=137\n",
      "Time of iteration is 0.3936910629272461, it=5, gpu=1\n",
      "GAModelRunnner step : 0.393691 s\n",
      "Ended iteration 4 on gpu 1, taken = 0.3936910629272461, time/iteration = 0.3936910629272461, models_per_gpu=1\n"
     ]
    }
   ],
   "source": [
    "import argparse\n",
    "import torch\n",
    "\n",
    "import matplotlib.pyplot as plt\n",
    "import torch.multiprocessing as mp\n",
    "\n",
    "from ga_t3.ga_model_runner import GAModelRunner\n",
    "from ga_t3.base_model_runner import GpuRunnner\n",
    "\n",
    "parser = argparse.ArgumentParser(description=\"Language transfer\")\n",
    "\n",
    "# main parameters\n",
    "parser.add_argument(\"--number_of_gpus\", type=int, default=1)\n",
    "parser.add_argument(\"--models_per_gpu\", type=int, default=1)\n",
    "\n",
    "parser.add_argument(\"--ga_population_size\", type=int, default=40)\n",
    "parser.add_argument(\"--number_of_iterations\", type=int, default=5)\n",
    "\n",
    "parser.add_argument(\"--neural_crossover_iteration_threshold\", type=int, default=0)\n",
    "parser.add_argument(\"--ga_use_random_exchange\", type=bool, default=False)\n",
    "parser.add_argument(\"--use_neural_crossover\", type=bool, default=True)\n",
    "parser.add_argument(\"--use_evolve_transformer\", type=bool, default=False)\n",
    "\n",
    "parser.add_argument(\"--use_neural_estimator\", type=bool, default=True)\n",
    "parser.add_argument(\"--neural_estimator_iteration_start\", type=int, default=0)\n",
    "parser.add_argument(\"--ga_neural_estimator_iterations_per_ga_iteration\", type=int, default=1)\n",
    "parser.add_argument(\"--ga_generate_only_unique_xy\", type=bool, default=False)\n",
    "\n",
    "parser.add_argument(\"--log_ga_into_file\", type=bool, default=False)\n",
    "parser.add_argument(\"--verbose\", type=bool, default=False)\n",
    "\n",
    "parser.add_argument(\"--exchange_best_between_gpus\", type=bool, default=False)\n",
    "parser.add_argument(\"--exchange_best_every_n_iterations\", type=int, default=1)\n",
    "parser.add_argument(\"--select_best_of_group\", type=int, default=5)\n",
    "parser.add_argument(\"--distribute_best\", type=int, default=5)\n",
    "\n",
    "\n",
    "params = parser.parse_args([])\n",
    "print(params)\n",
    "\n",
    "processes = []\n",
    "\n",
    "params.number_of_gpus = 1\n",
    "params.models_per_gpu = 1\n",
    "\n",
    "params.ga_use_random_exchange = False\n",
    "params.ga_population_size = 40\n",
    "\n",
    "params.exchange_best_every_n_iterations = 1\n",
    "params.select_best_of_group = 5\n",
    "params.distribute_best = 5\n",
    "params.my_device = 'cuda'\n",
    "\n",
    "gpu_num = params.number_of_gpus\n",
    "model_num = params.models_per_gpu\n",
    "\n",
    "ga_model_runner = GAModelRunner(gpu_num, model_num, params)\n",
    "accumulative_runner = ga_model_runner.accumulative_runner\n",
    "\n",
    "def model_runner_factory(gpu_num, model_num, params):\n",
    "    return ga_model_runner\n",
    "\n",
    "gpu_runner = GpuRunnner(gpu_num, params, model_runner_factory)\n",
    "\n",
    "gpu_runner.iterate(params.number_of_iterations)\n",
    "\n"
   ]
  },
  {
   "cell_type": "code",
   "execution_count": null,
   "metadata": {},
   "outputs": [],
   "source": [
    "hist = accumulative_runner.get_fitness_histogram()\n",
    "   "
   ]
  },
  {
   "cell_type": "code",
   "execution_count": null,
   "metadata": {},
   "outputs": [],
   "source": [
    "plt.bar(list(hist.keys()), hist.values(), color='g')\n",
    "plt.show()"
   ]
  },
  {
   "cell_type": "code",
   "execution_count": null,
   "metadata": {},
   "outputs": [],
   "source": [
    "hist = accumulative_runner.get_xy_histogram()\n",
    "plt.bar(list(hist.keys()), hist.values(), color='g')\n",
    "plt.show()"
   ]
  },
  {
   "cell_type": "code",
   "execution_count": null,
   "metadata": {},
   "outputs": [],
   "source": [
    "accumulative_runner.predict('ABABAGALAMAGAABABAGALAMAGAABABAGALAMAGAABABAG')"
   ]
  },
  {
   "cell_type": "code",
   "execution_count": null,
   "metadata": {},
   "outputs": [],
   "source": [
    "!pip install plotly"
   ]
  },
  {
   "cell_type": "code",
   "execution_count": null,
   "metadata": {},
   "outputs": [],
   "source": [
    "import plotly.graph_objs as go\n",
    "import plotly.offline as py\n",
    "\n",
    "# Create a trace of the data\n",
    "trace = go.Scatter(y=accumulative_runner.get_loss_history())\n",
    "\n",
    "# Create a data object to hold the trace\n",
    "data = [trace]\n",
    "\n",
    "# Use the iplot function to display the chart\n",
    "py.iplot(data)"
   ]
  },
  {
   "cell_type": "code",
   "execution_count": 2,
   "metadata": {},
   "outputs": [],
   "source": [
    "l=ga_model_runner.crossover_trainer.predict_list(['ZZZZZZZZZZZZZZZZZZZZZZZZZAABABAGALAMAGAABABAG'], ['ABABAGALAMAGAABABAGALAMAGAABABAGALAMAGAABABAG'])"
   ]
  },
  {
   "cell_type": "code",
   "execution_count": 5,
   "metadata": {},
   "outputs": [
    {
     "data": {
      "text/plain": [
       "[[43,\n",
       "  48,\n",
       "  36,\n",
       "  124,\n",
       "  16,\n",
       "  93,\n",
       "  56,\n",
       "  36,\n",
       "  18,\n",
       "  48,\n",
       "  71,\n",
       "  39,\n",
       "  19,\n",
       "  110,\n",
       "  104,\n",
       "  9,\n",
       "  40,\n",
       "  65,\n",
       "  36,\n",
       "  72,\n",
       "  28,\n",
       "  48,\n",
       "  42,\n",
       "  83,\n",
       "  68,\n",
       "  15,\n",
       "  46,\n",
       "  68,\n",
       "  67,\n",
       "  8,\n",
       "  1,\n",
       "  40,\n",
       "  22,\n",
       "  50,\n",
       "  41,\n",
       "  93,\n",
       "  103,\n",
       "  16,\n",
       "  54,\n",
       "  36,\n",
       "  57,\n",
       "  3,\n",
       "  68,\n",
       "  36,\n",
       "  67]]"
      ]
     },
     "execution_count": 5,
     "metadata": {},
     "output_type": "execute_result"
    }
   ],
   "source": [
    "l.tolist()"
   ]
  },
  {
   "cell_type": "code",
   "execution_count": null,
   "metadata": {},
   "outputs": [],
   "source": []
  }
 ],
 "metadata": {
  "kernelspec": {
   "display_name": "Python 3 (ipykernel)",
   "language": "python",
   "name": "python3"
  },
  "language_info": {
   "codemirror_mode": {
    "name": "ipython",
    "version": 3
   },
   "file_extension": ".py",
   "mimetype": "text/x-python",
   "name": "python",
   "nbconvert_exporter": "python",
   "pygments_lexer": "ipython3",
   "version": "3.9.7"
  }
 },
 "nbformat": 4,
 "nbformat_minor": 4
}
