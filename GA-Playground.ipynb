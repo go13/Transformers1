{
 "cells": [
  {
   "cell_type": "code",
   "execution_count": 1,
   "metadata": {},
   "outputs": [
    {
     "name": "stdout",
     "output_type": "stream",
     "text": [
      "Namespace(number_of_gpus=1, models_per_gpu=1, ga_population_size=40, number_of_iterations=10, neural_crossover_iteration_threshold=0, ga_use_random_exchange=False, use_neural_crossover=True, use_evolve_transformer=False, use_neural_estimator=True, neural_estimator_iteration_start=0, ga_neural_estimator_iterations_per_ga_iteration=1, ga_generate_only_unique_xy=False, log_ga_into_file=False, verbose=False, exchange_best_between_gpus=False, exchange_best_every_n_iterations=1, select_best_of_group=5, distribute_best=5)\n",
      "Creating transformers\n",
      "8.510465 M parameters\n",
      "25.505855 M parameters\n",
      "Starting iteration 0 on gpu 1\n",
      "iteration=0\n",
      "xy: f=3.000894579022564, d=LYUNH8SWG0URGNDP98ITMFUELLHZ975OP2CD7GP0MAHA9\n",
      "xy: f=3.00066523867125, d=NOAMSHXXVXNS6V27QUE9B4LI6YJ6637I1LAF2EZ6SZNKK\n",
      "xy: f=3.000508169437377, d=SGVBA2RHPAWWQRP33DBZS9QEGW8WC4UQIDOLVFQ3QO37L\n",
      "xy: f=3.0004187499068005, d=299FLAFL73Y5TRF928YA0H3Q74T3PQO72BYUA5P14Q6JN\n",
      "xy: f=3.000275563546295, d=CRWBEOJ7RL0Q3LYXCDTAADMXKXMS4VS5W6H39MSWMV7CR\n",
      "xy: f=3.0002364114585283, d=UBIKTNQDX3EI5F49YJ9IW7G9V9WFDSJX6BAS7GGS41C8E\n",
      "xy: f=3.0000458643573036, d=6GYQ4IYGV3EPA7F8L7YHPBN6C5AVIEJGXXK0GTXVZFXI9\n",
      "xy: f=2.0009689593851316, d=OFIWQ356SAIDA0GXBBT3YM7SBN638O1SM6SK0JHHYP07V\n",
      "xy: f=2.000940869447513, d=BLLBAR893U6QQ4MQNY056H53DE0W30KIDIB517LYW8HE3\n",
      "xy: f=2.0008931203892764, d=ANQ5IQP7NV6VRB2RXGP2L8PFHCWR2XJ8DME4HRB7APFVP\n",
      "xy: f=2.000834344926536, d=5D99KR3PCEF9DBD4SYDT5RKMTIONAPXHL0AHIU8DH38MQ\n",
      "xy: f=2.0007082322921277, d=NL1N9OOFF122K2U3MXXTYG9MGGREZ9KOEZO57NFF8CBFW\n",
      "xy: f=2.0006679581890587, d=AXOXC4XENJD9Q1JY8T395E8Y7VD9Q0UZO9A55O7RZNUVW\n",
      "xy: f=2.000585459212485, d=ROXLRVIM790W7UXRJ5JPXOC7U97JJBDRDG9A5N1AVLU8Y\n",
      "xy: f=2.0005063749656267, d=WK6W3P8JYNZJZ4CJQDO1NU66ZB3V2UZC0LAR3AZRR2K4E\n",
      "xy: f=2.000308419117598, d=OBJGRGHBLVIELEH1W1IKQE96A4I6RM1UEN473LQ0URL4X\n",
      "xy: f=2.0001018161896185, d=A9UJIPXPBHXE64JGDWBZKC1YJOG9K6F8JD9SVWAVKKWGP\n",
      "xy: f=1.0008213083452462, d=7JURY3XYIL64G9LN6TMDFSPNF2Q9FQ38CPZ23IYPSKBPT\n",
      "xy: f=1.000761951909063, d=1XQEEFPUM890FE4YJHHP0VEJO98GORJUI8ASZA10RFT84\n",
      "xy: f=1.000455089370432, d=FH04A0UBWY3BFLOKJV2MHKAXI03TKU9FGJ34M6EEMDC51\n",
      "xy: f=1.000447250347396, d=6VG5PZRCR57GVL6UZ6ZB6MW7BL6UWE4J8I18MA5M3QTGY\n",
      "xy: f=1.0003355044322613, d=FMBX0Z42P2PZRGJFKUNJK78I1OQV1MOD4HX4A4JQRW8R7\n",
      "xy: f=1.0002923869815294, d=BQ704H1JV5OYCIMR6DN9CGBPLU183XT6I0DU5E72YAZBP\n",
      "xy: f=1.0002845120597192, d=ZCR9B7FHKGYBYPPH1RUSOAQXPE184N16RTUUPLOT3V14T\n",
      "xy: f=1.000262027364807, d=09RWZ1NMF2FWGKVEF22O5H39055SIB6ZOF1UI3R0NMPU8\n",
      "xy: f=1.0000607309201988, d=07L92HE0LYP11SCW0PFDONWOSJS294KQD4XTKHJCDCB0Q\n",
      "xy: f=0.0008771248732806981, d=Y2UXRTXBCXH2UG4DSVKXNZR1BESIY77Z8PM3E3WMYY5B8\n",
      "xy: f=0.0005786425257646126, d=92CTQ1QUO8G677198JE4I5KB4FYM1NQAJ3RZEQRSTGXJP\n",
      "xy: f=0.0005212859374670758, d=UXIFLPCR9BRF6FJMUCOK0MEHSFHDS5J1XE5N2ND501SGZ\n",
      "xy: f=0.0005188806014240246, d=NC5SOF4VKAMXB13X4135U5QFO7V8GF54SRFT7OV2VV2IW\n",
      "xy: f=0.0005058179487155676, d=GHFR33H7U1YZFQTX7C00169S4T54I41EEOX9UOWZ09AD3\n",
      "xy: f=0.000401155581115387, d=F529VQTPZWGE5OEVABF3D50CLPC7C57B2JWQZXG2NGTFS\n",
      "xy: f=0.00036944429272184364, d=ZT3GFLLAJZMO5MG6U9KI526TUL1SDLMZRUDWWLUXY72HD\n",
      "xy: f=0.00033553405001822433, d=MP71Z5GJ7H98YTHLR6CE5U4W990OSR5HI48GC6PPC78CX\n",
      "xy: f=0.0002941861063800516, d=5AHJMOI9144C3LVIFSVZJP3OH6NRFSNPD67SHXPNQRUYE\n",
      "xy: f=0.0002605521796448164, d=4AIDNZ46BPPQYZDWACNX6HI0JNZJS4D459YDSCHVJMD32\n",
      "xy: f=0.00023840389994789012, d=9L3LXF0PMSLKEF6C10RVC3EGNNLN1RBEX96L32ECZTARP\n",
      "xy: f=0.0001146050283735227, d=UOVEGICOP20EL9Z5RPSZJKPLERNF7W39MOTOO3ZXDW7BN\n",
      "xy: f=3.5328846572199594e-05, d=MKECHBVBOUP10BRFV9RLUBSINDN2FC6HTNEUSQ1V5X7HR\n",
      "xy: f=1.9895933354103002e-05, d=8XQSHL6VGVIT0ZI6T6NC0QJ6UEDEVX0BW1C0PFI3EQAUY\n",
      "Estimator average loss=2.8440489768981934, total_samples=40\n",
      "Crossover average loss=5.038267612457275, total_samples=28\n",
      "Time of iteration is 2.521766424179077, it=1, gpu=1\n",
      "GAModelRunnner step : 2.521766 s\n",
      "Ended iteration 0 on gpu 1, taken = 2.521766424179077, time/iteration = 2.521766424179077, models_per_gpu=1\n",
      "Starting iteration 1 on gpu 1\n",
      "Estimator average loss=359.49951171875, total_samples=67\n",
      "Crossover average loss=4.437288284301758, total_samples=56\n",
      "Time of iteration is 0.40358996391296387, it=2, gpu=1\n",
      "GAModelRunnner step : 0.403590 s\n",
      "Ended iteration 1 on gpu 1, taken = 0.40358996391296387, time/iteration = 0.40358996391296387, models_per_gpu=1\n",
      "Starting iteration 2 on gpu 1\n",
      "Estimator average loss=16.995952606201172, total_samples=95\n",
      "Crossover average loss=3.656339168548584, total_samples=84\n",
      "Time of iteration is 0.39826273918151855, it=3, gpu=1\n",
      "GAModelRunnner step : 0.398263 s\n",
      "Ended iteration 2 on gpu 1, taken = 0.39826273918151855, time/iteration = 0.39826273918151855, models_per_gpu=1\n",
      "Starting iteration 3 on gpu 1\n",
      "Estimator average loss=8.209028244018555, total_samples=123\n",
      "Crossover average loss=3.1591901779174805, total_samples=112\n",
      "Time of iteration is 0.3897261619567871, it=4, gpu=1\n",
      "GAModelRunnner step : 0.389726 s\n",
      "Ended iteration 3 on gpu 1, taken = 0.3897261619567871, time/iteration = 0.3897261619567871, models_per_gpu=1\n",
      "Starting iteration 4 on gpu 1\n",
      "Estimator average loss=13.895503997802734, total_samples=150\n",
      "Crossover average loss=2.810194730758667, total_samples=140\n",
      "Time of iteration is 0.3926262855529785, it=5, gpu=1\n",
      "GAModelRunnner step : 0.392626 s\n",
      "Ended iteration 4 on gpu 1, taken = 0.3926262855529785, time/iteration = 0.3926262855529785, models_per_gpu=1\n",
      "Starting iteration 5 on gpu 1\n",
      "Estimator average loss=9.483680725097656, total_samples=177\n",
      "Crossover average loss=2.30908465385437, total_samples=167\n",
      "Time of iteration is 0.39200925827026367, it=6, gpu=1\n",
      "GAModelRunnner step : 0.392009 s\n",
      "Ended iteration 5 on gpu 1, taken = 0.39200925827026367, time/iteration = 0.39200925827026367, models_per_gpu=1\n",
      "Starting iteration 6 on gpu 1\n",
      "Estimator average loss=9.317399978637695, total_samples=205\n",
      "Crossover average loss=2.212709665298462, total_samples=195\n",
      "Time of iteration is 0.39299535751342773, it=7, gpu=1\n",
      "GAModelRunnner step : 0.392995 s\n",
      "Ended iteration 6 on gpu 1, taken = 0.39299535751342773, time/iteration = 0.39299535751342773, models_per_gpu=1\n",
      "Starting iteration 7 on gpu 1\n",
      "Estimator average loss=6.942476272583008, total_samples=233\n",
      "Crossover average loss=2.4737279415130615, total_samples=222\n",
      "Time of iteration is 0.38802456855773926, it=8, gpu=1\n",
      "GAModelRunnner step : 0.388025 s\n",
      "Ended iteration 7 on gpu 1, taken = 0.38802456855773926, time/iteration = 0.38802456855773926, models_per_gpu=1\n",
      "Starting iteration 8 on gpu 1\n",
      "Estimator average loss=4.609770774841309, total_samples=258\n",
      "Crossover average loss=2.512735605239868, total_samples=250\n",
      "Time of iteration is 0.38000011444091797, it=9, gpu=1\n",
      "GAModelRunnner step : 0.380000 s\n",
      "Ended iteration 8 on gpu 1, taken = 0.38000011444091797, time/iteration = 0.38000011444091797, models_per_gpu=1\n",
      "Starting iteration 9 on gpu 1\n",
      "Estimator average loss=3.8814170360565186, total_samples=285\n",
      "Crossover average loss=2.0475265979766846, total_samples=278\n",
      "Time of iteration is 0.3880000114440918, it=10, gpu=1\n",
      "GAModelRunnner step : 0.389000 s\n",
      "Ended iteration 9 on gpu 1, taken = 0.38900041580200195, time/iteration = 0.38900041580200195, models_per_gpu=1\n"
     ]
    }
   ],
   "source": [
    "import argparse\n",
    "import torch\n",
    "\n",
    "import matplotlib.pyplot as plt\n",
    "import torch.multiprocessing as mp\n",
    "\n",
    "from ga_t3.ga_model_runner import GAModelRunner\n",
    "from ga_t3.base_model_runner import GpuRunnner\n",
    "\n",
    "parser = argparse.ArgumentParser(description=\"Language transfer\")\n",
    "\n",
    "# main parameters\n",
    "parser.add_argument(\"--number_of_gpus\", type=int, default=1)\n",
    "parser.add_argument(\"--models_per_gpu\", type=int, default=1)\n",
    "\n",
    "parser.add_argument(\"--ga_population_size\", type=int, default=40)\n",
    "parser.add_argument(\"--number_of_iterations\", type=int, default=10)\n",
    "\n",
    "parser.add_argument(\"--neural_crossover_iteration_threshold\", type=int, default=0)\n",
    "parser.add_argument(\"--ga_use_random_exchange\", type=bool, default=False)\n",
    "parser.add_argument(\"--use_neural_crossover\", type=bool, default=True)\n",
    "parser.add_argument(\"--use_evolve_transformer\", type=bool, default=False)\n",
    "\n",
    "parser.add_argument(\"--use_neural_estimator\", type=bool, default=True)\n",
    "parser.add_argument(\"--neural_estimator_iteration_start\", type=int, default=0)\n",
    "parser.add_argument(\"--ga_neural_estimator_iterations_per_ga_iteration\", type=int, default=1)\n",
    "parser.add_argument(\"--ga_generate_only_unique_xy\", type=bool, default=False)\n",
    "\n",
    "parser.add_argument(\"--log_ga_into_file\", type=bool, default=False)\n",
    "parser.add_argument(\"--verbose\", type=bool, default=False)\n",
    "\n",
    "parser.add_argument(\"--exchange_best_between_gpus\", type=bool, default=False)\n",
    "parser.add_argument(\"--exchange_best_every_n_iterations\", type=int, default=1)\n",
    "parser.add_argument(\"--select_best_of_group\", type=int, default=5)\n",
    "parser.add_argument(\"--distribute_best\", type=int, default=5)\n",
    "\n",
    "\n",
    "params = parser.parse_args([])\n",
    "print(params)\n",
    "\n",
    "processes = []\n",
    "\n",
    "params.number_of_gpus = 1\n",
    "params.models_per_gpu = 1\n",
    "\n",
    "params.ga_use_random_exchange = False\n",
    "params.ga_population_size = 40\n",
    "\n",
    "params.exchange_best_every_n_iterations = 1\n",
    "params.select_best_of_group = 5\n",
    "params.distribute_best = 5\n",
    "params.my_device = 'cuda'\n",
    "\n",
    "gpu_num = params.number_of_gpus\n",
    "model_num = params.models_per_gpu\n",
    "\n",
    "ga_model_runner = GAModelRunner(gpu_num, model_num, params)\n",
    "accumulative_runner = ga_model_runner.accumulative_runner\n",
    "\n",
    "def model_runner_factory(gpu_num, model_num, params):\n",
    "    return ga_model_runner\n",
    "\n",
    "gpu_runner = GpuRunnner(gpu_num, params, model_runner_factory)\n",
    "\n",
    "gpu_runner.iterate(params.number_of_iterations)\n",
    "\n"
   ]
  },
  {
   "cell_type": "code",
   "execution_count": null,
   "metadata": {},
   "outputs": [],
   "source": [
    "hist = accumulative_runner.get_fitness_histogram()\n",
    "   "
   ]
  },
  {
   "cell_type": "code",
   "execution_count": null,
   "metadata": {},
   "outputs": [],
   "source": [
    "plt.bar(list(hist.keys()), hist.values(), color='g')\n",
    "plt.show()"
   ]
  },
  {
   "cell_type": "code",
   "execution_count": null,
   "metadata": {},
   "outputs": [],
   "source": [
    "hist = accumulative_runner.get_xy_histogram()\n",
    "plt.bar(list(hist.keys()), hist.values(), color='g')\n",
    "plt.show()"
   ]
  },
  {
   "cell_type": "code",
   "execution_count": null,
   "metadata": {},
   "outputs": [],
   "source": [
    "accumulative_runner.predict('ABABAGALAMAGAABABAGALAMAGAABABAGALAMAGAABABAG')"
   ]
  },
  {
   "cell_type": "code",
   "execution_count": null,
   "metadata": {},
   "outputs": [],
   "source": [
    "!pip install plotly"
   ]
  },
  {
   "cell_type": "code",
   "execution_count": null,
   "metadata": {},
   "outputs": [],
   "source": [
    "import plotly.graph_objs as go\n",
    "import plotly.offline as py\n",
    "\n",
    "# Create a trace of the data\n",
    "trace = go.Scatter(y=accumulative_runner.get_loss_history())\n",
    "\n",
    "# Create a data object to hold the trace\n",
    "data = [trace]\n",
    "\n",
    "# Use the iplot function to display the chart\n",
    "py.iplot(data)"
   ]
  },
  {
   "cell_type": "code",
   "execution_count": 2,
   "metadata": {},
   "outputs": [],
   "source": [
    "l = ga_model_runner.crossover_trainer.predict('ABABAGALAMAGAABABAGALAMAGAABABAGALAMAGAABABAG', 'ABABAGALAMAGAABABAGALAMAGAABABAGALAMAGAABABAG')"
   ]
  },
  {
   "cell_type": "code",
   "execution_count": 3,
   "metadata": {},
   "outputs": [
    {
     "data": {
      "text/plain": [
       "tensor([[ 52],\n",
       "        [ 63],\n",
       "        [ 68],\n",
       "        [ 13],\n",
       "        [ 67],\n",
       "        [ 47],\n",
       "        [ 42],\n",
       "        [ 45],\n",
       "        [ 57],\n",
       "        [ 49],\n",
       "        [114],\n",
       "        [ 56],\n",
       "        [118],\n",
       "        [ 76],\n",
       "        [ 72],\n",
       "        [ 89],\n",
       "        [103],\n",
       "        [  2],\n",
       "        [ 62],\n",
       "        [103],\n",
       "        [ 47],\n",
       "        [ 14],\n",
       "        [ 48],\n",
       "        [ 91],\n",
       "        [ 95],\n",
       "        [ 70],\n",
       "        [ 33],\n",
       "        [ 46],\n",
       "        [ 44],\n",
       "        [117],\n",
       "        [ 60],\n",
       "        [ 15],\n",
       "        [ 33],\n",
       "        [125],\n",
       "        [ 13],\n",
       "        [ 13],\n",
       "        [ 19],\n",
       "        [102],\n",
       "        [ 60],\n",
       "        [ 91],\n",
       "        [ 69],\n",
       "        [111],\n",
       "        [ 18],\n",
       "        [ 56],\n",
       "        [ 18]], device='cuda:0')"
      ]
     },
     "execution_count": 3,
     "metadata": {},
     "output_type": "execute_result"
    }
   ],
   "source": [
    "l"
   ]
  },
  {
   "cell_type": "code",
   "execution_count": 12,
   "metadata": {},
   "outputs": [
    {
     "data": {
      "text/plain": [
       "tensor([ 52,  63,  68,  13,  67,  47,  42,  45,  57,  49, 114,  56, 118,  76,\n",
       "         72,  89, 103,   2,  62, 103,  47,  14,  48,  91,  95,  70,  33,  46,\n",
       "         44, 117,  60,  15,  33, 125,  13,  13,  19, 102,  60,  91,  69, 111,\n",
       "         18,  56,  18], device='cuda:0')"
      ]
     },
     "execution_count": 12,
     "metadata": {},
     "output_type": "execute_result"
    }
   ],
   "source": [
    "l.reshape(-1)"
   ]
  },
  {
   "cell_type": "code",
   "execution_count": 14,
   "metadata": {},
   "outputs": [
    {
     "data": {
      "text/plain": [
       "'OUW3WMJLRNtQvaYho!ToM4MikXFLKvS5Fz339nSiXs8Q8'"
      ]
     },
     "execution_count": 14,
     "metadata": {},
     "output_type": "execute_result"
    }
   ],
   "source": [
    "ga_model_runner.crossover_trainer.config.token_codec.decode(l.reshape(-1).tolist())"
   ]
  }
 ],
 "metadata": {
  "kernelspec": {
   "display_name": "Python 3 (ipykernel)",
   "language": "python",
   "name": "python3"
  },
  "language_info": {
   "codemirror_mode": {
    "name": "ipython",
    "version": 3
   },
   "file_extension": ".py",
   "mimetype": "text/x-python",
   "name": "python",
   "nbconvert_exporter": "python",
   "pygments_lexer": "ipython3",
   "version": "3.9.7"
  }
 },
 "nbformat": 4,
 "nbformat_minor": 4
}
