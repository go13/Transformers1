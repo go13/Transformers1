{
 "cells": [
  {
   "cell_type": "code",
   "execution_count": 2,
   "id": "d4799c00",
   "metadata": {},
   "outputs": [],
   "source": [
    "import torch\n",
    "import torch.nn as nn\n"
   ]
  },
  {
   "cell_type": "code",
   "execution_count": 8,
   "id": "fa9cf1aa",
   "metadata": {},
   "outputs": [
    {
     "name": "stdout",
     "output_type": "stream",
     "text": [
      "Model's prediction: torch.Size([8, 1])\n"
     ]
    }
   ],
   "source": [
    "# Define the model\n",
    "class LinearRegression(nn.Module):\n",
    "    def __init__(self, input_dim, output_dim):\n",
    "        super().__init__()\n",
    "        self.linear = nn.Linear(input_dim, output_dim)\n",
    "\n",
    "    def forward(self, x):\n",
    "        return self.linear(x)\n",
    "\n",
    "# Define the input dimension and output dimension\n",
    "input_dim = 5\n",
    "output_dim = 1\n",
    "\n",
    "# Initialize the model\n",
    "model = LinearRegression(input_dim, output_dim)\n",
    "\n",
    "# Define an example input\n",
    "x = torch.randn(8, input_dim)\n",
    "\n",
    "# Get the model's prediction\n",
    "y = model(x)\n",
    "\n",
    "print(\"Model's prediction:\", y.shape)"
   ]
  },
  {
   "cell_type": "code",
   "execution_count": null,
   "id": "f272b053",
   "metadata": {},
   "outputs": [],
   "source": []
  }
 ],
 "metadata": {
  "kernelspec": {
   "display_name": "Python 3 (ipykernel)",
   "language": "python",
   "name": "python3"
  },
  "language_info": {
   "codemirror_mode": {
    "name": "ipython",
    "version": 3
   },
   "file_extension": ".py",
   "mimetype": "text/x-python",
   "name": "python",
   "nbconvert_exporter": "python",
   "pygments_lexer": "ipython3",
   "version": "3.9.7"
  }
 },
 "nbformat": 4,
 "nbformat_minor": 5
}