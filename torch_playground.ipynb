{
 "cells": [
  {
   "cell_type": "code",
   "execution_count": 1,
   "id": "d4799c00",
   "metadata": {},
   "outputs": [],
   "source": [
    "import torch\n",
    "from t3_karpathy.compressing_transformer import CompressingAccumulativeTrainer\n",
    "from t3_karpathy.transformer_config import TransformerConfig\n",
    "from t3_karpathy.gpt_nano_dataloader import GptNanoDataloader\n",
    "from t3_karpathy.karpathy_transformer import KarpathyRunner\n",
    "\n"
   ]
  },
  {
   "cell_type": "code",
   "execution_count": null,
   "id": "97884b49",
   "metadata": {},
   "outputs": [
    {
     "name": "stdout",
     "output_type": "stream",
     "text": [
      "File already downloaded\n",
      "in_size=32, in_embd=64, out_size=16, out_embd=64\n",
      "in_size=16, in_embd=64, out_size=8, out_embd=64\n",
      "in_size=8, in_embd=64, out_size=16, out_embd=64\n",
      "in_size=16, in_embd=64, out_size=32, out_embd=64\n",
      "0.414218 M parameters\n",
      "step 0: train loss 15.9134, val loss 15.9326\n",
      "step 100: train loss 3.5526, val loss 3.5994\n",
      "step 200: train loss 3.4700, val loss 3.5172\n"
     ]
    }
   ],
   "source": [
    "\n",
    "config = TransformerConfig()\n",
    "dataloader = GptNanoDataloader(config)\n",
    "device = 'cuda'\n",
    "\n",
    "trainer1=CompressingAccumulativeTrainer(config)\n",
    "#rainer1=KarpathyRunner(config)\n",
    "trainer1.train_iterate(5000, dataloader.get_train_batch, dataloader.get_val_batch)\n",
    "\n",
    "print(dataloader.token_codec.decode(trainer1.generate(torch.zeros((1, 1), dtype=torch.long, device=device), 100)[0].tolist()))\n",
    "\n",
    "context = torch.zeros((1, 1), dtype=torch.long, device=device)\n",
    "print(dataloader.token_codec.decode(trainer1.generate(context, max_new_tokens=2000)[0].tolist()))"
   ]
  },
  {
   "cell_type": "code",
   "execution_count": null,
   "id": "331975b3",
   "metadata": {},
   "outputs": [],
   "source": []
  }
 ],
 "metadata": {
  "kernelspec": {
   "display_name": "Python 3 (ipykernel)",
   "language": "python",
   "name": "python3"
  },
  "language_info": {
   "codemirror_mode": {
    "name": "ipython",
    "version": 3
   },
   "file_extension": ".py",
   "mimetype": "text/x-python",
   "name": "python",
   "nbconvert_exporter": "python",
   "pygments_lexer": "ipython3",
   "version": "3.9.7"
  }
 },
 "nbformat": 4,
 "nbformat_minor": 5
}