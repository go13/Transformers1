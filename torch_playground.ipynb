{
 "cells": [
  {
   "cell_type": "code",
   "execution_count": 1,
   "id": "ea4e5e6c",
   "metadata": {},
   "outputs": [],
   "source": [
    "import torch\n",
    "\n",
    "# create two sample vectors\n",
    "inps = torch.randn([64, 161, 1])\n",
    "d = torch.randn([64, 161])"
   ]
  },
  {
   "cell_type": "code",
   "execution_count": 2,
   "id": "aa6d7bfa",
   "metadata": {},
   "outputs": [
    {
     "name": "stdout",
     "output_type": "stream",
     "text": [
      "torch.Size([64, 161, 2])\n"
     ]
    }
   ],
   "source": [
    "new_inps = torch.cat((inps, d.unsqueeze(2)), dim=-1)\n",
    "print(new_inps.shape)  # [64, 161, 2]"
   ]
  },
  {
   "cell_type": "code",
   "execution_count": null,
   "id": "ec3ccd03",
   "metadata": {},
   "outputs": [],
   "source": [
    "# bring d into the same format, and then concatenate tensors\n",
    "new_inps = torch.cat((inps, d.unsqueeze(2)), dim=-1)\n",
    "print(new_inps.shape)  # [64, 161, 2]`"
   ]
  },
  {
   "cell_type": "code",
   "execution_count": 91,
   "id": "26f3a806",
   "metadata": {},
   "outputs": [],
   "source": [
    "def add_tensor(x_data, x):\n",
    "    # define the condition to check if x exists in x_data\n",
    "    condition = torch.any(torch.eq(x_data, x[:, None]), dim=2)\n",
    "    # get the indices of rows that will be added to x_data\n",
    "    added_indices = torch.where(~condition)[0]\n",
    "    #print(added_indices)\n",
    "    added_indices = added_indices.squeeze()\n",
    "    # select the rows from x that will be added to x_data\n",
    "    added_x = torch.index_select(x, 0, added_indices)\n",
    "    # concatenate the selected rows of x with x_data\n",
    "    x_data = torch.cat((x_data, added_x))\n",
    "    # remove duplicate rows\n",
    "    x_data = torch.unique(x_data, dim=0)\n",
    "    \n",
    "    return added_indices\n"
   ]
  },
  {
   "cell_type": "code",
   "execution_count": 92,
   "id": "b0af3afc",
   "metadata": {},
   "outputs": [
    {
     "data": {
      "text/plain": [
       "tensor([0, 0, 1, 1, 2, 2, 3, 3])"
      ]
     },
     "execution_count": 92,
     "metadata": {},
     "output_type": "execute_result"
    }
   ],
   "source": [
    "x_data = torch.tensor([[1, 2, 3], [1, 2, 3],[4, 5, 6], [7, 8, 9]])\n",
    "x = torch.tensor([[1, 2, 3], [1, 2, 3],[1, 2, 0],[1, 2, 5]])\n",
    "\n",
    "add_tensor(x_data, x)"
   ]
  },
  {
   "cell_type": "code",
   "execution_count": 84,
   "id": "ec00cbf7",
   "metadata": {},
   "outputs": [
    {
     "ename": "AttributeError",
     "evalue": "'tuple' object has no attribute 'squeeze'",
     "output_type": "error",
     "traceback": [
      "\u001b[1;31m---------------------------------------------------------------------------\u001b[0m",
      "\u001b[1;31mAttributeError\u001b[0m                            Traceback (most recent call last)",
      "\u001b[1;32m~\\AppData\\Local\\Temp/ipykernel_29656/2063333160.py\u001b[0m in \u001b[0;36m<module>\u001b[1;34m\u001b[0m\n\u001b[0;32m     18\u001b[0m \u001b[1;33m\u001b[0m\u001b[0m\n\u001b[0;32m     19\u001b[0m \u001b[0mx\u001b[0m \u001b[1;33m=\u001b[0m \u001b[0mtorch\u001b[0m\u001b[1;33m.\u001b[0m\u001b[0mtensor\u001b[0m\u001b[1;33m(\u001b[0m\u001b[1;33m[\u001b[0m\u001b[1;33m[\u001b[0m\u001b[1;36m1\u001b[0m\u001b[1;33m,\u001b[0m \u001b[1;36m2\u001b[0m\u001b[1;33m,\u001b[0m \u001b[1;36m3\u001b[0m\u001b[1;33m]\u001b[0m\u001b[1;33m,\u001b[0m \u001b[1;33m[\u001b[0m\u001b[1;36m1\u001b[0m\u001b[1;33m,\u001b[0m \u001b[1;36m2\u001b[0m\u001b[1;33m,\u001b[0m \u001b[1;36m3\u001b[0m\u001b[1;33m]\u001b[0m\u001b[1;33m,\u001b[0m\u001b[1;33m[\u001b[0m\u001b[1;36m1\u001b[0m\u001b[1;33m,\u001b[0m \u001b[1;36m2\u001b[0m\u001b[1;33m,\u001b[0m \u001b[1;36m3\u001b[0m\u001b[1;33m]\u001b[0m\u001b[1;33m,\u001b[0m\u001b[1;33m[\u001b[0m\u001b[1;36m1\u001b[0m\u001b[1;33m,\u001b[0m \u001b[1;36m2\u001b[0m\u001b[1;33m,\u001b[0m \u001b[1;36m5\u001b[0m\u001b[1;33m]\u001b[0m\u001b[1;33m]\u001b[0m\u001b[1;33m)\u001b[0m\u001b[1;33m\u001b[0m\u001b[1;33m\u001b[0m\u001b[0m\n\u001b[1;32m---> 20\u001b[1;33m \u001b[0madd_tensor\u001b[0m\u001b[1;33m(\u001b[0m\u001b[0mx\u001b[0m\u001b[1;33m)\u001b[0m\u001b[1;33m\u001b[0m\u001b[1;33m\u001b[0m\u001b[0m\n\u001b[0m\u001b[0;32m     21\u001b[0m \u001b[0mprint\u001b[0m\u001b[1;33m(\u001b[0m\u001b[0mx_data\u001b[0m\u001b[1;33m)\u001b[0m\u001b[1;33m\u001b[0m\u001b[1;33m\u001b[0m\u001b[0m\n",
      "\u001b[1;32m~\\AppData\\Local\\Temp/ipykernel_29656/2063333160.py\u001b[0m in \u001b[0;36madd_tensor\u001b[1;34m(x)\u001b[0m\n\u001b[0;32m      9\u001b[0m     \u001b[1;31m# get the indices of rows that will be added to x_data\u001b[0m\u001b[1;33m\u001b[0m\u001b[1;33m\u001b[0m\u001b[0m\n\u001b[0;32m     10\u001b[0m     \u001b[0madded_indices\u001b[0m \u001b[1;33m=\u001b[0m \u001b[0mtorch\u001b[0m\u001b[1;33m.\u001b[0m\u001b[0mwhere\u001b[0m\u001b[1;33m(\u001b[0m\u001b[1;33m~\u001b[0m\u001b[0mcondition\u001b[0m\u001b[1;33m)\u001b[0m\u001b[1;33m\u001b[0m\u001b[1;33m\u001b[0m\u001b[0m\n\u001b[1;32m---> 11\u001b[1;33m     \u001b[0madded_indices\u001b[0m \u001b[1;33m=\u001b[0m \u001b[0madded_indices\u001b[0m\u001b[1;33m.\u001b[0m\u001b[0msqueeze\u001b[0m\u001b[1;33m(\u001b[0m\u001b[1;33m)\u001b[0m\u001b[1;33m\u001b[0m\u001b[1;33m\u001b[0m\u001b[0m\n\u001b[0m\u001b[0;32m     12\u001b[0m     \u001b[1;31m# select the rows from x that will be added to x_data\u001b[0m\u001b[1;33m\u001b[0m\u001b[1;33m\u001b[0m\u001b[0m\n\u001b[0;32m     13\u001b[0m     \u001b[0madded_x\u001b[0m \u001b[1;33m=\u001b[0m \u001b[0mtorch\u001b[0m\u001b[1;33m.\u001b[0m\u001b[0mindex_select\u001b[0m\u001b[1;33m(\u001b[0m\u001b[0mx\u001b[0m\u001b[1;33m,\u001b[0m \u001b[1;36m0\u001b[0m\u001b[1;33m,\u001b[0m \u001b[0madded_indices\u001b[0m\u001b[1;33m)\u001b[0m\u001b[1;33m\u001b[0m\u001b[1;33m\u001b[0m\u001b[0m\n",
      "\u001b[1;31mAttributeError\u001b[0m: 'tuple' object has no attribute 'squeeze'"
     ]
    }
   ],
   "source": [
    "import torch\n",
    "\n",
    "x_data = torch.tensor([[1, 2, 3], [4, 5, 6], [7, 8, 9]])\n",
    "\n",
    "def add_tensor(x):\n",
    "    global x_data\n",
    "    # define the condition to check if x exists in x_data\n",
    "    condition = torch.any(torch.eq(x_data, x[:, None]), dim=2)\n",
    "    # get the indices of rows that will be added to x_data\n",
    "    added_indices = torch.where(~condition)\n",
    "    added_indices = added_indices.squeeze()\n",
    "    # select the rows from x that will be added to x_data\n",
    "    added_x = torch.index_select(x, 0, added_indices)\n",
    "    # concatenate the selected rows of x with x_data\n",
    "    x_data = torch.cat((x_data, added_x))\n",
    "    # remove duplicate rows\n",
    "    x_data = torch.unique(x_data, dim=0)\n",
    "\n",
    "x = torch.tensor([[1, 2, 3], [1, 2, 3],[1, 2, 3],[1, 2, 5]])\n",
    "add_tensor(x)\n",
    "print(x_data)"
   ]
  },
  {
   "cell_type": "code",
   "execution_count": 51,
   "id": "d93d1d8e",
   "metadata": {},
   "outputs": [],
   "source": [
    "\n",
    "x_data = torch.tensor([[1, 2, 3], [4, 5, 6], [7, 8, 9]])\n",
    "y_data = torch.tensor([[4, 5, 6], [10, 11, 12]])\n"
   ]
  },
  {
   "cell_type": "code",
   "execution_count": 78,
   "id": "2dda47ca",
   "metadata": {},
   "outputs": [
    {
     "name": "stdout",
     "output_type": "stream",
     "text": [
      "tensor([[[1, 2, 3],\n",
      "         [1, 2, 3],\n",
      "         [1, 2, 3],\n",
      "         [1, 2, 3]]])\n"
     ]
    },
    {
     "ename": "RuntimeError",
     "evalue": "The size of tensor a (3) must match the size of tensor b (4) at non-singleton dimension 0",
     "output_type": "error",
     "traceback": [
      "\u001b[1;31m---------------------------------------------------------------------------\u001b[0m",
      "\u001b[1;31mRuntimeError\u001b[0m                              Traceback (most recent call last)",
      "\u001b[1;32m~\\AppData\\Local\\Temp/ipykernel_29656/3047959070.py\u001b[0m in \u001b[0;36m<module>\u001b[1;34m\u001b[0m\n\u001b[0;32m      4\u001b[0m \u001b[0mprint\u001b[0m\u001b[1;33m(\u001b[0m\u001b[0mx\u001b[0m\u001b[1;33m[\u001b[0m\u001b[1;32mNone\u001b[0m\u001b[1;33m]\u001b[0m\u001b[1;33m)\u001b[0m\u001b[1;33m\u001b[0m\u001b[1;33m\u001b[0m\u001b[0m\n\u001b[0;32m      5\u001b[0m \u001b[1;33m\u001b[0m\u001b[0m\n\u001b[1;32m----> 6\u001b[1;33m \u001b[0mcondition\u001b[0m \u001b[1;33m=\u001b[0m \u001b[0mtorch\u001b[0m\u001b[1;33m.\u001b[0m\u001b[0many\u001b[0m\u001b[1;33m(\u001b[0m\u001b[0mtorch\u001b[0m\u001b[1;33m.\u001b[0m\u001b[0meq\u001b[0m\u001b[1;33m(\u001b[0m\u001b[0mx_data\u001b[0m\u001b[1;33m,\u001b[0m \u001b[0mx\u001b[0m\u001b[1;33m)\u001b[0m\u001b[1;33m,\u001b[0m \u001b[0mdim\u001b[0m\u001b[1;33m=\u001b[0m\u001b[1;36m2\u001b[0m\u001b[1;33m)\u001b[0m\u001b[1;33m\u001b[0m\u001b[1;33m\u001b[0m\u001b[0m\n\u001b[0m\u001b[0;32m      7\u001b[0m \u001b[1;33m\u001b[0m\u001b[0m\n\u001b[0;32m      8\u001b[0m \u001b[0mcondition\u001b[0m\u001b[1;33m\u001b[0m\u001b[1;33m\u001b[0m\u001b[0m\n",
      "\u001b[1;31mRuntimeError\u001b[0m: The size of tensor a (3) must match the size of tensor b (4) at non-singleton dimension 0"
     ]
    }
   ],
   "source": [
    "\n",
    "x = torch.tensor([[1, 2, 3], [1, 2, 3],[1, 2, 3],[1, 2, 3]])\n",
    "#x = torch.empty(1,3)\n",
    "\n",
    "print(x[None])\n",
    "\n",
    "condition = torch.any(torch.eq(x_data, x), dim=2)\n",
    "\n",
    "condition"
   ]
  },
  {
   "cell_type": "code",
   "execution_count": null,
   "id": "3f1e9f5b",
   "metadata": {},
   "outputs": [],
   "source": [
    "import torch\n",
    "\n",
    "x_data = torch.tensor([[1, 2, 3], [4, 5, 6], [7, 8, 9]])\n",
    "y_data = torch.tensor([[4, 5, 6], [10, 11, 12]])\n",
    "\n",
    "def add_tensor(x, y):\n",
    "    # define the condition to check if x exists in x_data\n",
    "    condition = torch.any(torch.eq(x_data, x[None]), dim=1)\n",
    "    #get the indices of rows that will be added to x_data\n",
    "    added_indices = torch.where(~condition)\n",
    "    added_indices = added_indices.squeeze()\n",
    "\n",
    "    # check if x exists in x_data\n",
    "    if not condition.any():\n",
    "        global x_data, y_data\n",
    "        # add x to x_data\n",
    "        x_data = torch.cat((x_data, x[None]))\n",
    "        # add y to y_data\n",
    "        selected_y = torch.index_select(y, 0, added_indices)\n",
    "        y_data = torch.cat((y_data, selected_y))\n",
    "    return added_indices\n",
    "\n",
    "x = torch.tensor([10, 11, 12])\n",
    "y = torch.tensor([[13, 14, 15], [16, 17, 18], [19, 20, 21]])\n",
    "print(add_tensor(x, y)) # tensor([[3]])\n",
    "\n",
    "x = torch.tensor([1, 2, 3])\n",
    "y = torch.tensor([[13, 14, 15], [16, 17, 18], [19, 20, 21]])\n",
    "print(add_tensor(x, y)) # tensor([], size=(0, 1))\n",
    "In this example, torch.index_select(y, 0, added_indices) selects the rows of y that have the corresponding added_indices along the 0th axis.\n",
    "\n",
    "Finally, torch.cat((y_data, selected_y)) concatenates the selected rows of y with y_data along the 0th axis.\n",
    "\n",
    "Please note that, as x_data and y_data are global variable, if you want to update them inside the function, you need to use global x_data, y_data at the start of the function. Also, if the added_indices is empty, torch.index_select(y, 0, added_indices) will return an empty tensor, and torch.cat((y_data, selected_y)) will not add any row to y_data.\n",
    "\n",
    "\n",
    "\n",
    "\n",
    "How do i \n"
   ]
  },
  {
   "cell_type": "code",
   "execution_count": 38,
   "id": "20a2b63d",
   "metadata": {},
   "outputs": [
    {
     "data": {
      "text/plain": [
       "tensor([[ 1.4467, -0.4909],\n",
       "        [-0.1533,  0.2013],\n",
       "        [ 1.3653, -1.2441],\n",
       "        [ 1.3534, -0.1226]])"
      ]
     },
     "execution_count": 38,
     "metadata": {},
     "output_type": "execute_result"
    }
   ],
   "source": [
    "d"
   ]
  },
  {
   "cell_type": "code",
   "execution_count": 44,
   "id": "b78266fc",
   "metadata": {},
   "outputs": [
    {
     "data": {
      "text/plain": [
       "tensor([[[ 1.4467, -0.4909]],\n",
       "\n",
       "        [[-0.1533,  0.2013]],\n",
       "\n",
       "        [[ 1.3653, -1.2441]],\n",
       "\n",
       "        [[ 1.3534, -0.1226]]])"
      ]
     },
     "execution_count": 44,
     "metadata": {},
     "output_type": "execute_result"
    }
   ],
   "source": [
    "d.unsqueeze(1)"
   ]
  },
  {
   "cell_type": "code",
   "execution_count": 49,
   "id": "6104d546",
   "metadata": {},
   "outputs": [
    {
     "data": {
      "text/plain": [
       "torch.Size([64, 161, 4])"
      ]
     },
     "execution_count": 49,
     "metadata": {},
     "output_type": "execute_result"
    }
   ],
   "source": [
    "# create two sample vectors\n",
    "inps = torch.randn([64, 161, 1])\n",
    "d = torch.randn([64, 161])\n",
    "\n",
    "def add_tensor(to, x):\n",
    "    return torch.cat((to, x.unsqueeze(2)), dim=-1)\n",
    "\n",
    "inps = add_tensor(inps, d)\n",
    "inps = add_tensor(inps, d)\n",
    "inps = add_tensor(inps, d)\n",
    "inps.shape"
   ]
  },
  {
   "cell_type": "code",
   "execution_count": 45,
   "id": "fa56bd24",
   "metadata": {},
   "outputs": [
    {
     "ename": "RuntimeError",
     "evalue": "Tensors must have same number of dimensions: got 1 and 2",
     "output_type": "error",
     "traceback": [
      "\u001b[1;31m---------------------------------------------------------------------------\u001b[0m",
      "\u001b[1;31mRuntimeError\u001b[0m                              Traceback (most recent call last)",
      "\u001b[1;32m~\\AppData\\Local\\Temp/ipykernel_29656/2149285884.py\u001b[0m in \u001b[0;36m<module>\u001b[1;34m\u001b[0m\n\u001b[0;32m      3\u001b[0m \u001b[1;33m\u001b[0m\u001b[0m\n\u001b[0;32m      4\u001b[0m \u001b[0mtensor2\u001b[0m \u001b[1;33m=\u001b[0m \u001b[0mtorch\u001b[0m\u001b[1;33m.\u001b[0m\u001b[0munsqueeze\u001b[0m\u001b[1;33m(\u001b[0m\u001b[0mtensor2\u001b[0m\u001b[1;33m,\u001b[0m \u001b[0mdim\u001b[0m\u001b[1;33m=\u001b[0m\u001b[1;36m0\u001b[0m\u001b[1;33m)\u001b[0m\u001b[1;33m\u001b[0m\u001b[1;33m\u001b[0m\u001b[0m\n\u001b[1;32m----> 5\u001b[1;33m \u001b[0mresult\u001b[0m \u001b[1;33m=\u001b[0m \u001b[0mtorch\u001b[0m\u001b[1;33m.\u001b[0m\u001b[0mcat\u001b[0m\u001b[1;33m(\u001b[0m\u001b[1;33m(\u001b[0m\u001b[0mtensor1\u001b[0m\u001b[1;33m,\u001b[0m \u001b[0mtensor2\u001b[0m\u001b[1;33m)\u001b[0m\u001b[1;33m,\u001b[0m \u001b[0mdim\u001b[0m\u001b[1;33m=\u001b[0m\u001b[1;36m0\u001b[0m\u001b[1;33m)\u001b[0m\u001b[1;33m\u001b[0m\u001b[1;33m\u001b[0m\u001b[0m\n\u001b[0m\u001b[0;32m      6\u001b[0m \u001b[1;33m\u001b[0m\u001b[0m\n\u001b[0;32m      7\u001b[0m \u001b[0mresult\u001b[0m\u001b[1;33m\u001b[0m\u001b[1;33m\u001b[0m\u001b[0m\n",
      "\u001b[1;31mRuntimeError\u001b[0m: Tensors must have same number of dimensions: got 1 and 2"
     ]
    }
   ],
   "source": [
    "tensor1 = torch.tensor([1, 2, 3])\n",
    "tensor2 = torch.tensor([4])\n",
    "\n",
    "tensor2 = torch.unsqueeze(tensor2, dim=0)\n",
    "result = torch.cat((tensor1, tensor2), dim=0)\n",
    "\n",
    "result"
   ]
  },
  {
   "cell_type": "code",
   "execution_count": 50,
   "id": "14b1d641",
   "metadata": {},
   "outputs": [
    {
     "data": {
      "text/plain": [
       "tensor([1, 2])"
      ]
     },
     "execution_count": 50,
     "metadata": {},
     "output_type": "execute_result"
    }
   ],
   "source": [
    "torch.tensor()"
   ]
  },
  {
   "cell_type": "code",
   "execution_count": null,
   "id": "d4799c00",
   "metadata": {},
   "outputs": [],
   "source": []
  }
 ],
 "metadata": {
  "kernelspec": {
   "display_name": "Python 3 (ipykernel)",
   "language": "python",
   "name": "python3"
  },
  "language_info": {
   "codemirror_mode": {
    "name": "ipython",
    "version": 3
   },
   "file_extension": ".py",
   "mimetype": "text/x-python",
   "name": "python",
   "nbconvert_exporter": "python",
   "pygments_lexer": "ipython3",
   "version": "3.9.7"
  }
 },
 "nbformat": 4,
 "nbformat_minor": 5
}
