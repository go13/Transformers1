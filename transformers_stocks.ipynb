{
 "cells": [
  {
   "cell_type": "code",
   "execution_count": 1,
   "id": "5827900a-6328-4178-ac86-291d2b8e2f24",
   "metadata": {},
   "outputs": [
    {
     "name": "stdout",
     "output_type": "stream",
     "text": [
      "['/share/run.sh', '/share/cuda_test.ipynb', '/share/pytorch_experiments', '/share/workspace', '/share/jupyter_notebooks']\n",
      "True\n"
     ]
    }
   ],
   "source": [
    "import glob\n",
    "print(glob.glob(\"/share/*\"))\n",
    "\n",
    "from torch import nn as nn\n",
    "import torch\n",
    "from timeseries.timeseries_transformer import TimeseriesDataloader, TimeseriesTransformerConfig, DistancePositionalEmbedding, PositionalEmbedding,TimeseriesPandasTrainer\n",
    "from t3_karpathy.commons.feed_forwards import GeluFeedForward\n",
    "from t3_karpathy.enhanced_karpathy_transformer import BlockSequence\n",
    "\n",
    "from t3_karpathy.commons.commons import AbstractCodec, AbstractAccumulativeTrainer, AbstractRunner, \\\n",
    "    BaseTransformerConfig, TimeseriesFeedForward\n",
    "\n",
    "print(torch.cuda.is_available())\n",
    "directory_path = '/share/workspace/us-stock-dataset/Data/StockHistory'\n"
   ]
  },
  {
   "cell_type": "code",
   "execution_count": 2,
   "id": "98b6ab76-c416-41e0-9c5c-36dc6bc4954d",
   "metadata": {},
   "outputs": [
    {
     "name": "stdout",
     "output_type": "stream",
     "text": [
      "Transformers1  us-stock-dataset\n"
     ]
    }
   ],
   "source": [
    "!ls /share/workspace"
   ]
  },
  {
   "cell_type": "code",
   "execution_count": 3,
   "id": "fe2f7a19-86d1-4d73-a18b-e81c50bc22e5",
   "metadata": {},
   "outputs": [],
   "source": [
    "\n",
    "stocks_to_load = [\n",
    "    \"AAPL\", \"TSLA\",\n",
    "    \"A\", \"GOOG\", \"AMZN\", \"PYPL\", \"NVDA\", \"AMD\",\n",
    "    \"NFLX\", \"MSFT\", \"INTC\", \"CSCO\", \"ADBE\", \"CRM\", \"QCOM\", \"TXN\", \"AVGO\",\n",
    "    \"INTU\", \"ORCL\", \"COST\", \"SBUX\", \"AMGN\", \"CHTR\", \"GILD\", \"CMCSA\", \"BKNG\",\n",
    "    \"MDLZ\", \"FISV\", \"BIIB\", \"MU\", \"MCD\", \"AMAT\", \"ADP\", \"ILMN\", \"ATVI\", \"ISRG\",\n",
    "    \"ADSK\", \"LRCX\", \"BIDU\", \"JD\", \"REGN\", \"WBA\", \"VRTX\", \"KHC\", \"WMT\", \"ZM\", \"MELI\",\n",
    "    \"TMUS\", \"CTSH\", \"XLNX\", \"PCAR\", \"ALGN\", \"WDAY\", \"SIRI\", \"CTXS\", \"ADI\", \"EXC\", \"LULU\",\n",
    "    \"MAR\", \"KLAC\", \"PAYX\", \"EA\", \"ILMN\", \"ALXN\", \"MNST\", \"BMRN\", \"EBAY\", \"CTAS\", \"VRSK\",\n",
    "    \"IDXX\", \"CDNS\", \"NXPI\", \"ASML\", \"INCY\", \"KLAC\", \"MCHP\", \"SNPS\", \"SWKS\", \"VRSN\",\n",
    "    \"WDC\", \"WYNN\", \"XLNX\", \"ZBRA\", \"ZTS\", \"AEP\", \"AIG\", \"ALL\", \"AXP\", \"BA\", \"BAC\",\n",
    "    \"BK\", \"BLK\", \"C\", \"CAT\", \"CL\", \"COF\", \"COP\", \"COST\", \"CSCO\", \"CVS\", \"CVX\",\n",
    "    \"DD\", \"DHR\", \"DIS\", \"DOW\", \"DUK\", \"EMR\", \"EXC\", \"F\", \"FDX\", \"GD\", \"GE\", \"GILD\",\n",
    "    \"GM\", \"GOOG\", \"GOOGL\", \"GS\", \"HD\", \"HON\", \"IBM\", \"INTC\", \"JNJ\", \"JPM\", \"KHC\", \"KMI\",\n",
    "    \"KO\", \"LLY\", \"LMT\", \"LOW\", \"MA\", \"MCD\", \"MDLZ\", \"MDT\", \"MET\", \"MMM\",\n",
    "    'BLND', 'BLNG', 'BLNKW', 'BLNGU', 'BLNGW', 'BLNK', 'BLPH', 'BLRX',\n",
    "    'BLTE', 'BLU', 'BLUA', 'BLUE', 'BLW', 'BLX', 'BLZE', 'BMA', 'BMAC', 'BMAQ', 'BMAQR', 'BMAQU'\n",
    "]\n"
   ]
  },
  {
   "cell_type": "code",
   "execution_count": 4,
   "id": "3e675dee-013d-4c0c-bca5-636b96e6b599",
   "metadata": {},
   "outputs": [
    {
     "name": "stdout",
     "output_type": "stream",
     "text": [
      "Reading and merging CSV files: ['AAPL', 'TSLA', 'A', 'GOOG', 'AMZN', 'PYPL', 'NVDA', 'AMD', 'NFLX', 'MSFT', 'INTC', 'CSCO', 'ADBE', 'CRM', 'QCOM', 'TXN', 'AVGO', 'INTU', 'ORCL', 'COST', 'SBUX', 'AMGN', 'CHTR', 'GILD', 'CMCSA', 'BKNG', 'MDLZ', 'FISV', 'BIIB', 'MU', 'MCD', 'AMAT', 'ADP', 'ILMN', 'ATVI', 'ISRG', 'ADSK', 'LRCX', 'BIDU', 'JD', 'REGN', 'WBA', 'VRTX', 'KHC', 'WMT', 'ZM', 'MELI', 'TMUS', 'CTSH', 'XLNX', 'PCAR', 'ALGN', 'WDAY', 'SIRI', 'CTXS', 'ADI', 'EXC', 'LULU', 'MAR', 'KLAC', 'PAYX', 'EA', 'ILMN', 'ALXN', 'MNST', 'BMRN', 'EBAY', 'CTAS', 'VRSK', 'IDXX', 'CDNS', 'NXPI', 'ASML', 'INCY', 'KLAC', 'MCHP', 'SNPS', 'SWKS', 'VRSN', 'WDC', 'WYNN', 'XLNX', 'ZBRA', 'ZTS', 'AEP', 'AIG', 'ALL', 'AXP', 'BA', 'BAC', 'BK', 'BLK', 'C', 'CAT', 'CL', 'COF', 'COP', 'COST', 'CSCO', 'CVS', 'CVX', 'DD', 'DHR', 'DIS', 'DOW', 'DUK', 'EMR', 'EXC', 'F', 'FDX', 'GD', 'GE', 'GILD', 'GM', 'GOOG', 'GOOGL', 'GS', 'HD', 'HON', 'IBM', 'INTC', 'JNJ', 'JPM', 'KHC', 'KMI', 'KO', 'LLY', 'LMT', 'LOW', 'MA', 'MCD', 'MDLZ', 'MDT', 'MET', 'MMM', 'BLND', 'BLNG', 'BLNKW', 'BLNGU', 'BLNGW', 'BLNK', 'BLPH', 'BLRX', 'BLTE', 'BLU', 'BLUA', 'BLUE', 'BLW', 'BLX', 'BLZE', 'BMA', 'BMAC', 'BMAQ', 'BMAQR', 'BMAQU']\n",
      "File /share/workspace/us-stock-dataset/Data/StockHistory/FISV.csv not found\n",
      "File /share/workspace/us-stock-dataset/Data/StockHistory/ATVI.csv not found\n",
      "File /share/workspace/us-stock-dataset/Data/StockHistory/XLNX.csv not found\n",
      "File /share/workspace/us-stock-dataset/Data/StockHistory/CTXS.csv not found\n",
      "File /share/workspace/us-stock-dataset/Data/StockHistory/ALXN.csv not found\n",
      "File /share/workspace/us-stock-dataset/Data/StockHistory/XLNX.csv not found\n",
      "File /share/workspace/us-stock-dataset/Data/StockHistory/BLNG.csv not found\n",
      "File /share/workspace/us-stock-dataset/Data/StockHistory/BLNKW.csv not found\n",
      "File /share/workspace/us-stock-dataset/Data/StockHistory/BLNGU.csv not found\n",
      "File /share/workspace/us-stock-dataset/Data/StockHistory/BLNGW.csv not found\n",
      "File /share/workspace/us-stock-dataset/Data/StockHistory/BLPH.csv not found\n",
      "File /share/workspace/us-stock-dataset/Data/StockHistory/BLU.csv not found\n",
      "File /share/workspace/us-stock-dataset/Data/StockHistory/BLUA.csv not found\n",
      "File /share/workspace/us-stock-dataset/Data/StockHistory/BMAC.csv not found\n",
      "File /share/workspace/us-stock-dataset/Data/StockHistory/BMAQ.csv not found\n",
      "File /share/workspace/us-stock-dataset/Data/StockHistory/BMAQR.csv not found\n",
      "File /share/workspace/us-stock-dataset/Data/StockHistory/BMAQU.csv not found\n"
     ]
    },
    {
     "name": "stderr",
     "output_type": "stream",
     "text": [
      "/share/workspace/Transformers1/timeseries/csv_reader.py:38: FutureWarning: DataFrame.fillna with 'method' is deprecated and will raise in a future version. Use obj.ffill() or obj.bfill() instead.\n",
      "  data = data.fillna(method='bfill').reset_index(drop=True)\n",
      "/share/workspace/Transformers1/timeseries/csv_reader.py:46: FutureWarning: DataFrame.fillna with 'method' is deprecated and will raise in a future version. Use obj.ffill() or obj.bfill() instead.\n",
      "  data = data.fillna(method='bfill').reset_index(drop=True)\n"
     ]
    },
    {
     "name": "stdout",
     "output_type": "stream",
     "text": [
      "Found files:  138\n"
     ]
    }
   ],
   "source": [
    "dataloader = TimeseriesDataloader(directory_path, stocks_to_load, add_diff=False)"
   ]
  },
  {
   "cell_type": "code",
   "execution_count": 5,
   "id": "a1d73344-4be7-48b2-9680-54259b4845c2",
   "metadata": {},
   "outputs": [
    {
     "data": {
      "text/plain": [
       "torch.Size([138, 5283])"
      ]
     },
     "execution_count": 5,
     "metadata": {},
     "output_type": "execute_result"
    }
   ],
   "source": [
    "data=dataloader.get_data().transpose(0, 1).cuda()\n",
    "data.shape"
   ]
  },
  {
   "cell_type": "code",
   "execution_count": 6,
   "id": "cb546f66-4233-4ccf-962f-a4d0808b9e23",
   "metadata": {},
   "outputs": [],
   "source": [
    "training_data = torch.diff(data, dim=1)\n"
   ]
  },
  {
   "cell_type": "code",
   "execution_count": 7,
   "id": "9dd64f4c-e94d-4677-bb55-553e56dfa2a4",
   "metadata": {},
   "outputs": [
    {
     "data": {
      "text/plain": [
       "tensor([ 0.6398,  1.2063,  1.0164,  0.5260,  0.8853,  1.1809,  0.8453,  0.7936,\n",
       "         3.9333,  1.2038,  0.6027,  0.5592,  3.0230,  1.7608,  1.0342,  1.0165,\n",
       "         2.3644,  2.1521,  0.5697,  1.6320,  0.5763,  1.6616,  3.4684,  0.7269,\n",
       "         0.3182, 18.9003,  0.3620,  4.9890,  1.0428,  1.1672,  0.7035,  1.0692,\n",
       "         3.4479,  1.6608,  1.8272,  2.8596,  2.7063,  0.5475,  5.7229,  0.6218,\n",
       "         2.5938,  0.3719,  0.2764,  3.6235,  8.5105,  0.8572,  0.6603,  0.4060,\n",
       "         3.7318,  1.9303,  0.5093,  1.1625,  0.3231,  2.2037,  1.1530,  1.6506,\n",
       "         0.5888,  1.2393,  3.4479,  0.2984,  1.5064,  0.4031,  1.9739,  0.9988,\n",
       "         2.3050,  0.7003,  1.2495,  2.4140,  1.8306,  1.6506,  0.4953,  1.2254,\n",
       "         1.3827,  2.5348,  0.9783,  2.1883,  2.2940,  0.8306,  0.5245, 10.0196,\n",
       "         0.7494,  1.1038,  3.0676,  0.4462,  0.5824,  4.1373,  3.5554,  1.2765,\n",
       "         0.4980,  1.2125,  0.6543,  1.6320,  0.5592,  0.6601,  0.9522,  0.8087,\n",
       "         0.8628,  1.1187,  0.3025,  0.5818,  0.6461,  0.3231,  0.1609,  1.9608,\n",
       "         1.2763,  2.0307,  0.7269,  0.3767,  0.5260,  0.5271,  2.6131,  1.4840,\n",
       "         1.1426,  1.2394,  0.6027,  0.8265,  0.9658,  0.3719,  0.1927,  0.3247,\n",
       "         1.0775,  2.3197,  0.9780,  2.1718,  1.1672,  0.3620,  0.7699,  0.5891,\n",
       "         1.2425,  0.0000, 51.5537,  1.0414,  0.0000,  1.4349,  0.0611,  0.2077,\n",
       "         0.0000,  0.9715], device='cuda:0')"
      ]
     },
     "execution_count": 7,
     "metadata": {},
     "output_type": "execute_result"
    }
   ],
   "source": [
    "training_data.std(dim=1)"
   ]
  },
  {
   "cell_type": "code",
   "execution_count": 8,
   "id": "87424453-f368-4439-9c70-0bb5441f3301",
   "metadata": {},
   "outputs": [],
   "source": [
    "def min_max_scaling(tensor):\n",
    "    return (tensor - tensor.min()) / (tensor.max() - tensor.min())\n"
   ]
  },
  {
   "cell_type": "code",
   "execution_count": 9,
   "id": "3ff39c6c-4215-461c-82f0-354e0424be87",
   "metadata": {},
   "outputs": [
    {
     "name": "stdout",
     "output_type": "stream",
     "text": [
      "torch.Size([138, 5282])\n"
     ]
    }
   ],
   "source": [
    "training_data = min_max_scaling(training_data)\n",
    "print(training_data.shape)"
   ]
  },
  {
   "cell_type": "code",
   "execution_count": 10,
   "id": "111bc992-8df4-424c-8599-7896fe9deac3",
   "metadata": {},
   "outputs": [
    {
     "name": "stdout",
     "output_type": "stream",
     "text": [
      "torch.Size([5282, 138])\n"
     ]
    }
   ],
   "source": [
    "training_data = training_data.transpose(0, 1)\n",
    "print(training_data.shape)"
   ]
  },
  {
   "cell_type": "code",
   "execution_count": 11,
   "id": "f2d92649-d0dc-411c-a9bb-15f9fafbc8b9",
   "metadata": {},
   "outputs": [
    {
     "name": "stdout",
     "output_type": "stream",
     "text": [
      "torch.Size([129, 5282, 10])\n"
     ]
    }
   ],
   "source": [
    "window_size = 10\n",
    "num_of_channels=len(training_data)\n",
    "\n",
    "def extract_sliding_windows(tensor, window_size):        \n",
    "    windows = tensor.unfold(1, window_size, 1)\n",
    "    return windows\n",
    "\n",
    "sliding_windows=extract_sliding_windows(training_data, window_size).transpose(0, 1)\n",
    "\n",
    "print(sliding_windows.shape)\n"
   ]
  },
  {
   "cell_type": "code",
   "execution_count": 13,
   "id": "2b60cbdd-1b54-4e72-9235-96bdd9a6cc6d",
   "metadata": {},
   "outputs": [
    {
     "name": "stdout",
     "output_type": "stream",
     "text": [
      "1.505858 M parameters\n"
     ]
    },
    {
     "ename": "IndexError",
     "evalue": "tuple index out of range",
     "output_type": "error",
     "traceback": [
      "\u001b[0;31m---------------------------------------------------------------------------\u001b[0m",
      "\u001b[0;31mIndexError\u001b[0m                                Traceback (most recent call last)",
      "Cell \u001b[0;32mIn[13], line 21\u001b[0m\n\u001b[1;32m     17\u001b[0m config\u001b[38;5;241m.\u001b[39moutput_num\u001b[38;5;241m=\u001b[39mnum_of_channels\n\u001b[1;32m     19\u001b[0m trainer1 \u001b[38;5;241m=\u001b[39m NoTokenTransformerRunner(config, training_data, training_data)\n\u001b[0;32m---> 21\u001b[0m \u001b[43mtrainer1\u001b[49m\u001b[38;5;241;43m.\u001b[39;49m\u001b[43mtrain_iterate_n\u001b[49m\u001b[43m(\u001b[49m\u001b[38;5;241;43m20000\u001b[39;49m\u001b[43m)\u001b[49m\n",
      "File \u001b[0;32m/share/workspace/Transformers1/t3_karpathy/commons/commons.py:142\u001b[0m, in \u001b[0;36mAbstractRunner.train_iterate_n\u001b[0;34m(self, n_iter)\u001b[0m\n\u001b[1;32m    141\u001b[0m \u001b[38;5;28;01mdef\u001b[39;00m \u001b[38;5;21mtrain_iterate_n\u001b[39m(\u001b[38;5;28mself\u001b[39m, n_iter):\n\u001b[0;32m--> 142\u001b[0m     \u001b[38;5;28;43mself\u001b[39;49m\u001b[38;5;241;43m.\u001b[39;49m\u001b[43mtrain_iterate\u001b[49m\u001b[43m(\u001b[49m\u001b[43mn_iter\u001b[49m\u001b[43m,\u001b[49m\u001b[43m \u001b[49m\u001b[38;5;28;43mself\u001b[39;49m\u001b[38;5;241;43m.\u001b[39;49m\u001b[43mdata_loader\u001b[49m\u001b[38;5;241;43m.\u001b[39;49m\u001b[43mget_train_batch\u001b[49m\u001b[43m,\u001b[49m\u001b[43m \u001b[49m\u001b[38;5;28;43mself\u001b[39;49m\u001b[38;5;241;43m.\u001b[39;49m\u001b[43mdata_loader\u001b[49m\u001b[38;5;241;43m.\u001b[39;49m\u001b[43mget_val_batch\u001b[49m\u001b[43m)\u001b[49m\n",
      "File \u001b[0;32m/share/workspace/Transformers1/t3_karpathy/commons/commons.py:156\u001b[0m, in \u001b[0;36mAbstractRunner.train_iterate\u001b[0;34m(self, n_iter, get_train_batch, get_val_batch)\u001b[0m\n\u001b[1;32m    154\u001b[0m \u001b[38;5;28;01mif\u001b[39;00m eval_interval \u001b[38;5;241m!=\u001b[39m \u001b[38;5;241m-\u001b[39m\u001b[38;5;241m1\u001b[39m \u001b[38;5;129;01mand\u001b[39;00m \u001b[38;5;28mself\u001b[39m\u001b[38;5;241m.\u001b[39mcurrent_iteration \u001b[38;5;241m%\u001b[39m eval_interval \u001b[38;5;241m==\u001b[39m \u001b[38;5;241m0\u001b[39m:\n\u001b[1;32m    155\u001b[0m     t_taken \u001b[38;5;241m=\u001b[39m time\u001b[38;5;241m.\u001b[39mtime() \u001b[38;5;241m-\u001b[39m t\n\u001b[0;32m--> 156\u001b[0m     train_losses \u001b[38;5;241m=\u001b[39m torch\u001b[38;5;241m.\u001b[39msqrt(\u001b[38;5;28;43mself\u001b[39;49m\u001b[38;5;241;43m.\u001b[39;49m\u001b[43mevaluate\u001b[49m\u001b[43m(\u001b[49m\u001b[43mget_train_batch\u001b[49m\u001b[43m,\u001b[49m\u001b[43m \u001b[49m\u001b[38;5;28;43mself\u001b[39;49m\u001b[38;5;241;43m.\u001b[39;49m\u001b[43mconfig\u001b[49m\u001b[38;5;241;43m.\u001b[39;49m\u001b[43meval_iters\u001b[49m\u001b[43m)\u001b[49m)\n\u001b[1;32m    157\u001b[0m     val_losses \u001b[38;5;241m=\u001b[39m torch\u001b[38;5;241m.\u001b[39msqrt(\u001b[38;5;28mself\u001b[39m\u001b[38;5;241m.\u001b[39mevaluate(get_val_batch, \u001b[38;5;28mself\u001b[39m\u001b[38;5;241m.\u001b[39mconfig\u001b[38;5;241m.\u001b[39meval_iters))\n\u001b[1;32m    158\u001b[0m     \u001b[38;5;28mprint\u001b[39m(\n\u001b[1;32m    159\u001b[0m         \u001b[38;5;124mf\u001b[39m\u001b[38;5;124m\"\u001b[39m\u001b[38;5;124mstep \u001b[39m\u001b[38;5;132;01m{\u001b[39;00m\u001b[38;5;28mself\u001b[39m\u001b[38;5;241m.\u001b[39mcurrent_iteration\u001b[38;5;132;01m}\u001b[39;00m\u001b[38;5;124m: rmse train loss \u001b[39m\u001b[38;5;132;01m{\u001b[39;00mtrain_losses\u001b[38;5;132;01m:\u001b[39;00m\u001b[38;5;124m.4f\u001b[39m\u001b[38;5;132;01m}\u001b[39;00m\u001b[38;5;124m, rmse val loss \u001b[39m\u001b[38;5;132;01m{\u001b[39;00mval_losses\u001b[38;5;132;01m:\u001b[39;00m\u001b[38;5;124m.4f\u001b[39m\u001b[38;5;132;01m}\u001b[39;00m\u001b[38;5;124m, sec/iter \u001b[39m\u001b[38;5;132;01m{\u001b[39;00mt_taken\u001b[38;5;250m \u001b[39m\u001b[38;5;241m/\u001b[39m\u001b[38;5;250m \u001b[39meval_interval\u001b[38;5;132;01m}\u001b[39;00m\u001b[38;5;124m\"\u001b[39m)\n",
      "File \u001b[0;32m/usr/local/lib/python3.10/dist-packages/torch/utils/_contextlib.py:115\u001b[0m, in \u001b[0;36mcontext_decorator.<locals>.decorate_context\u001b[0;34m(*args, **kwargs)\u001b[0m\n\u001b[1;32m    112\u001b[0m \u001b[38;5;129m@functools\u001b[39m\u001b[38;5;241m.\u001b[39mwraps(func)\n\u001b[1;32m    113\u001b[0m \u001b[38;5;28;01mdef\u001b[39;00m \u001b[38;5;21mdecorate_context\u001b[39m(\u001b[38;5;241m*\u001b[39margs, \u001b[38;5;241m*\u001b[39m\u001b[38;5;241m*\u001b[39mkwargs):\n\u001b[1;32m    114\u001b[0m     \u001b[38;5;28;01mwith\u001b[39;00m ctx_factory():\n\u001b[0;32m--> 115\u001b[0m         \u001b[38;5;28;01mreturn\u001b[39;00m \u001b[43mfunc\u001b[49m\u001b[43m(\u001b[49m\u001b[38;5;241;43m*\u001b[39;49m\u001b[43margs\u001b[49m\u001b[43m,\u001b[49m\u001b[43m \u001b[49m\u001b[38;5;241;43m*\u001b[39;49m\u001b[38;5;241;43m*\u001b[39;49m\u001b[43mkwargs\u001b[49m\u001b[43m)\u001b[49m\n",
      "File \u001b[0;32m/share/workspace/Transformers1/t3_karpathy/commons/commons.py:137\u001b[0m, in \u001b[0;36mAbstractRunner.evaluate\u001b[0;34m(self, get_batch, eval_iters)\u001b[0m\n\u001b[1;32m    135\u001b[0m \u001b[38;5;28;01mfor\u001b[39;00m k \u001b[38;5;129;01min\u001b[39;00m \u001b[38;5;28mrange\u001b[39m(eval_iters):\n\u001b[1;32m    136\u001b[0m     x, y \u001b[38;5;241m=\u001b[39m get_batch()\n\u001b[0;32m--> 137\u001b[0m     logits, loss \u001b[38;5;241m=\u001b[39m \u001b[38;5;28;43mself\u001b[39;49m\u001b[38;5;241;43m.\u001b[39;49m\u001b[43mmodel\u001b[49m\u001b[38;5;241;43m.\u001b[39;49m\u001b[43mforward_vs_target\u001b[49m\u001b[43m(\u001b[49m\u001b[43mx\u001b[49m\u001b[43m,\u001b[49m\u001b[43m \u001b[49m\u001b[43my\u001b[49m\u001b[43m)\u001b[49m\n\u001b[1;32m    138\u001b[0m     losses \u001b[38;5;241m+\u001b[39m\u001b[38;5;241m=\u001b[39m loss\n\u001b[1;32m    139\u001b[0m \u001b[38;5;28;01mreturn\u001b[39;00m losses \u001b[38;5;241m/\u001b[39m eval_iters\n",
      "File \u001b[0;32m/share/workspace/Transformers1/t4/timeseries_transformer2_tokens.py:281\u001b[0m, in \u001b[0;36mNoTokenTransformerModel.forward_vs_target\u001b[0;34m(self, inp, targets)\u001b[0m\n\u001b[1;32m    280\u001b[0m \u001b[38;5;28;01mdef\u001b[39;00m \u001b[38;5;21mforward_vs_target\u001b[39m(\u001b[38;5;28mself\u001b[39m, inp, targets):\n\u001b[0;32m--> 281\u001b[0m     output \u001b[38;5;241m=\u001b[39m \u001b[38;5;28;43mself\u001b[39;49m\u001b[38;5;241;43m.\u001b[39;49m\u001b[43mforward\u001b[49m\u001b[43m(\u001b[49m\u001b[43minp\u001b[49m\u001b[43m)\u001b[49m\n\u001b[1;32m    283\u001b[0m     b, t, c \u001b[38;5;241m=\u001b[39m output\u001b[38;5;241m.\u001b[39mshape\n\u001b[1;32m    284\u001b[0m     \u001b[38;5;66;03m# print(output.shape)\u001b[39;00m\n",
      "File \u001b[0;32m/share/workspace/Transformers1/t4/timeseries_transformer2_tokens.py:301\u001b[0m, in \u001b[0;36mNoTokenTransformerModel.forward\u001b[0;34m(self, inp)\u001b[0m\n\u001b[1;32m    297\u001b[0m x \u001b[38;5;241m=\u001b[39m inp\n\u001b[1;32m    299\u001b[0m \u001b[38;5;66;03m# x = self.tok_emb.forward(x)\u001b[39;00m\n\u001b[0;32m--> 301\u001b[0m x \u001b[38;5;241m=\u001b[39m x\u001b[38;5;241m.\u001b[39mreshape(x\u001b[38;5;241m.\u001b[39mshape[\u001b[38;5;241m0\u001b[39m], x\u001b[38;5;241m.\u001b[39mshape[\u001b[38;5;241m1\u001b[39m], x\u001b[38;5;241m.\u001b[39mshape[\u001b[38;5;241m2\u001b[39m] \u001b[38;5;241m*\u001b[39m \u001b[43mx\u001b[49m\u001b[38;5;241;43m.\u001b[39;49m\u001b[43mshape\u001b[49m\u001b[43m[\u001b[49m\u001b[38;5;241;43m3\u001b[39;49m\u001b[43m]\u001b[49m)\n\u001b[1;32m    303\u001b[0m \u001b[38;5;66;03m# print(x.shape)\u001b[39;00m\n\u001b[1;32m    304\u001b[0m b, t, c \u001b[38;5;241m=\u001b[39m x\u001b[38;5;241m.\u001b[39mshape\n",
      "\u001b[0;31mIndexError\u001b[0m: tuple index out of range"
     ]
    }
   ],
   "source": [
    "from t4.timeseries_transformer2 import TransformerConfig, TransformerRunner, TransformerModel\n",
    "from t4.timeseries_transformer2_tokens import NoTokenTransformerRunner\n",
    "\n",
    "config = TimeseriesTransformerConfig(\n",
    "    batch_size=32,\n",
    "    block_size=512,\n",
    "    n_embed=32,\n",
    "    n_head=4,\n",
    "    n_layer=8,\n",
    "    kernel_size=1,\n",
    "    learning_rate=1e-3,\n",
    "    channels=num_of_channels\n",
    ")\n",
    "config.eval_interval=50\n",
    "config.input_embed=num_of_channels\n",
    "config.causal=True\n",
    "config.output_num=num_of_channels\n",
    "\n",
    "trainer1 = NoTokenTransformerRunner(config, training_data, training_data)\n",
    "\n",
    "trainer1.train_iterate_n(20000)\n"
   ]
  },
  {
   "cell_type": "code",
   "execution_count": null,
   "id": "c57e4938-6b65-4288-be06-5c2ccb49e271",
   "metadata": {},
   "outputs": [],
   "source": []
  }
 ],
 "metadata": {
  "kernelspec": {
   "display_name": "Python 3 (ipykernel)",
   "language": "python",
   "name": "python3"
  },
  "language_info": {
   "codemirror_mode": {
    "name": "ipython",
    "version": 3
   },
   "file_extension": ".py",
   "mimetype": "text/x-python",
   "name": "python",
   "nbconvert_exporter": "python",
   "pygments_lexer": "ipython3",
   "version": "3.10.12"
  }
 },
 "nbformat": 4,
 "nbformat_minor": 5
}
